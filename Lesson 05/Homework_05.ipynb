{
 "cells": [
  {
   "cell_type": "code",
   "execution_count": 1,
   "id": "possible-horizontal",
   "metadata": {},
   "outputs": [],
   "source": [
    "import pandas as pd\n",
    "import numpy as np"
   ]
  },
  {
   "cell_type": "code",
   "execution_count": 2,
   "id": "labeled-soccer",
   "metadata": {},
   "outputs": [],
   "source": [
    "from sklearn.pipeline import Pipeline, make_pipeline, FeatureUnion"
   ]
  },
  {
   "cell_type": "code",
   "execution_count": 3,
   "id": "decimal-norfolk",
   "metadata": {},
   "outputs": [],
   "source": [
    "from sklearn.base import BaseEstimator, TransformerMixin"
   ]
  },
  {
   "cell_type": "code",
   "execution_count": 4,
   "id": "billion-order",
   "metadata": {},
   "outputs": [],
   "source": [
    "from sklearn.linear_model import LogisticRegression"
   ]
  },
  {
   "cell_type": "code",
   "execution_count": 5,
   "id": "figured-death",
   "metadata": {},
   "outputs": [],
   "source": [
    "import matplotlib.pyplot as plt"
   ]
  },
  {
   "cell_type": "code",
   "execution_count": 6,
   "id": "pretty-young",
   "metadata": {},
   "outputs": [],
   "source": [
    "import itertools"
   ]
  },
  {
   "cell_type": "code",
   "execution_count": 24,
   "id": "yellow-arbitration",
   "metadata": {},
   "outputs": [],
   "source": [
    "from sklearn.ensemble import RandomForestClassifier\n",
    "from sklearn.ensemble import GradientBoostingClassifier"
   ]
  },
  {
   "cell_type": "code",
   "execution_count": 243,
   "id": "naughty-microphone",
   "metadata": {},
   "outputs": [],
   "source": [
    "from sklearn.metrics import f1_score, roc_auc_score, precision_score, roc_curve, auc\n",
    "from sklearn.metrics import classification_report, precision_recall_curve, confusion_matrix"
   ]
  },
  {
   "cell_type": "code",
   "execution_count": 242,
   "id": "above-variable",
   "metadata": {},
   "outputs": [],
   "source": [
    "from sklearn.metrics import SCORERS"
   ]
  },
  {
   "cell_type": "code",
   "execution_count": 18,
   "id": "blessed-density",
   "metadata": {},
   "outputs": [],
   "source": [
    "from sklearn.preprocessing import StandardScaler"
   ]
  },
  {
   "cell_type": "code",
   "execution_count": 9,
   "id": "informative-garden",
   "metadata": {},
   "outputs": [],
   "source": [
    "from sklearn.model_selection import GridSearchCV, RandomizedSearchCV\n",
    "from sklearn.model_selection import train_test_split"
   ]
  },
  {
   "cell_type": "code",
   "execution_count": 10,
   "id": "functioning-judges",
   "metadata": {},
   "outputs": [],
   "source": [
    "import xgboost as xgb"
   ]
  },
  {
   "cell_type": "code",
   "execution_count": 64,
   "id": "white-adoption",
   "metadata": {},
   "outputs": [],
   "source": [
    "import seaborn as sns"
   ]
  },
  {
   "cell_type": "markdown",
   "id": "connected-wages",
   "metadata": {},
   "source": [
    "#### Функции, для использования в заданиях"
   ]
  },
  {
   "cell_type": "code",
   "execution_count": 79,
   "id": "signed-minimum",
   "metadata": {},
   "outputs": [],
   "source": [
    "def plot_confusion_matrix(cm, classes,\n",
    "                          normalize=False,\n",
    "                          title='Confusion matrix',\n",
    "                          cmap=plt.cm.Blues):\n",
    "    \"\"\"\n",
    "    This function prints and plots the confusion matrix.\n",
    "    Normalization can be applied by setting `normalize=True`.\n",
    "    \"\"\"\n",
    "    plt.imshow(cm, interpolation='nearest', cmap=cmap)\n",
    "    plt.title(title)\n",
    "    plt.colorbar()\n",
    "    tick_marks = np.arange(len(classes))\n",
    "    plt.xticks(tick_marks, classes, rotation=45)\n",
    "    plt.yticks(tick_marks, classes)\n",
    "\n",
    "    if normalize:\n",
    "        cm = cm.astype('float') / cm.sum(axis=1)[:, np.newaxis]\n",
    "        print(\"Normalized confusion matrix\")\n",
    "    else:\n",
    "        print('Confusion matrix, without normalization')\n",
    "\n",
    "    print(cm)\n",
    "\n",
    "    thresh = cm.max() / 2.\n",
    "    for i, j in itertools.product(range(cm.shape[0]), range(cm.shape[1])):\n",
    "        plt.text(j, i, cm[i, j],\n",
    "                 horizontalalignment=\"center\",\n",
    "                 color=\"white\" if cm[i, j] > thresh else \"black\")\n",
    "\n",
    "    plt.tight_layout()\n",
    "    plt.ylabel('True label')\n",
    "    plt.xlabel('Predicted label')"
   ]
  },
  {
   "cell_type": "code",
   "execution_count": 136,
   "id": "surrounded-petersburg",
   "metadata": {},
   "outputs": [],
   "source": [
    "def roc_auc_curve_draw(y_test, y_pred):\n",
    "    sns.set(font_scale=1.5)\n",
    "    sns.set_color_codes(\"muted\")\n",
    "\n",
    "    plt.figure(figsize=(10, 8))\n",
    "    fpr, tpr, thresholds_ = roc_curve(y_test, y_pred, pos_label=1)# C = 0.1\n",
    "    roc_auc = auc(fpr, tpr)\n",
    "    lw = 2\n",
    "\n",
    "    plt.plot(fpr, \n",
    "             tpr, \n",
    "             lw=lw, \n",
    "             label=\"ROC curve (area = %0.2f)\" % roc_auc)    \n",
    "    plt.plot([0, 1], [0, 1])\n",
    "    plt.xlim([0.0, 1.0])\n",
    "    plt.ylim([0.0, 1.05])\n",
    "    plt.xlabel('False Positive Rate')\n",
    "    plt.ylabel('True Positive Rate')\n",
    "    plt.title('ROC curve')\n",
    "    plt.legend(loc=\"lower right\")\n",
    "    #plt.savefig(\"ROC.png\")\n",
    "    plt.show()\n",
    "    return roc_auc"
   ]
  },
  {
   "cell_type": "code",
   "execution_count": 103,
   "id": "characteristic-ecuador",
   "metadata": {},
   "outputs": [],
   "source": [
    "def precision_recall_draw(y_test, y_pred, precision, recall, n=-1):\n",
    "    plt.plot(recall[:n],precision[:n] )\n",
    "    plt.title(' точность/полнота')\n",
    "    plt.xlabel(' полнота')\n",
    "    plt.ylabel(' точность')\n",
    "    plt.grid('On')\n",
    "    plt.show()"
   ]
  },
  {
   "cell_type": "markdown",
   "id": "failing-signature",
   "metadata": {},
   "source": [
    "## Домашнее задание"
   ]
  },
  {
   "cell_type": "markdown",
   "id": "earlier-cross",
   "metadata": {},
   "source": [
    "1. Для нашего пайплайна (Case1) поэкспериментировать с разными моделями: 1 - бустинг, 2 - логистическая регрессия (не забудьте здесь добавить в cont_transformer стандартизацию - нормирование вещественных признаков)\n",
    "2. Отобрать лучшую модель по метрикам (кстати, какая по вашему мнению здесь наиболее подходящая DS-метрика)\n",
    "3. Для отобранной модели (на отложенной выборке) сделать оценку экономической эффективности при тех же вводных, как в вопросе 2 (1 доллар на привлечение, 2 доллара - с каждого правильно классифицированного (True Positive) удержанного). (подсказка) нужно посчитать FP/TP/FN/TN для выбранного оптимального порога вероятности и посчитать выручку и траты. \n",
    "4. (опционально) Провести подбор гиперпараметров лучшей модели по итогам 2-3\n",
    "5. (опционально) Еще раз провести оценку экономической эффективности"
   ]
  },
  {
   "cell_type": "markdown",
   "id": "olive-pleasure",
   "metadata": {},
   "source": [
    "### загрузка и предобработка датасета"
   ]
  },
  {
   "cell_type": "markdown",
   "id": "charming-jurisdiction",
   "metadata": {},
   "source": [
    "Загрузка датасета"
   ]
  },
  {
   "cell_type": "code",
   "execution_count": 13,
   "id": "equipped-crawford",
   "metadata": {},
   "outputs": [],
   "source": [
    "df = pd.read_csv(\"churn_data.csv\", index_col='RowNumber')"
   ]
  },
  {
   "cell_type": "code",
   "execution_count": 14,
   "id": "lined-personality",
   "metadata": {},
   "outputs": [
    {
     "data": {
      "text/html": [
       "<div>\n",
       "<style scoped>\n",
       "    .dataframe tbody tr th:only-of-type {\n",
       "        vertical-align: middle;\n",
       "    }\n",
       "\n",
       "    .dataframe tbody tr th {\n",
       "        vertical-align: top;\n",
       "    }\n",
       "\n",
       "    .dataframe thead th {\n",
       "        text-align: right;\n",
       "    }\n",
       "</style>\n",
       "<table border=\"1\" class=\"dataframe\">\n",
       "  <thead>\n",
       "    <tr style=\"text-align: right;\">\n",
       "      <th></th>\n",
       "      <th>CustomerId</th>\n",
       "      <th>Surname</th>\n",
       "      <th>CreditScore</th>\n",
       "      <th>Geography</th>\n",
       "      <th>Gender</th>\n",
       "      <th>Age</th>\n",
       "      <th>Tenure</th>\n",
       "      <th>Balance</th>\n",
       "      <th>NumOfProducts</th>\n",
       "      <th>HasCrCard</th>\n",
       "      <th>IsActiveMember</th>\n",
       "      <th>EstimatedSalary</th>\n",
       "      <th>Exited</th>\n",
       "    </tr>\n",
       "    <tr>\n",
       "      <th>RowNumber</th>\n",
       "      <th></th>\n",
       "      <th></th>\n",
       "      <th></th>\n",
       "      <th></th>\n",
       "      <th></th>\n",
       "      <th></th>\n",
       "      <th></th>\n",
       "      <th></th>\n",
       "      <th></th>\n",
       "      <th></th>\n",
       "      <th></th>\n",
       "      <th></th>\n",
       "      <th></th>\n",
       "    </tr>\n",
       "  </thead>\n",
       "  <tbody>\n",
       "    <tr>\n",
       "      <th>1</th>\n",
       "      <td>15634602</td>\n",
       "      <td>Hargrave</td>\n",
       "      <td>619</td>\n",
       "      <td>France</td>\n",
       "      <td>Female</td>\n",
       "      <td>42</td>\n",
       "      <td>2</td>\n",
       "      <td>0.00</td>\n",
       "      <td>1</td>\n",
       "      <td>1</td>\n",
       "      <td>1</td>\n",
       "      <td>101348.88</td>\n",
       "      <td>1</td>\n",
       "    </tr>\n",
       "    <tr>\n",
       "      <th>2</th>\n",
       "      <td>15647311</td>\n",
       "      <td>Hill</td>\n",
       "      <td>608</td>\n",
       "      <td>Spain</td>\n",
       "      <td>Female</td>\n",
       "      <td>41</td>\n",
       "      <td>1</td>\n",
       "      <td>83807.86</td>\n",
       "      <td>1</td>\n",
       "      <td>0</td>\n",
       "      <td>1</td>\n",
       "      <td>112542.58</td>\n",
       "      <td>0</td>\n",
       "    </tr>\n",
       "    <tr>\n",
       "      <th>3</th>\n",
       "      <td>15619304</td>\n",
       "      <td>Onio</td>\n",
       "      <td>502</td>\n",
       "      <td>France</td>\n",
       "      <td>Female</td>\n",
       "      <td>42</td>\n",
       "      <td>8</td>\n",
       "      <td>159660.80</td>\n",
       "      <td>3</td>\n",
       "      <td>1</td>\n",
       "      <td>0</td>\n",
       "      <td>113931.57</td>\n",
       "      <td>1</td>\n",
       "    </tr>\n",
       "    <tr>\n",
       "      <th>4</th>\n",
       "      <td>15701354</td>\n",
       "      <td>Boni</td>\n",
       "      <td>699</td>\n",
       "      <td>France</td>\n",
       "      <td>Female</td>\n",
       "      <td>39</td>\n",
       "      <td>1</td>\n",
       "      <td>0.00</td>\n",
       "      <td>2</td>\n",
       "      <td>0</td>\n",
       "      <td>0</td>\n",
       "      <td>93826.63</td>\n",
       "      <td>0</td>\n",
       "    </tr>\n",
       "    <tr>\n",
       "      <th>5</th>\n",
       "      <td>15737888</td>\n",
       "      <td>Mitchell</td>\n",
       "      <td>850</td>\n",
       "      <td>Spain</td>\n",
       "      <td>Female</td>\n",
       "      <td>43</td>\n",
       "      <td>2</td>\n",
       "      <td>125510.82</td>\n",
       "      <td>1</td>\n",
       "      <td>1</td>\n",
       "      <td>1</td>\n",
       "      <td>79084.10</td>\n",
       "      <td>0</td>\n",
       "    </tr>\n",
       "  </tbody>\n",
       "</table>\n",
       "</div>"
      ],
      "text/plain": [
       "           CustomerId   Surname  CreditScore Geography  Gender  Age  Tenure  \\\n",
       "RowNumber                                                                     \n",
       "1            15634602  Hargrave          619    France  Female   42       2   \n",
       "2            15647311      Hill          608     Spain  Female   41       1   \n",
       "3            15619304      Onio          502    France  Female   42       8   \n",
       "4            15701354      Boni          699    France  Female   39       1   \n",
       "5            15737888  Mitchell          850     Spain  Female   43       2   \n",
       "\n",
       "             Balance  NumOfProducts  HasCrCard  IsActiveMember  \\\n",
       "RowNumber                                                        \n",
       "1               0.00              1          1               1   \n",
       "2           83807.86              1          0               1   \n",
       "3          159660.80              3          1               0   \n",
       "4               0.00              2          0               0   \n",
       "5          125510.82              1          1               1   \n",
       "\n",
       "           EstimatedSalary  Exited  \n",
       "RowNumber                           \n",
       "1                101348.88       1  \n",
       "2                112542.58       0  \n",
       "3                113931.57       1  \n",
       "4                 93826.63       0  \n",
       "5                 79084.10       0  "
      ]
     },
     "execution_count": 14,
     "metadata": {},
     "output_type": "execute_result"
    }
   ],
   "source": [
    "df.head()"
   ]
  },
  {
   "cell_type": "markdown",
   "id": "fatty-summary",
   "metadata": {},
   "source": [
    "Характеристики данных в датасете"
   ]
  },
  {
   "cell_type": "code",
   "execution_count": 15,
   "id": "approximate-holder",
   "metadata": {},
   "outputs": [
    {
     "data": {
      "text/html": [
       "<div>\n",
       "<style scoped>\n",
       "    .dataframe tbody tr th:only-of-type {\n",
       "        vertical-align: middle;\n",
       "    }\n",
       "\n",
       "    .dataframe tbody tr th {\n",
       "        vertical-align: top;\n",
       "    }\n",
       "\n",
       "    .dataframe thead th {\n",
       "        text-align: right;\n",
       "    }\n",
       "</style>\n",
       "<table border=\"1\" class=\"dataframe\">\n",
       "  <thead>\n",
       "    <tr style=\"text-align: right;\">\n",
       "      <th></th>\n",
       "      <th>CustomerId</th>\n",
       "      <th>CreditScore</th>\n",
       "      <th>Age</th>\n",
       "      <th>Tenure</th>\n",
       "      <th>Balance</th>\n",
       "      <th>NumOfProducts</th>\n",
       "      <th>HasCrCard</th>\n",
       "      <th>IsActiveMember</th>\n",
       "      <th>EstimatedSalary</th>\n",
       "      <th>Exited</th>\n",
       "    </tr>\n",
       "  </thead>\n",
       "  <tbody>\n",
       "    <tr>\n",
       "      <th>count</th>\n",
       "      <td>1.000000e+04</td>\n",
       "      <td>10000.000000</td>\n",
       "      <td>10000.000000</td>\n",
       "      <td>10000.000000</td>\n",
       "      <td>10000.000000</td>\n",
       "      <td>10000.000000</td>\n",
       "      <td>10000.00000</td>\n",
       "      <td>10000.000000</td>\n",
       "      <td>10000.000000</td>\n",
       "      <td>10000.000000</td>\n",
       "    </tr>\n",
       "    <tr>\n",
       "      <th>mean</th>\n",
       "      <td>1.569094e+07</td>\n",
       "      <td>650.528800</td>\n",
       "      <td>38.921800</td>\n",
       "      <td>5.012800</td>\n",
       "      <td>76485.889288</td>\n",
       "      <td>1.530200</td>\n",
       "      <td>0.70550</td>\n",
       "      <td>0.515100</td>\n",
       "      <td>100090.239881</td>\n",
       "      <td>0.203700</td>\n",
       "    </tr>\n",
       "    <tr>\n",
       "      <th>std</th>\n",
       "      <td>7.193619e+04</td>\n",
       "      <td>96.653299</td>\n",
       "      <td>10.487806</td>\n",
       "      <td>2.892174</td>\n",
       "      <td>62397.405202</td>\n",
       "      <td>0.581654</td>\n",
       "      <td>0.45584</td>\n",
       "      <td>0.499797</td>\n",
       "      <td>57510.492818</td>\n",
       "      <td>0.402769</td>\n",
       "    </tr>\n",
       "    <tr>\n",
       "      <th>min</th>\n",
       "      <td>1.556570e+07</td>\n",
       "      <td>350.000000</td>\n",
       "      <td>18.000000</td>\n",
       "      <td>0.000000</td>\n",
       "      <td>0.000000</td>\n",
       "      <td>1.000000</td>\n",
       "      <td>0.00000</td>\n",
       "      <td>0.000000</td>\n",
       "      <td>11.580000</td>\n",
       "      <td>0.000000</td>\n",
       "    </tr>\n",
       "    <tr>\n",
       "      <th>25%</th>\n",
       "      <td>1.562853e+07</td>\n",
       "      <td>584.000000</td>\n",
       "      <td>32.000000</td>\n",
       "      <td>3.000000</td>\n",
       "      <td>0.000000</td>\n",
       "      <td>1.000000</td>\n",
       "      <td>0.00000</td>\n",
       "      <td>0.000000</td>\n",
       "      <td>51002.110000</td>\n",
       "      <td>0.000000</td>\n",
       "    </tr>\n",
       "    <tr>\n",
       "      <th>50%</th>\n",
       "      <td>1.569074e+07</td>\n",
       "      <td>652.000000</td>\n",
       "      <td>37.000000</td>\n",
       "      <td>5.000000</td>\n",
       "      <td>97198.540000</td>\n",
       "      <td>1.000000</td>\n",
       "      <td>1.00000</td>\n",
       "      <td>1.000000</td>\n",
       "      <td>100193.915000</td>\n",
       "      <td>0.000000</td>\n",
       "    </tr>\n",
       "    <tr>\n",
       "      <th>75%</th>\n",
       "      <td>1.575323e+07</td>\n",
       "      <td>718.000000</td>\n",
       "      <td>44.000000</td>\n",
       "      <td>7.000000</td>\n",
       "      <td>127644.240000</td>\n",
       "      <td>2.000000</td>\n",
       "      <td>1.00000</td>\n",
       "      <td>1.000000</td>\n",
       "      <td>149388.247500</td>\n",
       "      <td>0.000000</td>\n",
       "    </tr>\n",
       "    <tr>\n",
       "      <th>max</th>\n",
       "      <td>1.581569e+07</td>\n",
       "      <td>850.000000</td>\n",
       "      <td>92.000000</td>\n",
       "      <td>10.000000</td>\n",
       "      <td>250898.090000</td>\n",
       "      <td>4.000000</td>\n",
       "      <td>1.00000</td>\n",
       "      <td>1.000000</td>\n",
       "      <td>199992.480000</td>\n",
       "      <td>1.000000</td>\n",
       "    </tr>\n",
       "  </tbody>\n",
       "</table>\n",
       "</div>"
      ],
      "text/plain": [
       "         CustomerId   CreditScore           Age        Tenure        Balance  \\\n",
       "count  1.000000e+04  10000.000000  10000.000000  10000.000000   10000.000000   \n",
       "mean   1.569094e+07    650.528800     38.921800      5.012800   76485.889288   \n",
       "std    7.193619e+04     96.653299     10.487806      2.892174   62397.405202   \n",
       "min    1.556570e+07    350.000000     18.000000      0.000000       0.000000   \n",
       "25%    1.562853e+07    584.000000     32.000000      3.000000       0.000000   \n",
       "50%    1.569074e+07    652.000000     37.000000      5.000000   97198.540000   \n",
       "75%    1.575323e+07    718.000000     44.000000      7.000000  127644.240000   \n",
       "max    1.581569e+07    850.000000     92.000000     10.000000  250898.090000   \n",
       "\n",
       "       NumOfProducts    HasCrCard  IsActiveMember  EstimatedSalary  \\\n",
       "count   10000.000000  10000.00000    10000.000000     10000.000000   \n",
       "mean        1.530200      0.70550        0.515100    100090.239881   \n",
       "std         0.581654      0.45584        0.499797     57510.492818   \n",
       "min         1.000000      0.00000        0.000000        11.580000   \n",
       "25%         1.000000      0.00000        0.000000     51002.110000   \n",
       "50%         1.000000      1.00000        1.000000    100193.915000   \n",
       "75%         2.000000      1.00000        1.000000    149388.247500   \n",
       "max         4.000000      1.00000        1.000000    199992.480000   \n",
       "\n",
       "             Exited  \n",
       "count  10000.000000  \n",
       "mean       0.203700  \n",
       "std        0.402769  \n",
       "min        0.000000  \n",
       "25%        0.000000  \n",
       "50%        0.000000  \n",
       "75%        0.000000  \n",
       "max        1.000000  "
      ]
     },
     "execution_count": 15,
     "metadata": {},
     "output_type": "execute_result"
    }
   ],
   "source": [
    "df.describe()"
   ]
  },
  {
   "cell_type": "markdown",
   "id": "adjacent-alfred",
   "metadata": {},
   "source": [
    "Проверка соотношения классов"
   ]
  },
  {
   "cell_type": "code",
   "execution_count": 16,
   "id": "czech-missile",
   "metadata": {},
   "outputs": [
    {
     "data": {
      "text/plain": [
       "0    7963\n",
       "1    2037\n",
       "Name: Exited, dtype: int64"
      ]
     },
     "execution_count": 16,
     "metadata": {},
     "output_type": "execute_result"
    }
   ],
   "source": [
    "df['Exited'].value_counts()"
   ]
  },
  {
   "cell_type": "markdown",
   "id": "phantom-anniversary",
   "metadata": {},
   "source": [
    "Проверка датасета га NaN значения"
   ]
  },
  {
   "cell_type": "code",
   "execution_count": 17,
   "id": "blank-master",
   "metadata": {
    "scrolled": true
   },
   "outputs": [
    {
     "data": {
      "text/plain": [
       "CustomerId         0\n",
       "Surname            0\n",
       "CreditScore        0\n",
       "Geography          0\n",
       "Gender             0\n",
       "Age                0\n",
       "Tenure             0\n",
       "Balance            0\n",
       "NumOfProducts      0\n",
       "HasCrCard          0\n",
       "IsActiveMember     0\n",
       "EstimatedSalary    0\n",
       "Exited             0\n",
       "dtype: int64"
      ]
     },
     "execution_count": 17,
     "metadata": {},
     "output_type": "execute_result"
    }
   ],
   "source": [
    "df.isna().sum()"
   ]
  },
  {
   "cell_type": "markdown",
   "id": "formal-target",
   "metadata": {},
   "source": [
    "----------"
   ]
  },
  {
   "cell_type": "markdown",
   "id": "unlimited-biography",
   "metadata": {},
   "source": [
    "### Задание 1"
   ]
  },
  {
   "cell_type": "markdown",
   "id": "sonic-pocket",
   "metadata": {},
   "source": [
    "1. Для нашего пайплайна (Case1) поэкспериментировать с разными моделями: 1 - бустинг, 2 - логистическая регрессия (не забудьте здесь добавить в cont_transformer стандартизацию - нормирование вещественных признаков)"
   ]
  },
  {
   "cell_type": "markdown",
   "id": "architectural-drinking",
   "metadata": {},
   "source": [
    "Создаем обработчики, которые будут использованы в пайплайне."
   ]
  },
  {
   "cell_type": "code",
   "execution_count": 30,
   "id": "comparable-phone",
   "metadata": {},
   "outputs": [],
   "source": [
    "class FeatureSelector(BaseEstimator, TransformerMixin):\n",
    "    def __init__(self, column):\n",
    "        self.column = column\n",
    "\n",
    "    def fit(self, X, y=None):\n",
    "        return self\n",
    "\n",
    "    def transform(self, X, y=None):\n",
    "        return X[self.column]\n",
    "    \n",
    "class NumberSelector(BaseEstimator, TransformerMixin):\n",
    "    \"\"\"\n",
    "    Transformer to select a single column from the data frame to perform additional transformations on\n",
    "    Use on numeric columns in the data\n",
    "    \"\"\"\n",
    "    def __init__(self, key):\n",
    "        self.key = key\n",
    "\n",
    "    def fit(self, X, y=None):\n",
    "        return self\n",
    "\n",
    "    def transform(self, X):\n",
    "        return X[[self.key]]\n",
    "    \n",
    "class OHEEncoder(BaseEstimator, TransformerMixin):\n",
    "    \"\"\"Implements get_dummies method for Categorial columns.\"\"\"\n",
    "    def __init__(self, key):\n",
    "        self.key = key\n",
    "        self.columns = []\n",
    "\n",
    "    def fit(self, X, y=None):\n",
    "        self.columns = [col for col in pd.get_dummies(X, prefix=self.key).columns]\n",
    "        return self\n",
    "\n",
    "    def transform(self, X):\n",
    "        X = pd.get_dummies(X, prefix=self.key)\n",
    "        test_columns = [col for col in X.columns]\n",
    "        for col_ in self.columns:\n",
    "            if col_ not in test_columns:\n",
    "                X[col_] = 0\n",
    "        return X[self.columns]"
   ]
  },
  {
   "cell_type": "markdown",
   "id": "conscious-exemption",
   "metadata": {},
   "source": [
    "Создаем список категориальных и непрерывных переменных."
   ]
  },
  {
   "cell_type": "code",
   "execution_count": 20,
   "id": "handmade-ghost",
   "metadata": {},
   "outputs": [
    {
     "data": {
      "text/plain": [
       "Index(['CustomerId', 'Surname', 'CreditScore', 'Geography', 'Gender', 'Age',\n",
       "       'Tenure', 'Balance', 'NumOfProducts', 'HasCrCard', 'IsActiveMember',\n",
       "       'EstimatedSalary', 'Exited'],\n",
       "      dtype='object')"
      ]
     },
     "execution_count": 20,
     "metadata": {},
     "output_type": "execute_result"
    }
   ],
   "source": [
    "df.columns"
   ]
  },
  {
   "cell_type": "code",
   "execution_count": 21,
   "id": "timely-glory",
   "metadata": {},
   "outputs": [],
   "source": [
    "categorical_columns = ['Geography', 'Gender', 'Tenure', 'HasCrCard', 'IsActiveMember']\n",
    "continuous_columns = ['CreditScore', 'Age', 'Balance', 'NumOfProducts', 'EstimatedSalary']"
   ]
  },
  {
   "cell_type": "markdown",
   "id": "random-london",
   "metadata": {},
   "source": [
    "Часть полей не содержит какой-либо ниформации влияющей на результат и поэтому они будут отброшены."
   ]
  },
  {
   "cell_type": "code",
   "execution_count": 22,
   "id": "integral-project",
   "metadata": {},
   "outputs": [],
   "source": [
    "y = df['Exited']"
   ]
  },
  {
   "cell_type": "code",
   "execution_count": 23,
   "id": "adapted-aircraft",
   "metadata": {},
   "outputs": [],
   "source": [
    "X = df.drop(['CustomerId', 'Surname', 'Exited'], axis = 1)"
   ]
  },
  {
   "cell_type": "markdown",
   "id": "insured-trinidad",
   "metadata": {},
   "source": [
    "Разбиваем обработанный датасет на тестовую и тренировочную выборки."
   ]
  },
  {
   "cell_type": "code",
   "execution_count": 25,
   "id": "damaged-involvement",
   "metadata": {},
   "outputs": [],
   "source": [
    "X_train, X_test, y_train, y_test = train_test_split(X, y, random_state=53)"
   ]
  },
  {
   "cell_type": "code",
   "execution_count": 27,
   "id": "convinced-eagle",
   "metadata": {},
   "outputs": [
    {
     "data": {
      "text/html": [
       "<div>\n",
       "<style scoped>\n",
       "    .dataframe tbody tr th:only-of-type {\n",
       "        vertical-align: middle;\n",
       "    }\n",
       "\n",
       "    .dataframe tbody tr th {\n",
       "        vertical-align: top;\n",
       "    }\n",
       "\n",
       "    .dataframe thead th {\n",
       "        text-align: right;\n",
       "    }\n",
       "</style>\n",
       "<table border=\"1\" class=\"dataframe\">\n",
       "  <thead>\n",
       "    <tr style=\"text-align: right;\">\n",
       "      <th></th>\n",
       "      <th>CreditScore</th>\n",
       "      <th>Geography</th>\n",
       "      <th>Gender</th>\n",
       "      <th>Age</th>\n",
       "      <th>Tenure</th>\n",
       "      <th>Balance</th>\n",
       "      <th>NumOfProducts</th>\n",
       "      <th>HasCrCard</th>\n",
       "      <th>IsActiveMember</th>\n",
       "      <th>EstimatedSalary</th>\n",
       "    </tr>\n",
       "    <tr>\n",
       "      <th>RowNumber</th>\n",
       "      <th></th>\n",
       "      <th></th>\n",
       "      <th></th>\n",
       "      <th></th>\n",
       "      <th></th>\n",
       "      <th></th>\n",
       "      <th></th>\n",
       "      <th></th>\n",
       "      <th></th>\n",
       "      <th></th>\n",
       "    </tr>\n",
       "  </thead>\n",
       "  <tbody>\n",
       "    <tr>\n",
       "      <th>1</th>\n",
       "      <td>619</td>\n",
       "      <td>France</td>\n",
       "      <td>Female</td>\n",
       "      <td>42</td>\n",
       "      <td>2</td>\n",
       "      <td>0.00</td>\n",
       "      <td>1</td>\n",
       "      <td>1</td>\n",
       "      <td>1</td>\n",
       "      <td>101348.88</td>\n",
       "    </tr>\n",
       "    <tr>\n",
       "      <th>2</th>\n",
       "      <td>608</td>\n",
       "      <td>Spain</td>\n",
       "      <td>Female</td>\n",
       "      <td>41</td>\n",
       "      <td>1</td>\n",
       "      <td>83807.86</td>\n",
       "      <td>1</td>\n",
       "      <td>0</td>\n",
       "      <td>1</td>\n",
       "      <td>112542.58</td>\n",
       "    </tr>\n",
       "    <tr>\n",
       "      <th>3</th>\n",
       "      <td>502</td>\n",
       "      <td>France</td>\n",
       "      <td>Female</td>\n",
       "      <td>42</td>\n",
       "      <td>8</td>\n",
       "      <td>159660.80</td>\n",
       "      <td>3</td>\n",
       "      <td>1</td>\n",
       "      <td>0</td>\n",
       "      <td>113931.57</td>\n",
       "    </tr>\n",
       "    <tr>\n",
       "      <th>4</th>\n",
       "      <td>699</td>\n",
       "      <td>France</td>\n",
       "      <td>Female</td>\n",
       "      <td>39</td>\n",
       "      <td>1</td>\n",
       "      <td>0.00</td>\n",
       "      <td>2</td>\n",
       "      <td>0</td>\n",
       "      <td>0</td>\n",
       "      <td>93826.63</td>\n",
       "    </tr>\n",
       "    <tr>\n",
       "      <th>5</th>\n",
       "      <td>850</td>\n",
       "      <td>Spain</td>\n",
       "      <td>Female</td>\n",
       "      <td>43</td>\n",
       "      <td>2</td>\n",
       "      <td>125510.82</td>\n",
       "      <td>1</td>\n",
       "      <td>1</td>\n",
       "      <td>1</td>\n",
       "      <td>79084.10</td>\n",
       "    </tr>\n",
       "  </tbody>\n",
       "</table>\n",
       "</div>"
      ],
      "text/plain": [
       "           CreditScore Geography  Gender  Age  Tenure    Balance  \\\n",
       "RowNumber                                                          \n",
       "1                  619    France  Female   42       2       0.00   \n",
       "2                  608     Spain  Female   41       1   83807.86   \n",
       "3                  502    France  Female   42       8  159660.80   \n",
       "4                  699    France  Female   39       1       0.00   \n",
       "5                  850     Spain  Female   43       2  125510.82   \n",
       "\n",
       "           NumOfProducts  HasCrCard  IsActiveMember  EstimatedSalary  \n",
       "RowNumber                                                             \n",
       "1                      1          1               1        101348.88  \n",
       "2                      1          0               1        112542.58  \n",
       "3                      3          1               0        113931.57  \n",
       "4                      2          0               0         93826.63  \n",
       "5                      1          1               1         79084.10  "
      ]
     },
     "execution_count": 27,
     "metadata": {},
     "output_type": "execute_result"
    }
   ],
   "source": [
    "X.head()"
   ]
  },
  {
   "cell_type": "code",
   "execution_count": 28,
   "id": "interracial-revelation",
   "metadata": {},
   "outputs": [
    {
     "data": {
      "text/plain": [
       "RowNumber\n",
       "1    1\n",
       "2    0\n",
       "3    1\n",
       "4    0\n",
       "5    0\n",
       "Name: Exited, dtype: int64"
      ]
     },
     "execution_count": 28,
     "metadata": {},
     "output_type": "execute_result"
    }
   ],
   "source": [
    "y.head()"
   ]
  },
  {
   "cell_type": "markdown",
   "id": "baking-watts",
   "metadata": {},
   "source": [
    "Создаем пайплайн для последующего процессинга"
   ]
  },
  {
   "cell_type": "code",
   "execution_count": 31,
   "id": "configured-finger",
   "metadata": {},
   "outputs": [],
   "source": [
    "final_transformers = list()\n",
    "\n",
    "for cat_col in categorical_columns:\n",
    "    cat_transformer = Pipeline([\n",
    "                ('selector', FeatureSelector(column=cat_col)),\n",
    "                ('ohe', OHEEncoder(key=cat_col))\n",
    "            ])\n",
    "    final_transformers.append((cat_col, cat_transformer))\n",
    "    \n",
    "for cont_col in continuous_columns:\n",
    "    cont_transformer = Pipeline([\n",
    "                ('selector', NumberSelector(key=cont_col)),\n",
    "                ('standard', StandardScaler())\n",
    "            ])\n",
    "    final_transformers.append((cont_col, cont_transformer))"
   ]
  },
  {
   "cell_type": "code",
   "execution_count": 32,
   "id": "informal-senior",
   "metadata": {},
   "outputs": [],
   "source": [
    "feats = FeatureUnion(final_transformers)\n",
    "\n",
    "feature_processing = Pipeline([('feats', feats)])"
   ]
  },
  {
   "cell_type": "code",
   "execution_count": null,
   "id": "swiss-reference",
   "metadata": {},
   "outputs": [],
   "source": [
    "pipeline = Pipeline([\n",
    "    ('features',feats),\n",
    "    ('classifier', RandomForestClassifier(random_state = 42,class_weight={0:1,1:4} )),\n",
    "])"
   ]
  },
  {
   "cell_type": "markdown",
   "id": "suspected-ebony",
   "metadata": {},
   "source": [
    "Проверка соотношения классов для последующего назначения весов"
   ]
  },
  {
   "cell_type": "code",
   "execution_count": 46,
   "id": "acknowledged-sailing",
   "metadata": {},
   "outputs": [],
   "source": [
    "ratio = df['Exited'][df['Exited']== 1].value_counts()/df['Exited'].count()\n",
    "ratio_1 = 1/ratio\n",
    "ratio_0 = 1/(1 - ratio)"
   ]
  },
  {
   "cell_type": "code",
   "execution_count": 47,
   "id": "exclusive-consultancy",
   "metadata": {},
   "outputs": [
    {
     "data": {
      "text/plain": [
       "4.909180166912126"
      ]
     },
     "execution_count": 47,
     "metadata": {},
     "output_type": "execute_result"
    }
   ],
   "source": [
    "ratio_1[1]"
   ]
  },
  {
   "cell_type": "code",
   "execution_count": 48,
   "id": "close-bhutan",
   "metadata": {},
   "outputs": [
    {
     "data": {
      "text/plain": [
       "1.2558081125204068"
      ]
     },
     "execution_count": 48,
     "metadata": {},
     "output_type": "execute_result"
    }
   ],
   "source": [
    "ratio_0[1]"
   ]
  },
  {
   "cell_type": "markdown",
   "id": "spread-style",
   "metadata": {},
   "source": [
    "Создание датафрэйма для хранения результатов"
   ]
  },
  {
   "cell_type": "code",
   "execution_count": 157,
   "id": "homeless-fishing",
   "metadata": {},
   "outputs": [],
   "source": [
    "results_df = pd.DataFrame(columns = ['Model','threshold','Recall', 'Precision','F1 max', 'Auc'])"
   ]
  },
  {
   "cell_type": "code",
   "execution_count": 158,
   "id": "authentic-motivation",
   "metadata": {},
   "outputs": [
    {
     "data": {
      "text/html": [
       "<div>\n",
       "<style scoped>\n",
       "    .dataframe tbody tr th:only-of-type {\n",
       "        vertical-align: middle;\n",
       "    }\n",
       "\n",
       "    .dataframe tbody tr th {\n",
       "        vertical-align: top;\n",
       "    }\n",
       "\n",
       "    .dataframe thead th {\n",
       "        text-align: right;\n",
       "    }\n",
       "</style>\n",
       "<table border=\"1\" class=\"dataframe\">\n",
       "  <thead>\n",
       "    <tr style=\"text-align: right;\">\n",
       "      <th></th>\n",
       "      <th>Model</th>\n",
       "      <th>threshold</th>\n",
       "      <th>Recall</th>\n",
       "      <th>Precision</th>\n",
       "      <th>F1 max</th>\n",
       "      <th>Auc</th>\n",
       "    </tr>\n",
       "  </thead>\n",
       "  <tbody>\n",
       "  </tbody>\n",
       "</table>\n",
       "</div>"
      ],
      "text/plain": [
       "Empty DataFrame\n",
       "Columns: [Model, threshold, Recall, Precision, F1 max, Auc]\n",
       "Index: []"
      ]
     },
     "execution_count": 158,
     "metadata": {},
     "output_type": "execute_result"
    }
   ],
   "source": [
    "results_df.head()"
   ]
  },
  {
   "cell_type": "markdown",
   "id": "alleged-climate",
   "metadata": {},
   "source": [
    "Для выполнения домашнего задания будем использовать несколько вариантов моделей:\n",
    "- градиентный бустинг\n",
    "- random Forest"
   ]
  },
  {
   "cell_type": "markdown",
   "id": "computational-group",
   "metadata": {},
   "source": [
    "#### Random Forest"
   ]
  },
  {
   "cell_type": "markdown",
   "id": "subjective-defeat",
   "metadata": {},
   "source": [
    "Объединим все это в единый пайплайн"
   ]
  },
  {
   "cell_type": "code",
   "execution_count": 66,
   "id": "reverse-title",
   "metadata": {},
   "outputs": [],
   "source": [
    "pipeline_rf = Pipeline([\n",
    "    ('features',feats),\n",
    "    ('classifier', RandomForestClassifier(random_state = 42,class_weight={0:ratio_0[1],1:ratio_1[1]} )),\n",
    "])"
   ]
  },
  {
   "cell_type": "markdown",
   "id": "referenced-abortion",
   "metadata": {},
   "source": [
    "Тренировка модели"
   ]
  },
  {
   "cell_type": "code",
   "execution_count": 67,
   "id": "sensitive-rebecca",
   "metadata": {},
   "outputs": [
    {
     "data": {
      "text/plain": [
       "Pipeline(steps=[('features',\n",
       "                 FeatureUnion(transformer_list=[('Geography',\n",
       "                                                 Pipeline(steps=[('selector',\n",
       "                                                                  FeatureSelector(column='Geography')),\n",
       "                                                                 ('ohe',\n",
       "                                                                  OHEEncoder(key='Geography'))])),\n",
       "                                                ('Gender',\n",
       "                                                 Pipeline(steps=[('selector',\n",
       "                                                                  FeatureSelector(column='Gender')),\n",
       "                                                                 ('ohe',\n",
       "                                                                  OHEEncoder(key='Gender'))])),\n",
       "                                                ('Tenure',\n",
       "                                                 Pipeline(steps=[('selector',\n",
       "                                                                  FeatureSelector(column='Tenu...\n",
       "                                                                  StandardScaler())])),\n",
       "                                                ('NumOfProducts',\n",
       "                                                 Pipeline(steps=[('selector',\n",
       "                                                                  NumberSelector(key='NumOfProducts')),\n",
       "                                                                 ('standard',\n",
       "                                                                  StandardScaler())])),\n",
       "                                                ('EstimatedSalary',\n",
       "                                                 Pipeline(steps=[('selector',\n",
       "                                                                  NumberSelector(key='EstimatedSalary')),\n",
       "                                                                 ('standard',\n",
       "                                                                  StandardScaler())]))])),\n",
       "                ('classifier',\n",
       "                 RandomForestClassifier(class_weight={0: 1.2558081125204068,\n",
       "                                                      1: 4.909180166912126},\n",
       "                                        random_state=42))])"
      ]
     },
     "execution_count": 67,
     "metadata": {},
     "output_type": "execute_result"
    }
   ],
   "source": [
    "pipeline_rf.fit(X_train, y_train)"
   ]
  },
  {
   "cell_type": "markdown",
   "id": "becoming-grammar",
   "metadata": {},
   "source": [
    "Получение вероятностей на тестовой выборке"
   ]
  },
  {
   "cell_type": "code",
   "execution_count": 74,
   "id": "vanilla-telling",
   "metadata": {},
   "outputs": [
    {
     "data": {
      "text/plain": [
       "array([0.01, 0.74, 0.03, 0.2 , 0.27, 0.61, 0.1 , 0.05, 0.04, 0.53, 0.31,\n",
       "       0.02, 0.52, 0.09, 0.22])"
      ]
     },
     "execution_count": 74,
     "metadata": {},
     "output_type": "execute_result"
    }
   ],
   "source": [
    "y_pred_rf = pipeline_rf.predict_proba(X_test)[:, 1]\n",
    "y_pred_rf[:15]"
   ]
  },
  {
   "cell_type": "markdown",
   "id": "abandoned-glucose",
   "metadata": {},
   "source": [
    "Определение метрик для последующего анализа."
   ]
  },
  {
   "cell_type": "code",
   "execution_count": 75,
   "id": "italian-cloud",
   "metadata": {},
   "outputs": [],
   "source": [
    "precision_rf, recall_rf, thresholds_rf = precision_recall_curve(y_test, y_pred_rf)"
   ]
  },
  {
   "cell_type": "code",
   "execution_count": 76,
   "id": "hired-andrews",
   "metadata": {},
   "outputs": [],
   "source": [
    "fscore_rf = (2 * precision_rf * recall_rf) / (precision_rf + recall_rf)"
   ]
  },
  {
   "cell_type": "markdown",
   "id": "continuous-dairy",
   "metadata": {},
   "source": [
    "Определение индекса и связанных величин для высшего значения F1 метрики"
   ]
  },
  {
   "cell_type": "code",
   "execution_count": 81,
   "id": "efficient-translation",
   "metadata": {},
   "outputs": [
    {
     "name": "stdout",
     "output_type": "stream",
     "text": [
      "Best Threshold=0.370000, F-Score=0.614, Precision=0.659, Recall=0.575\n"
     ]
    }
   ],
   "source": [
    "ix_rf = np.argmax(fscore_rf)\n",
    "print('Best Threshold=%f, F-Score=%.3f, Precision=%.3f, Recall=%.3f' % (thresholds_rf[ix_rf], \n",
    "                                                                        fscore_rf[ix_rf],\n",
    "                                                                        precision_rf[ix_rf],\n",
    "                                                                        recall_rf[ix_rf]))"
   ]
  },
  {
   "cell_type": "markdown",
   "id": "burning-steam",
   "metadata": {},
   "source": [
    "Построение матрицы ошибок"
   ]
  },
  {
   "cell_type": "code",
   "execution_count": 82,
   "id": "separated-series",
   "metadata": {
    "scrolled": false
   },
   "outputs": [
    {
     "name": "stdout",
     "output_type": "stream",
     "text": [
      "Confusion matrix, without normalization\n",
      "[[1836  146]\n",
      " [ 227  291]]\n"
     ]
    },
    {
     "data": {
      "image/png": "[encoded data removed]",
      "text/plain": [
       "<Figure size 720x576 with 2 Axes>"
      ]
     },
     "metadata": {},
     "output_type": "display_data"
    }
   ],
   "source": [
    "font = {'size' : 15}\n",
    "\n",
    "plt.rc('font', **font)\n",
    "\n",
    "cnf_matrix_rf = confusion_matrix(y_test, y_pred_rf>thresholds_rf[ix_rf])\n",
    "plt.figure(figsize=(10, 8))\n",
    "plot_confusion_matrix(cnf_matrix_rf, classes=['Not exited', 'Exited'],\n",
    "                      title='Confusion matrix')\n",
    "#plt.savefig(\"conf_matrix.png\")\n",
    "plt.show()"
   ]
  },
  {
   "cell_type": "markdown",
   "id": "fatty-double",
   "metadata": {},
   "source": [
    "Построение графика точность/полнота"
   ]
  },
  {
   "cell_type": "code",
   "execution_count": 109,
   "id": "innocent-guatemala",
   "metadata": {},
   "outputs": [
    {
     "data": {
      "image/png": "[encoded data removed]",
      "text/plain": [
       "<Figure size 432x288 with 1 Axes>"
      ]
     },
     "metadata": {},
     "output_type": "display_data"
    }
   ],
   "source": [
    "precision_recall_draw(y_test, y_pred_rf, precision_rf, recall_rf)"
   ]
  },
  {
   "cell_type": "markdown",
   "id": "marked-pipeline",
   "metadata": {},
   "source": [
    "Построение ROC AUC кривой"
   ]
  },
  {
   "cell_type": "code",
   "execution_count": 137,
   "id": "progressive-algeria",
   "metadata": {
    "scrolled": false
   },
   "outputs": [
    {
     "data": {
      "image/png": "[encoded data removed]",
      "text/plain": [
       "<Figure size 720x576 with 1 Axes>"
      ]
     },
     "metadata": {},
     "output_type": "display_data"
    }
   ],
   "source": [
    "auc_rf = roc_auc_curve_draw(y_test, y_pred_rf)"
   ]
  },
  {
   "cell_type": "code",
   "execution_count": 166,
   "id": "diverse-prince",
   "metadata": {},
   "outputs": [],
   "source": [
    "results_df = results_df.append({'Model':'Random Forest', \n",
    "                   'threshold':thresholds_rf[ix_rf], \n",
    "                   'Recall': recall_rf[ix_rf], \n",
    "                   'Precision':precision_rf[ix_rf], \n",
    "                   'F1 max':fscore_rf[ix_rf],\n",
    "                    'Auc' : auc_rf}\n",
    "                  , ignore_index=True)"
   ]
  },
  {
   "cell_type": "markdown",
   "id": "swedish-virgin",
   "metadata": {},
   "source": [
    "### Gradient Boosting"
   ]
  },
  {
   "cell_type": "markdown",
   "id": "diverse-mounting",
   "metadata": {},
   "source": [
    "Единый пайплайн для градиентного бустинга"
   ]
  },
  {
   "cell_type": "code",
   "execution_count": 69,
   "id": "handed-privilege",
   "metadata": {},
   "outputs": [],
   "source": [
    "pipeline_gb = Pipeline([\n",
    "    ('features',feats),\n",
    "    ('classifier', GradientBoostingClassifier(n_estimators = 200, \n",
    "                                              random_state = 42,\n",
    "                                              )),\n",
    "])"
   ]
  },
  {
   "cell_type": "markdown",
   "id": "special-tomato",
   "metadata": {},
   "source": [
    "Тренировка модели"
   ]
  },
  {
   "cell_type": "code",
   "execution_count": 71,
   "id": "emotional-australian",
   "metadata": {},
   "outputs": [
    {
     "data": {
      "text/plain": [
       "Pipeline(steps=[('features',\n",
       "                 FeatureUnion(transformer_list=[('Geography',\n",
       "                                                 Pipeline(steps=[('selector',\n",
       "                                                                  FeatureSelector(column='Geography')),\n",
       "                                                                 ('ohe',\n",
       "                                                                  OHEEncoder(key='Geography'))])),\n",
       "                                                ('Gender',\n",
       "                                                 Pipeline(steps=[('selector',\n",
       "                                                                  FeatureSelector(column='Gender')),\n",
       "                                                                 ('ohe',\n",
       "                                                                  OHEEncoder(key='Gender'))])),\n",
       "                                                ('Tenure',\n",
       "                                                 Pipeline(steps=[('selector',\n",
       "                                                                  FeatureSelector(column='Tenu...\n",
       "                                                                  NumberSelector(key='Balance')),\n",
       "                                                                 ('standard',\n",
       "                                                                  StandardScaler())])),\n",
       "                                                ('NumOfProducts',\n",
       "                                                 Pipeline(steps=[('selector',\n",
       "                                                                  NumberSelector(key='NumOfProducts')),\n",
       "                                                                 ('standard',\n",
       "                                                                  StandardScaler())])),\n",
       "                                                ('EstimatedSalary',\n",
       "                                                 Pipeline(steps=[('selector',\n",
       "                                                                  NumberSelector(key='EstimatedSalary')),\n",
       "                                                                 ('standard',\n",
       "                                                                  StandardScaler())]))])),\n",
       "                ('classifier',\n",
       "                 GradientBoostingClassifier(n_estimators=200,\n",
       "                                            random_state=42))])"
      ]
     },
     "execution_count": 71,
     "metadata": {},
     "output_type": "execute_result"
    }
   ],
   "source": [
    "pipeline_gb.fit(X_train, y_train)"
   ]
  },
  {
   "cell_type": "markdown",
   "id": "distinct-medicaid",
   "metadata": {},
   "source": [
    "Получение предсказаний"
   ]
  },
  {
   "cell_type": "code",
   "execution_count": 73,
   "id": "domestic-burlington",
   "metadata": {
    "scrolled": true
   },
   "outputs": [
    {
     "data": {
      "text/plain": [
       "array([0.01, 0.74, 0.03, 0.2 , 0.27, 0.61, 0.1 , 0.05, 0.04, 0.53, 0.31,\n",
       "       0.02, 0.52, 0.09, 0.22])"
      ]
     },
     "execution_count": 73,
     "metadata": {},
     "output_type": "execute_result"
    }
   ],
   "source": [
    "y_pred_gb = pipeline_gb.predict_proba(X_test)[:, 1]\n",
    "y_pred[:15]"
   ]
  },
  {
   "cell_type": "markdown",
   "id": "ongoing-ribbon",
   "metadata": {},
   "source": [
    "Определение метрик для последующего анализа."
   ]
  },
  {
   "cell_type": "code",
   "execution_count": 313,
   "id": "catholic-fever",
   "metadata": {},
   "outputs": [],
   "source": [
    "precision_gb, recall_gb, thresholds_gb = precision_recall_curve(y_test, y_pred_gb)"
   ]
  },
  {
   "cell_type": "code",
   "execution_count": 314,
   "id": "printable-melbourne",
   "metadata": {},
   "outputs": [],
   "source": [
    "fscore_gb = (2 * precision_gb * recall_gb) / (precision_gb + recall_gb)"
   ]
  },
  {
   "cell_type": "markdown",
   "id": "powerful-nickel",
   "metadata": {},
   "source": [
    "Определение индекса и связанных величин для высшего значения F1 метрики"
   ]
  },
  {
   "cell_type": "code",
   "execution_count": 315,
   "id": "according-enterprise",
   "metadata": {
    "scrolled": true
   },
   "outputs": [
    {
     "name": "stdout",
     "output_type": "stream",
     "text": [
      "Best Threshold=0.324409, F-Score=0.636, Precision=0.651, Recall=0.622\n"
     ]
    }
   ],
   "source": [
    "ix_gb = np.argmax(fscore_gb)\n",
    "print('Best Threshold=%f, F-Score=%.3f, Precision=%.3f, Recall=%.3f' % (thresholds_gb[ix_gb], \n",
    "                                                                        fscore_gb[ix_gb],\n",
    "                                                                        precision_gb[ix_gb],\n",
    "                                                                        recall_gb[ix_gb]))"
   ]
  },
  {
   "cell_type": "markdown",
   "id": "adjusted-spray",
   "metadata": {},
   "source": [
    "Построение матрицы ошибок"
   ]
  },
  {
   "cell_type": "code",
   "execution_count": 318,
   "id": "urban-nature",
   "metadata": {
    "scrolled": false
   },
   "outputs": [
    {
     "name": "stdout",
     "output_type": "stream",
     "text": [
      "Confusion matrix, without normalization\n",
      "[[1809  173]\n",
      " [ 197  321]]\n"
     ]
    },
    {
     "data": {
      "image/png": "[encoded data removed]",
      "text/plain": [
       "<Figure size 720x576 with 2 Axes>"
      ]
     },
     "metadata": {},
     "output_type": "display_data"
    }
   ],
   "source": [
    "font = {'size' : 15}\n",
    "\n",
    "plt.rc('font', **font)\n",
    "\n",
    "cnf_matrix_gb = confusion_matrix(y_test, y_pred_gb>thresholds_gb[ix_gb])\n",
    "plt.figure(figsize=(10, 8))\n",
    "plot_confusion_matrix(cnf_matrix_gb, classes=['Not exited', 'Exited'],\n",
    "                      title='Confusion matrix')\n",
    "#plt.savefig(\"conf_matrix.png\")\n",
    "plt.show()"
   ]
  },
  {
   "cell_type": "markdown",
   "id": "amber-recorder",
   "metadata": {},
   "source": [
    "Построение графика точность/полнота"
   ]
  },
  {
   "cell_type": "code",
   "execution_count": 113,
   "id": "forbidden-advisory",
   "metadata": {},
   "outputs": [
    {
     "data": {
      "image/png": "[encoded data removed]",
      "text/plain": [
       "<Figure size 432x288 with 1 Axes>"
      ]
     },
     "metadata": {},
     "output_type": "display_data"
    }
   ],
   "source": [
    "precision_recall_draw(y_test, y_pred_gb, precision_gb, recall_gb)"
   ]
  },
  {
   "cell_type": "markdown",
   "id": "american-croatia",
   "metadata": {},
   "source": [
    "Построение ROC AUC кривой"
   ]
  },
  {
   "cell_type": "code",
   "execution_count": 161,
   "id": "liked-starter",
   "metadata": {
    "scrolled": false
   },
   "outputs": [
    {
     "data": {
      "image/png": "[encoded data removed]",
      "text/plain": [
       "<Figure size 720x576 with 1 Axes>"
      ]
     },
     "metadata": {},
     "output_type": "display_data"
    }
   ],
   "source": [
    "auc_gb = roc_auc_curve_draw(y_test, y_pred_gb)"
   ]
  },
  {
   "cell_type": "markdown",
   "id": "graduate-darkness",
   "metadata": {},
   "source": [
    "Добавление результатов в датафрэйм"
   ]
  },
  {
   "cell_type": "code",
   "execution_count": 164,
   "id": "filled-mouth",
   "metadata": {},
   "outputs": [],
   "source": [
    "results_df = results_df.append({'Model':'Gradient Boosting', \n",
    "                   'threshold':thresholds_gb[ix_gb], \n",
    "                   'Recall': recall_gb[ix_gb], \n",
    "                   'Precision':precision_gb[ix_gb], \n",
    "                   'F1 max':fscore_gb[ix_gb],\n",
    "                    'Auc' : auc_gb}\n",
    "                  , ignore_index=True)"
   ]
  },
  {
   "cell_type": "code",
   "execution_count": 167,
   "id": "twenty-ecuador",
   "metadata": {
    "scrolled": true
   },
   "outputs": [
    {
     "data": {
      "text/html": [
       "<div>\n",
       "<style scoped>\n",
       "    .dataframe tbody tr th:only-of-type {\n",
       "        vertical-align: middle;\n",
       "    }\n",
       "\n",
       "    .dataframe tbody tr th {\n",
       "        vertical-align: top;\n",
       "    }\n",
       "\n",
       "    .dataframe thead th {\n",
       "        text-align: right;\n",
       "    }\n",
       "</style>\n",
       "<table border=\"1\" class=\"dataframe\">\n",
       "  <thead>\n",
       "    <tr style=\"text-align: right;\">\n",
       "      <th></th>\n",
       "      <th>Model</th>\n",
       "      <th>threshold</th>\n",
       "      <th>Recall</th>\n",
       "      <th>Precision</th>\n",
       "      <th>F1 max</th>\n",
       "      <th>Auc</th>\n",
       "    </tr>\n",
       "  </thead>\n",
       "  <tbody>\n",
       "    <tr>\n",
       "      <th>0</th>\n",
       "      <td>Gradient Boosting</td>\n",
       "      <td>0.324409</td>\n",
       "      <td>0.621622</td>\n",
       "      <td>0.650505</td>\n",
       "      <td>0.635735</td>\n",
       "      <td>0.872568</td>\n",
       "    </tr>\n",
       "    <tr>\n",
       "      <th>1</th>\n",
       "      <td>Random Forest</td>\n",
       "      <td>0.370000</td>\n",
       "      <td>0.575290</td>\n",
       "      <td>0.659292</td>\n",
       "      <td>0.614433</td>\n",
       "      <td>0.853871</td>\n",
       "    </tr>\n",
       "  </tbody>\n",
       "</table>\n",
       "</div>"
      ],
      "text/plain": [
       "               Model  threshold    Recall  Precision    F1 max       Auc\n",
       "0  Gradient Boosting   0.324409  0.621622   0.650505  0.635735  0.872568\n",
       "1      Random Forest   0.370000  0.575290   0.659292  0.614433  0.853871"
      ]
     },
     "execution_count": 167,
     "metadata": {},
     "output_type": "execute_result"
    }
   ],
   "source": [
    "results_df.head()"
   ]
  },
  {
   "cell_type": "markdown",
   "id": "rapid-advertiser",
   "metadata": {},
   "source": [
    "----------"
   ]
  },
  {
   "cell_type": "markdown",
   "id": "subsequent-situation",
   "metadata": {},
   "source": [
    "## Задание 2"
   ]
  },
  {
   "cell_type": "markdown",
   "id": "cathedral-stopping",
   "metadata": {},
   "source": [
    "2. Отобрать лучшую модель по метрикам (кстати, какая по вашему мнению здесь наиболее подходящая DS-метрика)"
   ]
  },
  {
   "cell_type": "markdown",
   "id": "loaded-hierarchy",
   "metadata": {},
   "source": [
    "Таблица результатов"
   ]
  },
  {
   "cell_type": "code",
   "execution_count": 168,
   "id": "expressed-bacteria",
   "metadata": {},
   "outputs": [
    {
     "data": {
      "text/html": [
       "<div>\n",
       "<style scoped>\n",
       "    .dataframe tbody tr th:only-of-type {\n",
       "        vertical-align: middle;\n",
       "    }\n",
       "\n",
       "    .dataframe tbody tr th {\n",
       "        vertical-align: top;\n",
       "    }\n",
       "\n",
       "    .dataframe thead th {\n",
       "        text-align: right;\n",
       "    }\n",
       "</style>\n",
       "<table border=\"1\" class=\"dataframe\">\n",
       "  <thead>\n",
       "    <tr style=\"text-align: right;\">\n",
       "      <th></th>\n",
       "      <th>Model</th>\n",
       "      <th>threshold</th>\n",
       "      <th>Recall</th>\n",
       "      <th>Precision</th>\n",
       "      <th>F1 max</th>\n",
       "      <th>Auc</th>\n",
       "    </tr>\n",
       "  </thead>\n",
       "  <tbody>\n",
       "    <tr>\n",
       "      <th>0</th>\n",
       "      <td>Gradient Boosting</td>\n",
       "      <td>0.324409</td>\n",
       "      <td>0.621622</td>\n",
       "      <td>0.650505</td>\n",
       "      <td>0.635735</td>\n",
       "      <td>0.872568</td>\n",
       "    </tr>\n",
       "    <tr>\n",
       "      <th>1</th>\n",
       "      <td>Random Forest</td>\n",
       "      <td>0.370000</td>\n",
       "      <td>0.575290</td>\n",
       "      <td>0.659292</td>\n",
       "      <td>0.614433</td>\n",
       "      <td>0.853871</td>\n",
       "    </tr>\n",
       "  </tbody>\n",
       "</table>\n",
       "</div>"
      ],
      "text/plain": [
       "               Model  threshold    Recall  Precision    F1 max       Auc\n",
       "0  Gradient Boosting   0.324409  0.621622   0.650505  0.635735  0.872568\n",
       "1      Random Forest   0.370000  0.575290   0.659292  0.614433  0.853871"
      ]
     },
     "execution_count": 168,
     "metadata": {},
     "output_type": "execute_result"
    }
   ],
   "source": [
    "results_df"
   ]
  },
  {
   "cell_type": "markdown",
   "id": "underlying-retreat",
   "metadata": {},
   "source": [
    "По результатам моделей со случайно выбранными параметрами градиентный бустинг показал более высокое значение по обеим метрикам для данной задачи.  \n",
    "Поэтому для дальнейшего выполнения домашнего задания пример градиентный бустинг в качестве основной модели."
   ]
  },
  {
   "cell_type": "markdown",
   "id": "premier-korean",
   "metadata": {},
   "source": [
    "--------------"
   ]
  },
  {
   "cell_type": "markdown",
   "id": "ethical-roberts",
   "metadata": {},
   "source": [
    "## Задание 3"
   ]
  },
  {
   "cell_type": "markdown",
   "id": "running-trial",
   "metadata": {},
   "source": [
    "3. Для отобранной модели (на отложенной выборке) сделать оценку экономической эффективности при тех же вводных, как в вопросе 2 (1 доллар на привлечение, 2 доллара - с каждого правильно классифицированного (True Positive) удержанного). (подсказка) нужно посчитать FP/TP/FN/TN для выбранного оптимального порога вероятности и посчитать выручку и траты. \n"
   ]
  },
  {
   "cell_type": "markdown",
   "id": "statewide-agenda",
   "metadata": {},
   "source": [
    "Продублируем Confusion Matrix для оптимального порога с точки зрения ML"
   ]
  },
  {
   "cell_type": "code",
   "execution_count": 319,
   "id": "loaded-richards",
   "metadata": {},
   "outputs": [
    {
     "name": "stdout",
     "output_type": "stream",
     "text": [
      "Confusion matrix, without normalization\n",
      "[[1809  173]\n",
      " [ 197  321]]\n"
     ]
    },
    {
     "data": {
      "image/png": "[encoded data removed]",
      "text/plain": [
       "<Figure size 720x576 with 2 Axes>"
      ]
     },
     "metadata": {},
     "output_type": "display_data"
    }
   ],
   "source": [
    "font = {'size' : 15}\n",
    "\n",
    "plt.rc('font', **font)\n",
    "\n",
    "cnf_matrix_gb = confusion_matrix(y_test, y_pred_gb>thresholds_gb[ix_gb])\n",
    "plt.figure(figsize=(10, 8))\n",
    "plot_confusion_matrix(cnf_matrix_gb, classes=['Not exited', 'Exited'],\n",
    "                      title='Confusion matrix')\n",
    "#plt.savefig(\"conf_matrix.png\")\n",
    "plt.show()"
   ]
  },
  {
   "cell_type": "markdown",
   "id": "killing-sunset",
   "metadata": {},
   "source": [
    "Расходы по деньгам, если все деньги пустить на удержание:"
   ]
  },
  {
   "cell_type": "code",
   "execution_count": 311,
   "id": "sensitive-discretion",
   "metadata": {},
   "outputs": [
    {
     "data": {
      "text/plain": [
       "0    1982\n",
       "1     518\n",
       "Name: Exited, dtype: int64"
      ]
     },
     "execution_count": 311,
     "metadata": {},
     "output_type": "execute_result"
    }
   ],
   "source": [
    "y_test.value_counts()"
   ]
  },
  {
   "cell_type": "code",
   "execution_count": 312,
   "id": "threatened-moment",
   "metadata": {
    "scrolled": true
   },
   "outputs": [
    {
     "data": {
      "text/plain": [
       "2500"
      ]
     },
     "execution_count": 312,
     "metadata": {},
     "output_type": "execute_result"
    }
   ],
   "source": [
    "y_test.shape[0]"
   ]
  },
  {
   "cell_type": "markdown",
   "id": "intellectual-assumption",
   "metadata": {},
   "source": [
    "Лучшие параметры с точки зрения модели"
   ]
  },
  {
   "cell_type": "code",
   "execution_count": 316,
   "id": "italian-trout",
   "metadata": {},
   "outputs": [
    {
     "name": "stdout",
     "output_type": "stream",
     "text": [
      "Best Threshold=0.324409, F-Score=0.636, Precision=0.651, Recall=0.622\n"
     ]
    }
   ],
   "source": [
    "ix_gb = np.argmax(fscore_gb)\n",
    "print('Best Threshold=%f, F-Score=%.3f, Precision=%.3f, Recall=%.3f' % (thresholds_gb[ix_gb], \n",
    "                                                                        fscore_gb[ix_gb],\n",
    "                                                                        precision_gb[ix_gb],\n",
    "                                                                        recall_gb[ix_gb]))"
   ]
  },
  {
   "cell_type": "markdown",
   "id": "pressed-reserve",
   "metadata": {},
   "source": [
    "Вывод параметров матрицы"
   ]
  },
  {
   "cell_type": "code",
   "execution_count": 320,
   "id": "allied-yacht",
   "metadata": {},
   "outputs": [
    {
     "data": {
      "text/plain": [
       "1809"
      ]
     },
     "execution_count": 320,
     "metadata": {},
     "output_type": "execute_result"
    }
   ],
   "source": [
    "tp = cnf_matrix_gb[0, 0]\n",
    "tp"
   ]
  },
  {
   "cell_type": "code",
   "execution_count": 322,
   "id": "synthetic-planet",
   "metadata": {},
   "outputs": [
    {
     "data": {
      "text/plain": [
       "197"
      ]
     },
     "execution_count": 322,
     "metadata": {},
     "output_type": "execute_result"
    }
   ],
   "source": [
    "fp = cnf_matrix_gb[1, 0]\n",
    "fp"
   ]
  },
  {
   "cell_type": "code",
   "execution_count": 323,
   "id": "anticipated-borough",
   "metadata": {},
   "outputs": [
    {
     "data": {
      "text/plain": [
       "173"
      ]
     },
     "execution_count": 323,
     "metadata": {},
     "output_type": "execute_result"
    }
   ],
   "source": [
    "fn = cnf_matrix_gb[0, 1]\n",
    "fn"
   ]
  },
  {
   "cell_type": "code",
   "execution_count": 324,
   "id": "continued-witness",
   "metadata": {
    "scrolled": true
   },
   "outputs": [
    {
     "data": {
      "text/plain": [
       "321"
      ]
     },
     "execution_count": 324,
     "metadata": {},
     "output_type": "execute_result"
    }
   ],
   "source": [
    "tn = cnf_matrix_gb[1, 1]\n",
    "tn"
   ]
  },
  {
   "cell_type": "markdown",
   "id": "diagnostic-volleyball",
   "metadata": {},
   "source": [
    "Расчет экономических параметров с точки зрения оптимального порога по ML"
   ]
  },
  {
   "cell_type": "code",
   "execution_count": 342,
   "id": "lasting-parcel",
   "metadata": {},
   "outputs": [],
   "source": [
    "money = 1\n",
    "keep = 2"
   ]
  },
  {
   "cell_type": "code",
   "execution_count": 356,
   "id": "hindu-blind",
   "metadata": {},
   "outputs": [],
   "source": [
    "def business(money, keep, cnf_matrix):\n",
    "    tp = cnf_matrix[0, 0]\n",
    "    fp = cnf_matrix[1, 0]\n",
    "    fn = cnf_matrix[0, 1]\n",
    "    tn = cnf_matrix[1, 1]\n",
    "    \n",
    "    # доход в идеальном случае\n",
    "    earnings_ideal = 2500 * money\n",
    "    print(f\"доход в случае 100% сохранения клиентов {earnings_ideal}\")\n",
    "    \n",
    "    #доход в случае отсутсвия затрат на удержание клиентов без затрат на привлечение новых\n",
    "    earnings_free = (tp + fn)* money\n",
    "    print(f\"Доход с клиентов, которые точно останутся {earnings_free}\")\n",
    "    \n",
    "    #доход в случае затрат на удержание FN + TN клиентов за вычетом утраты доходов от FP\n",
    "    earnings_keep = money * (tp + fn) - keep*(fn + tn) - fp * money\n",
    "    print(f\"доход в случае затрат на удержание клиентов за вычетом дохдов от незамеченных{earnings_keep}\")\n"
   ]
  },
  {
   "cell_type": "code",
   "execution_count": 357,
   "id": "rocky-temple",
   "metadata": {
    "scrolled": true
   },
   "outputs": [
    {
     "name": "stdout",
     "output_type": "stream",
     "text": [
      "доход в случае 100% сохранения клиентов 2500\n",
      "Доход с клиентов, которые точно останутся 1982\n",
      "доход в случае затрат на удержание клиентов за вычетом дохдов от незамеченных797\n"
     ]
    }
   ],
   "source": [
    "business(attract, keep, cnf_matrix_gb)"
   ]
  },
  {
   "cell_type": "markdown",
   "id": "threaded-champagne",
   "metadata": {},
   "source": [
    "#### Вывод\n",
    "Какие-либо выводы по данным значениям сделать очень сложно, т.к. подобные значения имеет смысл рассматривать только в динамике."
   ]
  },
  {
   "cell_type": "markdown",
   "id": "ranging-westminster",
   "metadata": {},
   "source": [
    "--------------------"
   ]
  },
  {
   "cell_type": "markdown",
   "id": "finite-diagram",
   "metadata": {},
   "source": [
    "### Задание 4"
   ]
  },
  {
   "cell_type": "markdown",
   "id": "certified-edinburgh",
   "metadata": {},
   "source": [
    "4. (опционально) Провести подбор гиперпараметров лучшей модели по итогам 2-3\n"
   ]
  },
  {
   "cell_type": "code",
   "execution_count": 213,
   "id": "becoming-botswana",
   "metadata": {},
   "outputs": [],
   "source": [
    "gb_model = GradientBoostingClassifier()"
   ]
  },
  {
   "cell_type": "markdown",
   "id": "suffering-shepherd",
   "metadata": {},
   "source": [
    "Назначаем список парамеров для перебора"
   ]
  },
  {
   "cell_type": "code",
   "execution_count": 258,
   "id": "ahead-healing",
   "metadata": {},
   "outputs": [],
   "source": [
    "params = {'classifier__learning_rate':[0.05, 0.075, 0.1, 0.125, 0.15],\n",
    "          'classifier__n_estimators':[50, 150, 200, 250, 500],\n",
    "          'classifier__max_depth':[2, 3, 4, 5]\n",
    "}"
   ]
  },
  {
   "cell_type": "code",
   "execution_count": 259,
   "id": "satellite-therapist",
   "metadata": {},
   "outputs": [],
   "source": [
    "pipeline_rnd = Pipeline([\n",
    "    ('features',feats),\n",
    "    ('classifier',GradientBoostingClassifier())\n",
    "])"
   ]
  },
  {
   "cell_type": "code",
   "execution_count": 260,
   "id": "limiting-truck",
   "metadata": {},
   "outputs": [],
   "source": [
    "CV = GridSearchCV(pipeline_rnd, params, scoring = 'r2', n_jobs= 1)"
   ]
  },
  {
   "cell_type": "markdown",
   "id": "curious-samoa",
   "metadata": {},
   "source": [
    "Запускаем перебор параметров при помощи Grid Search.  \n",
    "Работа выполняется через Pipeline"
   ]
  },
  {
   "cell_type": "code",
   "execution_count": 262,
   "id": "electoral-crowd",
   "metadata": {
    "scrolled": true
   },
   "outputs": [
    {
     "name": "stdout",
     "output_type": "stream",
     "text": [
      "Wall time: 20min 53s\n"
     ]
    },
    {
     "data": {
      "text/plain": [
       "GridSearchCV(estimator=Pipeline(steps=[('features',\n",
       "                                        FeatureUnion(transformer_list=[('Geography',\n",
       "                                                                        Pipeline(steps=[('selector',\n",
       "                                                                                         FeatureSelector(column='Geography')),\n",
       "                                                                                        ('ohe',\n",
       "                                                                                         OHEEncoder(key='Geography'))])),\n",
       "                                                                       ('Gender',\n",
       "                                                                        Pipeline(steps=[('selector',\n",
       "                                                                                         FeatureSelector(column='Gender')),\n",
       "                                                                                        ('ohe',\n",
       "                                                                                         OHEEncoder(key='Gender'))])),\n",
       "                                                                       ('Tenure',\n",
       "                                                                        Pipeline(steps=[('selector',\n",
       "                                                                                         Featu...\n",
       "                                                                                         StandardScaler())])),\n",
       "                                                                       ('EstimatedSalary',\n",
       "                                                                        Pipeline(steps=[('selector',\n",
       "                                                                                         NumberSelector(key='EstimatedSalary')),\n",
       "                                                                                        ('standard',\n",
       "                                                                                         StandardScaler())]))])),\n",
       "                                       ('classifier',\n",
       "                                        GradientBoostingClassifier())]),\n",
       "             n_jobs=1,\n",
       "             param_grid={'classifier__learning_rate': [0.05, 0.075, 0.1, 0.125,\n",
       "                                                       0.15],\n",
       "                         'classifier__max_depth': [2, 3, 4, 5],\n",
       "                         'classifier__n_estimators': [50, 150, 200, 250, 500]},\n",
       "             scoring='r2')"
      ]
     },
     "execution_count": 262,
     "metadata": {},
     "output_type": "execute_result"
    }
   ],
   "source": [
    "%%time\n",
    "CV.fit(X_train, y_train)"
   ]
  },
  {
   "cell_type": "markdown",
   "id": "cutting-martial",
   "metadata": {},
   "source": [
    "Лучшие параметры для классиификатора"
   ]
  },
  {
   "cell_type": "code",
   "execution_count": 305,
   "id": "continued-fifty",
   "metadata": {
    "scrolled": false
   },
   "outputs": [
    {
     "data": {
      "text/plain": [
       "{'classifier__learning_rate': 0.1,\n",
       " 'classifier__max_depth': 3,\n",
       " 'classifier__n_estimators': 150}"
      ]
     },
     "execution_count": 305,
     "metadata": {},
     "output_type": "execute_result"
    }
   ],
   "source": [
    "best_params = CV.best_params_\n",
    "best_params"
   ]
  },
  {
   "cell_type": "markdown",
   "id": "dirty-peter",
   "metadata": {},
   "source": [
    "Лучшие параметры достаточно близки к случайно выбранным, поэтому значительное улучшение параметров модели не ожидается."
   ]
  },
  {
   "cell_type": "markdown",
   "id": "considered-example",
   "metadata": {},
   "source": [
    "Получение предсказаний"
   ]
  },
  {
   "cell_type": "code",
   "execution_count": 272,
   "id": "intermediate-tragedy",
   "metadata": {},
   "outputs": [],
   "source": [
    "y_pred_cv = CV.predict_proba(X_test)"
   ]
  },
  {
   "cell_type": "code",
   "execution_count": 283,
   "id": "included-merchandise",
   "metadata": {},
   "outputs": [
    {
     "data": {
      "text/plain": [
       "array([0.95758627, 0.35999344, 0.87423575, 0.79120257, 0.61833919,\n",
       "       0.46335457, 0.85686928, 0.94710742, 0.97098372, 0.56441168,\n",
       "       0.69970959, 0.99488271, 0.69630825, 0.90397686, 0.71811951])"
      ]
     },
     "execution_count": 283,
     "metadata": {},
     "output_type": "execute_result"
    }
   ],
   "source": [
    "y_pred_cv[:15,0]"
   ]
  },
  {
   "cell_type": "code",
   "execution_count": 289,
   "id": "pressed-lying",
   "metadata": {},
   "outputs": [],
   "source": [
    "precision_cv, recall_cv, thresholds_cv = precision_recall_curve(y_test, y_pred_cv[:,1])"
   ]
  },
  {
   "cell_type": "markdown",
   "id": "convenient-compromise",
   "metadata": {},
   "source": [
    "Построение кривой точность-полнота."
   ]
  },
  {
   "cell_type": "code",
   "execution_count": 290,
   "id": "straight-emerald",
   "metadata": {},
   "outputs": [
    {
     "data": {
      "image/png": "[encoded data removed]",
      "text/plain": [
       "<Figure size 432x288 with 1 Axes>"
      ]
     },
     "metadata": {},
     "output_type": "display_data"
    }
   ],
   "source": [
    "precision_recall_draw(y_test, y_pred_cv, precision_cv, recall_cv)"
   ]
  },
  {
   "cell_type": "markdown",
   "id": "marine-painting",
   "metadata": {},
   "source": [
    "Построение ROC-AUC кривой"
   ]
  },
  {
   "cell_type": "code",
   "execution_count": 291,
   "id": "marked-being",
   "metadata": {},
   "outputs": [],
   "source": [
    "fscore_cv = (2 * precision_cv * recall_cv) / (precision_cv + recall_cv)"
   ]
  },
  {
   "cell_type": "code",
   "execution_count": 292,
   "id": "appointed-provincial",
   "metadata": {},
   "outputs": [
    {
     "name": "stdout",
     "output_type": "stream",
     "text": [
      "Best Threshold=0.332094, F-Score=0.631, Precision=0.658, Recall=0.612\n"
     ]
    }
   ],
   "source": [
    "ix_cv = np.argmax(fscore_cv)\n",
    "print('Best Threshold=%f, F-Score=%.3f, Precision=%.3f, Recall=%.3f' % (thresholds_cv[ix_cv], \n",
    "                                                                        fscore_gb[ix_cv],\n",
    "                                                                        precision_cv[ix_cv],\n",
    "                                                                        recall_cv[ix_cv]))"
   ]
  },
  {
   "cell_type": "code",
   "execution_count": 300,
   "id": "purple-major",
   "metadata": {},
   "outputs": [
    {
     "data": {
      "image/png": "[encoded data removed]",
      "text/plain": [
       "<Figure size 720x576 with 1 Axes>"
      ]
     },
     "metadata": {},
     "output_type": "display_data"
    }
   ],
   "source": [
    "auc_cv = roc_auc_curve_draw(y_test, y_pred_cv[:,1])"
   ]
  },
  {
   "cell_type": "markdown",
   "id": "latest-rubber",
   "metadata": {},
   "source": [
    "Построение матрицы ошибок"
   ]
  },
  {
   "cell_type": "code",
   "execution_count": 354,
   "id": "advance-attribute",
   "metadata": {},
   "outputs": [
    {
     "name": "stdout",
     "output_type": "stream",
     "text": [
      "Confusion matrix, without normalization\n",
      "[[1817  165]\n",
      " [ 202  316]]\n"
     ]
    },
    {
     "data": {
      "image/png": "[encoded data removed]",
      "text/plain": [
       "<Figure size 720x576 with 2 Axes>"
      ]
     },
     "metadata": {},
     "output_type": "display_data"
    }
   ],
   "source": [
    "font = {'size' : 15}\n",
    "\n",
    "plt.rc('font', **font)\n",
    "\n",
    "cnf_matrix_cv = confusion_matrix(y_test, y_pred_cv[:,1]>thresholds_cv[ix_cv])\n",
    "plt.figure(figsize=(10, 8))\n",
    "plot_confusion_matrix(cnf_matrix_cv, classes=['Not exited', 'Exited'],\n",
    "                      title='Confusion matrix')\n",
    "#plt.savefig(\"conf_matrix.png\")\n",
    "plt.show()"
   ]
  },
  {
   "cell_type": "code",
   "execution_count": 301,
   "id": "cutting-guyana",
   "metadata": {},
   "outputs": [],
   "source": [
    "results_df = results_df.append({'Model':'Gradient Boosting Grid Search', \n",
    "                   'threshold':thresholds_cv[ix_cv], \n",
    "                   'Recall': recall_gb[ix_cv], \n",
    "                   'Precision':precision_gb[ix_cv], \n",
    "                   'F1 max':fscore_gb[ix_cv],\n",
    "                    'Auc' : auc_cv}\n",
    "                  , ignore_index=True)"
   ]
  },
  {
   "cell_type": "markdown",
   "id": "blond-christmas",
   "metadata": {},
   "source": [
    "Окончательный вид таблицы с результатами.  \n",
    "Т.к. параметры эстиматора были изначально достаточно близки к случайно выбранным, то различия находятся в раках статистической погрешности."
   ]
  },
  {
   "cell_type": "code",
   "execution_count": 302,
   "id": "portable-observer",
   "metadata": {
    "scrolled": true
   },
   "outputs": [
    {
     "data": {
      "text/html": [
       "<div>\n",
       "<style scoped>\n",
       "    .dataframe tbody tr th:only-of-type {\n",
       "        vertical-align: middle;\n",
       "    }\n",
       "\n",
       "    .dataframe tbody tr th {\n",
       "        vertical-align: top;\n",
       "    }\n",
       "\n",
       "    .dataframe thead th {\n",
       "        text-align: right;\n",
       "    }\n",
       "</style>\n",
       "<table border=\"1\" class=\"dataframe\">\n",
       "  <thead>\n",
       "    <tr style=\"text-align: right;\">\n",
       "      <th></th>\n",
       "      <th>Model</th>\n",
       "      <th>threshold</th>\n",
       "      <th>Recall</th>\n",
       "      <th>Precision</th>\n",
       "      <th>F1 max</th>\n",
       "      <th>Auc</th>\n",
       "    </tr>\n",
       "  </thead>\n",
       "  <tbody>\n",
       "    <tr>\n",
       "      <th>0</th>\n",
       "      <td>Gradient Boosting</td>\n",
       "      <td>0.324409</td>\n",
       "      <td>0.621622</td>\n",
       "      <td>0.650505</td>\n",
       "      <td>0.635735</td>\n",
       "      <td>0.872568</td>\n",
       "    </tr>\n",
       "    <tr>\n",
       "      <th>1</th>\n",
       "      <td>Random Forest</td>\n",
       "      <td>0.370000</td>\n",
       "      <td>0.575290</td>\n",
       "      <td>0.659292</td>\n",
       "      <td>0.614433</td>\n",
       "      <td>0.853871</td>\n",
       "    </tr>\n",
       "    <tr>\n",
       "      <th>2</th>\n",
       "      <td>Gradient Boosting Grid Search</td>\n",
       "      <td>0.332094</td>\n",
       "      <td>0.623552</td>\n",
       "      <td>0.639604</td>\n",
       "      <td>0.631476</td>\n",
       "      <td>0.872089</td>\n",
       "    </tr>\n",
       "  </tbody>\n",
       "</table>\n",
       "</div>"
      ],
      "text/plain": [
       "                           Model  threshold    Recall  Precision    F1 max  \\\n",
       "0              Gradient Boosting   0.324409  0.621622   0.650505  0.635735   \n",
       "1                  Random Forest   0.370000  0.575290   0.659292  0.614433   \n",
       "2  Gradient Boosting Grid Search   0.332094  0.623552   0.639604  0.631476   \n",
       "\n",
       "        Auc  \n",
       "0  0.872568  \n",
       "1  0.853871  \n",
       "2  0.872089  "
      ]
     },
     "execution_count": 302,
     "metadata": {},
     "output_type": "execute_result"
    }
   ],
   "source": [
    "results_df"
   ]
  },
  {
   "cell_type": "markdown",
   "id": "architectural-ministry",
   "metadata": {},
   "source": [
    "---------"
   ]
  },
  {
   "cell_type": "markdown",
   "id": "romance-candy",
   "metadata": {},
   "source": [
    "### Задание 5"
   ]
  },
  {
   "cell_type": "code",
   "execution_count": null,
   "id": "center-event",
   "metadata": {},
   "outputs": [],
   "source": [
    "5. (опционально) Еще раз провести оценку экономической эффективности"
   ]
  },
  {
   "cell_type": "code",
   "execution_count": 358,
   "id": "empirical-flash",
   "metadata": {},
   "outputs": [
    {
     "name": "stdout",
     "output_type": "stream",
     "text": [
      "доход в случае 100% сохранения клиентов 2500\n",
      "Доход с клиентов, которые точно останутся 1982\n",
      "доход в случае затрат на удержание клиентов за вычетом дохдов от незамеченных818\n"
     ]
    }
   ],
   "source": [
    "business(attract, keep, cnf_matrix_cv)"
   ]
  },
  {
   "cell_type": "markdown",
   "id": "sufficient-movement",
   "metadata": {},
   "source": [
    "#### Вывод\n",
    "По сравнению с исходным градиентным бустингом модель дает чуть более высокий процент определения FP величины.  \n",
    "Благодяря этому единоразовый доход при условии выборочного привлечения новых клиентов получается чуть выше.  \n",
    "В определенных случаях это может быть оправданно с экономической точки зрения."
   ]
  },
  {
   "cell_type": "code",
   "execution_count": null,
   "id": "nonprofit-sheep",
   "metadata": {},
   "outputs": [],
   "source": []
  },
  {
   "cell_type": "code",
   "execution_count": null,
   "id": "olive-shore",
   "metadata": {},
   "outputs": [],
   "source": []
  },
  {
   "cell_type": "code",
   "execution_count": null,
   "id": "warming-burst",
   "metadata": {},
   "outputs": [],
   "source": []
  }
 ],
 "metadata": {
  "kernelspec": {
   "display_name": "Python 3",
   "language": "python",
   "name": "python3"
  },
  "language_info": {
   "codemirror_mode": {
    "name": "ipython",
    "version": 3
   },
   "file_extension": ".py",
   "mimetype": "text/x-python",
   "name": "python",
   "nbconvert_exporter": "python",
   "pygments_lexer": "ipython3",
   "version": "3.9.1"
  }
 },
 "nbformat": 4,
 "nbformat_minor": 5
}
