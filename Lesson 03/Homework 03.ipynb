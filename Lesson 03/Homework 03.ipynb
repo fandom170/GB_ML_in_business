{
 "cells": [
  {
   "cell_type": "code",
   "execution_count": 2,
   "id": "civilian-crime",
   "metadata": {},
   "outputs": [],
   "source": [
    "import pandas as pd\n",
    "import numpy as np"
   ]
  },
  {
   "cell_type": "code",
   "execution_count": 5,
   "id": "undefined-stick",
   "metadata": {},
   "outputs": [],
   "source": [
    "from sklearn.model_selection import cross_val_score, train_test_split"
   ]
  },
  {
   "cell_type": "code",
   "execution_count": 207,
   "id": "polished-calculator",
   "metadata": {},
   "outputs": [],
   "source": [
    "from sklearn.metrics import precision_recall_curve, roc_curve, roc_auc_score, confusion_matrix, roc_curve, auc"
   ]
  },
  {
   "cell_type": "code",
   "execution_count": 6,
   "id": "insured-webster",
   "metadata": {},
   "outputs": [],
   "source": [
    "from sklearn.linear_model import LogisticRegression"
   ]
  },
  {
   "cell_type": "code",
   "execution_count": 7,
   "id": "fuzzy-amber",
   "metadata": {},
   "outputs": [],
   "source": [
    "import seaborn as sns\n",
    "import matplotlib.pyplot as plt"
   ]
  },
  {
   "cell_type": "code",
   "execution_count": 102,
   "id": "closing-healthcare",
   "metadata": {},
   "outputs": [],
   "source": [
    "from sklearn.preprocessing import StandardScaler, Normalizer"
   ]
  },
  {
   "cell_type": "code",
   "execution_count": 34,
   "id": "radical-january",
   "metadata": {},
   "outputs": [],
   "source": [
    "from sklearn.pipeline import Pipeline"
   ]
  },
  {
   "cell_type": "code",
   "execution_count": 118,
   "id": "greatest-princeton",
   "metadata": {},
   "outputs": [],
   "source": [
    "from sklearn.model_selection import KFold"
   ]
  },
  {
   "cell_type": "markdown",
   "id": "specific-thunder",
   "metadata": {},
   "source": [
    "### Домашнее задание"
   ]
  },
  {
   "cell_type": "markdown",
   "id": "breathing-perth",
   "metadata": {},
   "source": [
    "1. обучить несколько разных моделей на наборе данных ССЗ (train_case2.csv): логрег, бустинг, лес и т.д - на ваш выбор 2-3 варианта\n",
    "2. при обучении моделей обязательно использовать кроссвалидацию\n",
    "3. вывести сравнение полученных моделей по основным метрикам классификации: pr/rec/auc/f_score (можно в виде таблицы, где строки - модели, а столбцы - метрики)\n",
    "4. сделать выводы о том, какая модель справилась с задачей лучше других\n",
    "5. (опциональный вопрос) какая метрика (precision_recall_curve или roc_auc_curve) больше подходит в случае сильного дисбаланса классов? (когда объектов одного из классов намного больше чем другого). \n",
    "\n",
    "p.s.В вопросе проще разобраться, если вспомнить оси на графике roc auc curve и рассмотреть такой пример:\n",
    "\n",
    "Имеется 100000 объектов, из которых только 100 - класс \"1\" (99900 - класс \"0\", соответственно). \n",
    "Допустим, у нас две модели:\n",
    "\n",
    "- первая помечает 100 объектов как класс 1, но TP = 90\n",
    "- вторая помечает 1000 объектов как класс 1, но TP такой же - 90\n",
    "\n",
    "Какая модель лучше и почему? И что позволяет легче сделать вывод - roc_auc_curve или precision_recall_curve?  \n",
    "6. (опциональный вопрос) Найти порог классификации по деньгам (Стоимость лечения 15000 р, если сделали тест и начали лечить вовремя. Стоимость лечения 20000, если упустили и начали лечить когда уже проявились все симптомы. Стоимость теста 1400 р)"
   ]
  },
  {
   "cell_type": "markdown",
   "id": "eligible-injection",
   "metadata": {},
   "source": [
    "#### Подготовка датасета"
   ]
  },
  {
   "cell_type": "code",
   "execution_count": 12,
   "id": "normal-northwest",
   "metadata": {},
   "outputs": [],
   "source": [
    "df = pd.read_csv('train_case2.csv', sep=';' , index_col='id')"
   ]
  },
  {
   "cell_type": "code",
   "execution_count": 13,
   "id": "arabic-combine",
   "metadata": {
    "scrolled": true
   },
   "outputs": [
    {
     "data": {
      "text/html": [
       "<div>\n",
       "<style scoped>\n",
       "    .dataframe tbody tr th:only-of-type {\n",
       "        vertical-align: middle;\n",
       "    }\n",
       "\n",
       "    .dataframe tbody tr th {\n",
       "        vertical-align: top;\n",
       "    }\n",
       "\n",
       "    .dataframe thead th {\n",
       "        text-align: right;\n",
       "    }\n",
       "</style>\n",
       "<table border=\"1\" class=\"dataframe\">\n",
       "  <thead>\n",
       "    <tr style=\"text-align: right;\">\n",
       "      <th></th>\n",
       "      <th>age</th>\n",
       "      <th>gender</th>\n",
       "      <th>height</th>\n",
       "      <th>weight</th>\n",
       "      <th>ap_hi</th>\n",
       "      <th>ap_lo</th>\n",
       "      <th>cholesterol</th>\n",
       "      <th>gluc</th>\n",
       "      <th>smoke</th>\n",
       "      <th>alco</th>\n",
       "      <th>active</th>\n",
       "      <th>cardio</th>\n",
       "    </tr>\n",
       "    <tr>\n",
       "      <th>id</th>\n",
       "      <th></th>\n",
       "      <th></th>\n",
       "      <th></th>\n",
       "      <th></th>\n",
       "      <th></th>\n",
       "      <th></th>\n",
       "      <th></th>\n",
       "      <th></th>\n",
       "      <th></th>\n",
       "      <th></th>\n",
       "      <th></th>\n",
       "      <th></th>\n",
       "    </tr>\n",
       "  </thead>\n",
       "  <tbody>\n",
       "    <tr>\n",
       "      <th>0</th>\n",
       "      <td>18393</td>\n",
       "      <td>2</td>\n",
       "      <td>168</td>\n",
       "      <td>62.0</td>\n",
       "      <td>110</td>\n",
       "      <td>80</td>\n",
       "      <td>1</td>\n",
       "      <td>1</td>\n",
       "      <td>0</td>\n",
       "      <td>0</td>\n",
       "      <td>1</td>\n",
       "      <td>0</td>\n",
       "    </tr>\n",
       "    <tr>\n",
       "      <th>1</th>\n",
       "      <td>20228</td>\n",
       "      <td>1</td>\n",
       "      <td>156</td>\n",
       "      <td>85.0</td>\n",
       "      <td>140</td>\n",
       "      <td>90</td>\n",
       "      <td>3</td>\n",
       "      <td>1</td>\n",
       "      <td>0</td>\n",
       "      <td>0</td>\n",
       "      <td>1</td>\n",
       "      <td>1</td>\n",
       "    </tr>\n",
       "    <tr>\n",
       "      <th>2</th>\n",
       "      <td>18857</td>\n",
       "      <td>1</td>\n",
       "      <td>165</td>\n",
       "      <td>64.0</td>\n",
       "      <td>130</td>\n",
       "      <td>70</td>\n",
       "      <td>3</td>\n",
       "      <td>1</td>\n",
       "      <td>0</td>\n",
       "      <td>0</td>\n",
       "      <td>0</td>\n",
       "      <td>1</td>\n",
       "    </tr>\n",
       "    <tr>\n",
       "      <th>3</th>\n",
       "      <td>17623</td>\n",
       "      <td>2</td>\n",
       "      <td>169</td>\n",
       "      <td>82.0</td>\n",
       "      <td>150</td>\n",
       "      <td>100</td>\n",
       "      <td>1</td>\n",
       "      <td>1</td>\n",
       "      <td>0</td>\n",
       "      <td>0</td>\n",
       "      <td>1</td>\n",
       "      <td>1</td>\n",
       "    </tr>\n",
       "    <tr>\n",
       "      <th>4</th>\n",
       "      <td>17474</td>\n",
       "      <td>1</td>\n",
       "      <td>156</td>\n",
       "      <td>56.0</td>\n",
       "      <td>100</td>\n",
       "      <td>60</td>\n",
       "      <td>1</td>\n",
       "      <td>1</td>\n",
       "      <td>0</td>\n",
       "      <td>0</td>\n",
       "      <td>0</td>\n",
       "      <td>0</td>\n",
       "    </tr>\n",
       "  </tbody>\n",
       "</table>\n",
       "</div>"
      ],
      "text/plain": [
       "      age  gender  height  weight  ap_hi  ap_lo  cholesterol  gluc  smoke  \\\n",
       "id                                                                          \n",
       "0   18393       2     168    62.0    110     80            1     1      0   \n",
       "1   20228       1     156    85.0    140     90            3     1      0   \n",
       "2   18857       1     165    64.0    130     70            3     1      0   \n",
       "3   17623       2     169    82.0    150    100            1     1      0   \n",
       "4   17474       1     156    56.0    100     60            1     1      0   \n",
       "\n",
       "    alco  active  cardio  \n",
       "id                        \n",
       "0      0       1       0  \n",
       "1      0       1       1  \n",
       "2      0       0       1  \n",
       "3      0       1       1  \n",
       "4      0       0       0  "
      ]
     },
     "execution_count": 13,
     "metadata": {},
     "output_type": "execute_result"
    }
   ],
   "source": [
    "df.head()"
   ]
  },
  {
   "cell_type": "code",
   "execution_count": 14,
   "id": "concerned-trunk",
   "metadata": {
    "scrolled": true
   },
   "outputs": [
    {
     "data": {
      "text/html": [
       "<div>\n",
       "<style scoped>\n",
       "    .dataframe tbody tr th:only-of-type {\n",
       "        vertical-align: middle;\n",
       "    }\n",
       "\n",
       "    .dataframe tbody tr th {\n",
       "        vertical-align: top;\n",
       "    }\n",
       "\n",
       "    .dataframe thead th {\n",
       "        text-align: right;\n",
       "    }\n",
       "</style>\n",
       "<table border=\"1\" class=\"dataframe\">\n",
       "  <thead>\n",
       "    <tr style=\"text-align: right;\">\n",
       "      <th></th>\n",
       "      <th>age</th>\n",
       "      <th>gender</th>\n",
       "      <th>height</th>\n",
       "      <th>weight</th>\n",
       "      <th>ap_hi</th>\n",
       "      <th>ap_lo</th>\n",
       "      <th>cholesterol</th>\n",
       "      <th>gluc</th>\n",
       "      <th>smoke</th>\n",
       "      <th>alco</th>\n",
       "      <th>active</th>\n",
       "      <th>cardio</th>\n",
       "    </tr>\n",
       "  </thead>\n",
       "  <tbody>\n",
       "    <tr>\n",
       "      <th>count</th>\n",
       "      <td>70000.000000</td>\n",
       "      <td>70000.000000</td>\n",
       "      <td>70000.000000</td>\n",
       "      <td>70000.000000</td>\n",
       "      <td>70000.000000</td>\n",
       "      <td>70000.000000</td>\n",
       "      <td>70000.000000</td>\n",
       "      <td>70000.000000</td>\n",
       "      <td>70000.000000</td>\n",
       "      <td>70000.000000</td>\n",
       "      <td>70000.000000</td>\n",
       "      <td>70000.000000</td>\n",
       "    </tr>\n",
       "    <tr>\n",
       "      <th>mean</th>\n",
       "      <td>19468.865814</td>\n",
       "      <td>1.349571</td>\n",
       "      <td>164.359229</td>\n",
       "      <td>74.205690</td>\n",
       "      <td>128.817286</td>\n",
       "      <td>96.630414</td>\n",
       "      <td>1.366871</td>\n",
       "      <td>1.226457</td>\n",
       "      <td>0.088129</td>\n",
       "      <td>0.053771</td>\n",
       "      <td>0.803729</td>\n",
       "      <td>0.499700</td>\n",
       "    </tr>\n",
       "    <tr>\n",
       "      <th>std</th>\n",
       "      <td>2467.251667</td>\n",
       "      <td>0.476838</td>\n",
       "      <td>8.210126</td>\n",
       "      <td>14.395757</td>\n",
       "      <td>154.011419</td>\n",
       "      <td>188.472530</td>\n",
       "      <td>0.680250</td>\n",
       "      <td>0.572270</td>\n",
       "      <td>0.283484</td>\n",
       "      <td>0.225568</td>\n",
       "      <td>0.397179</td>\n",
       "      <td>0.500003</td>\n",
       "    </tr>\n",
       "    <tr>\n",
       "      <th>min</th>\n",
       "      <td>10798.000000</td>\n",
       "      <td>1.000000</td>\n",
       "      <td>55.000000</td>\n",
       "      <td>10.000000</td>\n",
       "      <td>-150.000000</td>\n",
       "      <td>-70.000000</td>\n",
       "      <td>1.000000</td>\n",
       "      <td>1.000000</td>\n",
       "      <td>0.000000</td>\n",
       "      <td>0.000000</td>\n",
       "      <td>0.000000</td>\n",
       "      <td>0.000000</td>\n",
       "    </tr>\n",
       "    <tr>\n",
       "      <th>25%</th>\n",
       "      <td>17664.000000</td>\n",
       "      <td>1.000000</td>\n",
       "      <td>159.000000</td>\n",
       "      <td>65.000000</td>\n",
       "      <td>120.000000</td>\n",
       "      <td>80.000000</td>\n",
       "      <td>1.000000</td>\n",
       "      <td>1.000000</td>\n",
       "      <td>0.000000</td>\n",
       "      <td>0.000000</td>\n",
       "      <td>1.000000</td>\n",
       "      <td>0.000000</td>\n",
       "    </tr>\n",
       "    <tr>\n",
       "      <th>50%</th>\n",
       "      <td>19703.000000</td>\n",
       "      <td>1.000000</td>\n",
       "      <td>165.000000</td>\n",
       "      <td>72.000000</td>\n",
       "      <td>120.000000</td>\n",
       "      <td>80.000000</td>\n",
       "      <td>1.000000</td>\n",
       "      <td>1.000000</td>\n",
       "      <td>0.000000</td>\n",
       "      <td>0.000000</td>\n",
       "      <td>1.000000</td>\n",
       "      <td>0.000000</td>\n",
       "    </tr>\n",
       "    <tr>\n",
       "      <th>75%</th>\n",
       "      <td>21327.000000</td>\n",
       "      <td>2.000000</td>\n",
       "      <td>170.000000</td>\n",
       "      <td>82.000000</td>\n",
       "      <td>140.000000</td>\n",
       "      <td>90.000000</td>\n",
       "      <td>2.000000</td>\n",
       "      <td>1.000000</td>\n",
       "      <td>0.000000</td>\n",
       "      <td>0.000000</td>\n",
       "      <td>1.000000</td>\n",
       "      <td>1.000000</td>\n",
       "    </tr>\n",
       "    <tr>\n",
       "      <th>max</th>\n",
       "      <td>23713.000000</td>\n",
       "      <td>2.000000</td>\n",
       "      <td>250.000000</td>\n",
       "      <td>200.000000</td>\n",
       "      <td>16020.000000</td>\n",
       "      <td>11000.000000</td>\n",
       "      <td>3.000000</td>\n",
       "      <td>3.000000</td>\n",
       "      <td>1.000000</td>\n",
       "      <td>1.000000</td>\n",
       "      <td>1.000000</td>\n",
       "      <td>1.000000</td>\n",
       "    </tr>\n",
       "  </tbody>\n",
       "</table>\n",
       "</div>"
      ],
      "text/plain": [
       "                age        gender        height        weight         ap_hi  \\\n",
       "count  70000.000000  70000.000000  70000.000000  70000.000000  70000.000000   \n",
       "mean   19468.865814      1.349571    164.359229     74.205690    128.817286   \n",
       "std     2467.251667      0.476838      8.210126     14.395757    154.011419   \n",
       "min    10798.000000      1.000000     55.000000     10.000000   -150.000000   \n",
       "25%    17664.000000      1.000000    159.000000     65.000000    120.000000   \n",
       "50%    19703.000000      1.000000    165.000000     72.000000    120.000000   \n",
       "75%    21327.000000      2.000000    170.000000     82.000000    140.000000   \n",
       "max    23713.000000      2.000000    250.000000    200.000000  16020.000000   \n",
       "\n",
       "              ap_lo   cholesterol          gluc         smoke          alco  \\\n",
       "count  70000.000000  70000.000000  70000.000000  70000.000000  70000.000000   \n",
       "mean      96.630414      1.366871      1.226457      0.088129      0.053771   \n",
       "std      188.472530      0.680250      0.572270      0.283484      0.225568   \n",
       "min      -70.000000      1.000000      1.000000      0.000000      0.000000   \n",
       "25%       80.000000      1.000000      1.000000      0.000000      0.000000   \n",
       "50%       80.000000      1.000000      1.000000      0.000000      0.000000   \n",
       "75%       90.000000      2.000000      1.000000      0.000000      0.000000   \n",
       "max    11000.000000      3.000000      3.000000      1.000000      1.000000   \n",
       "\n",
       "             active        cardio  \n",
       "count  70000.000000  70000.000000  \n",
       "mean       0.803729      0.499700  \n",
       "std        0.397179      0.500003  \n",
       "min        0.000000      0.000000  \n",
       "25%        1.000000      0.000000  \n",
       "50%        1.000000      0.000000  \n",
       "75%        1.000000      1.000000  \n",
       "max        1.000000      1.000000  "
      ]
     },
     "execution_count": 14,
     "metadata": {},
     "output_type": "execute_result"
    }
   ],
   "source": [
    "df.describe()"
   ]
  },
  {
   "cell_type": "markdown",
   "id": "alone-gates",
   "metadata": {},
   "source": [
    "Проверка соотношения классов для целевой переменной."
   ]
  },
  {
   "cell_type": "code",
   "execution_count": 17,
   "id": "technical-finish",
   "metadata": {},
   "outputs": [
    {
     "data": {
      "text/plain": [
       "0.4997"
      ]
     },
     "execution_count": 17,
     "metadata": {},
     "output_type": "execute_result"
    }
   ],
   "source": [
    "df['cardio'][df['cardio']==1].count()/df['cardio'][df['cardio']].count()"
   ]
  },
  {
   "cell_type": "markdown",
   "id": "flying-exclusion",
   "metadata": {},
   "source": [
    "Количество классов можно считать очень хорошо сбалансированным, соответственно меры по балансировке датасета в целом не трубуются."
   ]
  },
  {
   "cell_type": "markdown",
   "id": "continued-dress",
   "metadata": {},
   "source": [
    "Выделение целевой переменной и формирование датасета признаков."
   ]
  },
  {
   "cell_type": "code",
   "execution_count": 18,
   "id": "related-senate",
   "metadata": {},
   "outputs": [],
   "source": [
    "y = df['cardio']"
   ]
  },
  {
   "cell_type": "code",
   "execution_count": 20,
   "id": "potential-peeing",
   "metadata": {},
   "outputs": [],
   "source": [
    "X = df.drop('cardio', axis = 1)"
   ]
  },
  {
   "cell_type": "code",
   "execution_count": 21,
   "id": "prescription-shopper",
   "metadata": {
    "scrolled": true
   },
   "outputs": [
    {
     "data": {
      "text/html": [
       "<div>\n",
       "<style scoped>\n",
       "    .dataframe tbody tr th:only-of-type {\n",
       "        vertical-align: middle;\n",
       "    }\n",
       "\n",
       "    .dataframe tbody tr th {\n",
       "        vertical-align: top;\n",
       "    }\n",
       "\n",
       "    .dataframe thead th {\n",
       "        text-align: right;\n",
       "    }\n",
       "</style>\n",
       "<table border=\"1\" class=\"dataframe\">\n",
       "  <thead>\n",
       "    <tr style=\"text-align: right;\">\n",
       "      <th></th>\n",
       "      <th>age</th>\n",
       "      <th>gender</th>\n",
       "      <th>height</th>\n",
       "      <th>weight</th>\n",
       "      <th>ap_hi</th>\n",
       "      <th>ap_lo</th>\n",
       "      <th>cholesterol</th>\n",
       "      <th>gluc</th>\n",
       "      <th>smoke</th>\n",
       "      <th>alco</th>\n",
       "      <th>active</th>\n",
       "    </tr>\n",
       "    <tr>\n",
       "      <th>id</th>\n",
       "      <th></th>\n",
       "      <th></th>\n",
       "      <th></th>\n",
       "      <th></th>\n",
       "      <th></th>\n",
       "      <th></th>\n",
       "      <th></th>\n",
       "      <th></th>\n",
       "      <th></th>\n",
       "      <th></th>\n",
       "      <th></th>\n",
       "    </tr>\n",
       "  </thead>\n",
       "  <tbody>\n",
       "    <tr>\n",
       "      <th>0</th>\n",
       "      <td>18393</td>\n",
       "      <td>2</td>\n",
       "      <td>168</td>\n",
       "      <td>62.0</td>\n",
       "      <td>110</td>\n",
       "      <td>80</td>\n",
       "      <td>1</td>\n",
       "      <td>1</td>\n",
       "      <td>0</td>\n",
       "      <td>0</td>\n",
       "      <td>1</td>\n",
       "    </tr>\n",
       "    <tr>\n",
       "      <th>1</th>\n",
       "      <td>20228</td>\n",
       "      <td>1</td>\n",
       "      <td>156</td>\n",
       "      <td>85.0</td>\n",
       "      <td>140</td>\n",
       "      <td>90</td>\n",
       "      <td>3</td>\n",
       "      <td>1</td>\n",
       "      <td>0</td>\n",
       "      <td>0</td>\n",
       "      <td>1</td>\n",
       "    </tr>\n",
       "    <tr>\n",
       "      <th>2</th>\n",
       "      <td>18857</td>\n",
       "      <td>1</td>\n",
       "      <td>165</td>\n",
       "      <td>64.0</td>\n",
       "      <td>130</td>\n",
       "      <td>70</td>\n",
       "      <td>3</td>\n",
       "      <td>1</td>\n",
       "      <td>0</td>\n",
       "      <td>0</td>\n",
       "      <td>0</td>\n",
       "    </tr>\n",
       "    <tr>\n",
       "      <th>3</th>\n",
       "      <td>17623</td>\n",
       "      <td>2</td>\n",
       "      <td>169</td>\n",
       "      <td>82.0</td>\n",
       "      <td>150</td>\n",
       "      <td>100</td>\n",
       "      <td>1</td>\n",
       "      <td>1</td>\n",
       "      <td>0</td>\n",
       "      <td>0</td>\n",
       "      <td>1</td>\n",
       "    </tr>\n",
       "    <tr>\n",
       "      <th>4</th>\n",
       "      <td>17474</td>\n",
       "      <td>1</td>\n",
       "      <td>156</td>\n",
       "      <td>56.0</td>\n",
       "      <td>100</td>\n",
       "      <td>60</td>\n",
       "      <td>1</td>\n",
       "      <td>1</td>\n",
       "      <td>0</td>\n",
       "      <td>0</td>\n",
       "      <td>0</td>\n",
       "    </tr>\n",
       "  </tbody>\n",
       "</table>\n",
       "</div>"
      ],
      "text/plain": [
       "      age  gender  height  weight  ap_hi  ap_lo  cholesterol  gluc  smoke  \\\n",
       "id                                                                          \n",
       "0   18393       2     168    62.0    110     80            1     1      0   \n",
       "1   20228       1     156    85.0    140     90            3     1      0   \n",
       "2   18857       1     165    64.0    130     70            3     1      0   \n",
       "3   17623       2     169    82.0    150    100            1     1      0   \n",
       "4   17474       1     156    56.0    100     60            1     1      0   \n",
       "\n",
       "    alco  active  \n",
       "id                \n",
       "0      0       1  \n",
       "1      0       1  \n",
       "2      0       0  \n",
       "3      0       1  \n",
       "4      0       0  "
      ]
     },
     "execution_count": 21,
     "metadata": {},
     "output_type": "execute_result"
    }
   ],
   "source": [
    "X.head()"
   ]
  },
  {
   "cell_type": "markdown",
   "id": "satisfactory-disaster",
   "metadata": {},
   "source": [
    "Дальнейшая предобработка датасета и разделение его по выборкам будет осуществлятся применительно к каждой модели отдельно, т.к. разные модели могут требовать немного разную предобработку, тогда как другие (например, случайный лес), могут работать с величинами различного порядка для признаков."
   ]
  },
  {
   "cell_type": "markdown",
   "id": "bearing-colors",
   "metadata": {},
   "source": [
    "Перед преобразованием проверим варианты уникальных величин в категориальных признаках и наличие пустых значений в признаках."
   ]
  },
  {
   "cell_type": "code",
   "execution_count": 65,
   "id": "abandoned-announcement",
   "metadata": {},
   "outputs": [
    {
     "data": {
      "text/plain": [
       "array([1, 3, 2], dtype=int64)"
      ]
     },
     "execution_count": 65,
     "metadata": {},
     "output_type": "execute_result"
    }
   ],
   "source": [
    "X['cholesterol'].unique()"
   ]
  },
  {
   "cell_type": "code",
   "execution_count": 66,
   "id": "streaming-hanging",
   "metadata": {},
   "outputs": [
    {
     "data": {
      "text/plain": [
       "array([1, 2, 3], dtype=int64)"
      ]
     },
     "execution_count": 66,
     "metadata": {},
     "output_type": "execute_result"
    }
   ],
   "source": [
    "X['gluc'].unique()"
   ]
  },
  {
   "cell_type": "code",
   "execution_count": 67,
   "id": "architectural-divorce",
   "metadata": {},
   "outputs": [
    {
     "data": {
      "text/plain": [
       "array([0, 1], dtype=int64)"
      ]
     },
     "execution_count": 67,
     "metadata": {},
     "output_type": "execute_result"
    }
   ],
   "source": [
    "X['smoke'].unique()"
   ]
  },
  {
   "cell_type": "code",
   "execution_count": 68,
   "id": "textile-sudan",
   "metadata": {},
   "outputs": [
    {
     "data": {
      "text/plain": [
       "array([0, 1], dtype=int64)"
      ]
     },
     "execution_count": 68,
     "metadata": {},
     "output_type": "execute_result"
    }
   ],
   "source": [
    "X['alco'].unique()"
   ]
  },
  {
   "cell_type": "code",
   "execution_count": 69,
   "id": "critical-manner",
   "metadata": {},
   "outputs": [
    {
     "data": {
      "text/plain": [
       "array([1, 0], dtype=int64)"
      ]
     },
     "execution_count": 69,
     "metadata": {},
     "output_type": "execute_result"
    }
   ],
   "source": [
    "X['active'].unique()"
   ]
  },
  {
   "cell_type": "code",
   "execution_count": 70,
   "id": "signed-elements",
   "metadata": {},
   "outputs": [
    {
     "data": {
      "text/plain": [
       "array([2, 1], dtype=int64)"
      ]
     },
     "execution_count": 70,
     "metadata": {},
     "output_type": "execute_result"
    }
   ],
   "source": [
    "X['gender'].unique()"
   ]
  },
  {
   "cell_type": "code",
   "execution_count": 74,
   "id": "loose-manhattan",
   "metadata": {
    "scrolled": true
   },
   "outputs": [
    {
     "data": {
      "text/plain": [
       "age            0\n",
       "gender         0\n",
       "height         0\n",
       "weight         0\n",
       "ap_hi          0\n",
       "ap_lo          0\n",
       "cholesterol    0\n",
       "gluc           0\n",
       "smoke          0\n",
       "alco           0\n",
       "active         0\n",
       "dtype: int64"
      ]
     },
     "execution_count": 74,
     "metadata": {},
     "output_type": "execute_result"
    }
   ],
   "source": [
    "X.isna().sum()"
   ]
  },
  {
   "cell_type": "code",
   "execution_count": 283,
   "id": "uniform-peoples",
   "metadata": {
    "scrolled": true
   },
   "outputs": [
    {
     "data": {
      "text/plain": [
       "0    35021\n",
       "1    34979\n",
       "Name: cardio, dtype: int64"
      ]
     },
     "execution_count": 283,
     "metadata": {},
     "output_type": "execute_result"
    }
   ],
   "source": [
    "y.value_counts()"
   ]
  },
  {
   "cell_type": "markdown",
   "id": "informal-reception",
   "metadata": {},
   "source": [
    "Общее количество величин различных классов достаточно неплохо сбалансировано и не требует дополнительных мероприятий по балансировке."
   ]
  },
  {
   "cell_type": "markdown",
   "id": "typical-march",
   "metadata": {},
   "source": [
    "----------------------------\n",
    "------------------------------"
   ]
  },
  {
   "cell_type": "markdown",
   "id": "realistic-machinery",
   "metadata": {},
   "source": [
    "### Задания 1 и 2"
   ]
  },
  {
   "cell_type": "markdown",
   "id": "first-challenge",
   "metadata": {},
   "source": [
    "1. обучить несколько разных моделей на наборе данных ССЗ (train_case2.csv): логрег, бустинг, лес и т.д - на ваш выбор 2-3 варианта\n",
    "2. при обучении моделей обязательно использовать кроссвалидацию"
   ]
  },
  {
   "cell_type": "markdown",
   "id": "planned-participation",
   "metadata": {},
   "source": [
    "-----------------------------------------------------------------------------"
   ]
  },
  {
   "cell_type": "markdown",
   "id": "significant-grounds",
   "metadata": {},
   "source": [
    "#### Использование логистической регресии"
   ]
  },
  {
   "cell_type": "markdown",
   "id": "worth-voluntary",
   "metadata": {},
   "source": [
    "Для обеспечения результатов при логистической регрессии желательно преобразование признаков разной размерности.  \n",
    "В качестве метода преобразования воспользуемся стандартизацией."
   ]
  },
  {
   "cell_type": "code",
   "execution_count": 247,
   "id": "conscious-leonard",
   "metadata": {
    "scrolled": true
   },
   "outputs": [
    {
     "data": {
      "text/html": [
       "<div>\n",
       "<style scoped>\n",
       "    .dataframe tbody tr th:only-of-type {\n",
       "        vertical-align: middle;\n",
       "    }\n",
       "\n",
       "    .dataframe tbody tr th {\n",
       "        vertical-align: top;\n",
       "    }\n",
       "\n",
       "    .dataframe thead th {\n",
       "        text-align: right;\n",
       "    }\n",
       "</style>\n",
       "<table border=\"1\" class=\"dataframe\">\n",
       "  <thead>\n",
       "    <tr style=\"text-align: right;\">\n",
       "      <th></th>\n",
       "      <th>age</th>\n",
       "      <th>gender</th>\n",
       "      <th>height</th>\n",
       "      <th>weight</th>\n",
       "      <th>ap_hi</th>\n",
       "      <th>ap_lo</th>\n",
       "      <th>cholesterol</th>\n",
       "      <th>gluc</th>\n",
       "      <th>smoke</th>\n",
       "      <th>alco</th>\n",
       "      <th>active</th>\n",
       "    </tr>\n",
       "    <tr>\n",
       "      <th>id</th>\n",
       "      <th></th>\n",
       "      <th></th>\n",
       "      <th></th>\n",
       "      <th></th>\n",
       "      <th></th>\n",
       "      <th></th>\n",
       "      <th></th>\n",
       "      <th></th>\n",
       "      <th></th>\n",
       "      <th></th>\n",
       "      <th></th>\n",
       "    </tr>\n",
       "  </thead>\n",
       "  <tbody>\n",
       "    <tr>\n",
       "      <th>0</th>\n",
       "      <td>18393</td>\n",
       "      <td>2</td>\n",
       "      <td>168</td>\n",
       "      <td>62.0</td>\n",
       "      <td>110</td>\n",
       "      <td>80</td>\n",
       "      <td>1</td>\n",
       "      <td>1</td>\n",
       "      <td>0</td>\n",
       "      <td>0</td>\n",
       "      <td>1</td>\n",
       "    </tr>\n",
       "    <tr>\n",
       "      <th>1</th>\n",
       "      <td>20228</td>\n",
       "      <td>1</td>\n",
       "      <td>156</td>\n",
       "      <td>85.0</td>\n",
       "      <td>140</td>\n",
       "      <td>90</td>\n",
       "      <td>3</td>\n",
       "      <td>1</td>\n",
       "      <td>0</td>\n",
       "      <td>0</td>\n",
       "      <td>1</td>\n",
       "    </tr>\n",
       "    <tr>\n",
       "      <th>2</th>\n",
       "      <td>18857</td>\n",
       "      <td>1</td>\n",
       "      <td>165</td>\n",
       "      <td>64.0</td>\n",
       "      <td>130</td>\n",
       "      <td>70</td>\n",
       "      <td>3</td>\n",
       "      <td>1</td>\n",
       "      <td>0</td>\n",
       "      <td>0</td>\n",
       "      <td>0</td>\n",
       "    </tr>\n",
       "    <tr>\n",
       "      <th>3</th>\n",
       "      <td>17623</td>\n",
       "      <td>2</td>\n",
       "      <td>169</td>\n",
       "      <td>82.0</td>\n",
       "      <td>150</td>\n",
       "      <td>100</td>\n",
       "      <td>1</td>\n",
       "      <td>1</td>\n",
       "      <td>0</td>\n",
       "      <td>0</td>\n",
       "      <td>1</td>\n",
       "    </tr>\n",
       "    <tr>\n",
       "      <th>4</th>\n",
       "      <td>17474</td>\n",
       "      <td>1</td>\n",
       "      <td>156</td>\n",
       "      <td>56.0</td>\n",
       "      <td>100</td>\n",
       "      <td>60</td>\n",
       "      <td>1</td>\n",
       "      <td>1</td>\n",
       "      <td>0</td>\n",
       "      <td>0</td>\n",
       "      <td>0</td>\n",
       "    </tr>\n",
       "  </tbody>\n",
       "</table>\n",
       "</div>"
      ],
      "text/plain": [
       "      age  gender  height  weight  ap_hi  ap_lo  cholesterol  gluc  smoke  \\\n",
       "id                                                                          \n",
       "0   18393       2     168    62.0    110     80            1     1      0   \n",
       "1   20228       1     156    85.0    140     90            3     1      0   \n",
       "2   18857       1     165    64.0    130     70            3     1      0   \n",
       "3   17623       2     169    82.0    150    100            1     1      0   \n",
       "4   17474       1     156    56.0    100     60            1     1      0   \n",
       "\n",
       "    alco  active  \n",
       "id                \n",
       "0      0       1  \n",
       "1      0       1  \n",
       "2      0       0  \n",
       "3      0       1  \n",
       "4      0       0  "
      ]
     },
     "execution_count": 247,
     "metadata": {},
     "output_type": "execute_result"
    }
   ],
   "source": [
    "X_log = X.copy()\n",
    "X_log.head()"
   ]
  },
  {
   "cell_type": "markdown",
   "id": "romance-offering",
   "metadata": {},
   "source": [
    "Применим разбиение к категориальным признакам, которые имеют значения отичные от интервала 0-1"
   ]
  },
  {
   "cell_type": "code",
   "execution_count": 253,
   "id": "advisory-arthur",
   "metadata": {},
   "outputs": [],
   "source": [
    "X_log_gender = pd.get_dummies(X_log['gender'], prefix='gender')"
   ]
  },
  {
   "cell_type": "code",
   "execution_count": 254,
   "id": "colonial-regular",
   "metadata": {},
   "outputs": [
    {
     "data": {
      "text/html": [
       "<div>\n",
       "<style scoped>\n",
       "    .dataframe tbody tr th:only-of-type {\n",
       "        vertical-align: middle;\n",
       "    }\n",
       "\n",
       "    .dataframe tbody tr th {\n",
       "        vertical-align: top;\n",
       "    }\n",
       "\n",
       "    .dataframe thead th {\n",
       "        text-align: right;\n",
       "    }\n",
       "</style>\n",
       "<table border=\"1\" class=\"dataframe\">\n",
       "  <thead>\n",
       "    <tr style=\"text-align: right;\">\n",
       "      <th></th>\n",
       "      <th>gender_1</th>\n",
       "      <th>gender_2</th>\n",
       "    </tr>\n",
       "    <tr>\n",
       "      <th>id</th>\n",
       "      <th></th>\n",
       "      <th></th>\n",
       "    </tr>\n",
       "  </thead>\n",
       "  <tbody>\n",
       "    <tr>\n",
       "      <th>0</th>\n",
       "      <td>0</td>\n",
       "      <td>1</td>\n",
       "    </tr>\n",
       "    <tr>\n",
       "      <th>1</th>\n",
       "      <td>1</td>\n",
       "      <td>0</td>\n",
       "    </tr>\n",
       "    <tr>\n",
       "      <th>2</th>\n",
       "      <td>1</td>\n",
       "      <td>0</td>\n",
       "    </tr>\n",
       "    <tr>\n",
       "      <th>3</th>\n",
       "      <td>0</td>\n",
       "      <td>1</td>\n",
       "    </tr>\n",
       "    <tr>\n",
       "      <th>4</th>\n",
       "      <td>1</td>\n",
       "      <td>0</td>\n",
       "    </tr>\n",
       "  </tbody>\n",
       "</table>\n",
       "</div>"
      ],
      "text/plain": [
       "    gender_1  gender_2\n",
       "id                    \n",
       "0          0         1\n",
       "1          1         0\n",
       "2          1         0\n",
       "3          0         1\n",
       "4          1         0"
      ]
     },
     "execution_count": 254,
     "metadata": {},
     "output_type": "execute_result"
    }
   ],
   "source": [
    "X_log_gender.head()"
   ]
  },
  {
   "cell_type": "code",
   "execution_count": 255,
   "id": "saving-trash",
   "metadata": {},
   "outputs": [],
   "source": [
    "X_log_chol = pd.get_dummies(X_log['cholesterol'], prefix='cholesterol')"
   ]
  },
  {
   "cell_type": "code",
   "execution_count": 256,
   "id": "integral-deployment",
   "metadata": {
    "scrolled": true
   },
   "outputs": [
    {
     "data": {
      "text/html": [
       "<div>\n",
       "<style scoped>\n",
       "    .dataframe tbody tr th:only-of-type {\n",
       "        vertical-align: middle;\n",
       "    }\n",
       "\n",
       "    .dataframe tbody tr th {\n",
       "        vertical-align: top;\n",
       "    }\n",
       "\n",
       "    .dataframe thead th {\n",
       "        text-align: right;\n",
       "    }\n",
       "</style>\n",
       "<table border=\"1\" class=\"dataframe\">\n",
       "  <thead>\n",
       "    <tr style=\"text-align: right;\">\n",
       "      <th></th>\n",
       "      <th>cholesterol_1</th>\n",
       "      <th>cholesterol_2</th>\n",
       "      <th>cholesterol_3</th>\n",
       "    </tr>\n",
       "    <tr>\n",
       "      <th>id</th>\n",
       "      <th></th>\n",
       "      <th></th>\n",
       "      <th></th>\n",
       "    </tr>\n",
       "  </thead>\n",
       "  <tbody>\n",
       "    <tr>\n",
       "      <th>0</th>\n",
       "      <td>1</td>\n",
       "      <td>0</td>\n",
       "      <td>0</td>\n",
       "    </tr>\n",
       "    <tr>\n",
       "      <th>1</th>\n",
       "      <td>0</td>\n",
       "      <td>0</td>\n",
       "      <td>1</td>\n",
       "    </tr>\n",
       "    <tr>\n",
       "      <th>2</th>\n",
       "      <td>0</td>\n",
       "      <td>0</td>\n",
       "      <td>1</td>\n",
       "    </tr>\n",
       "    <tr>\n",
       "      <th>3</th>\n",
       "      <td>1</td>\n",
       "      <td>0</td>\n",
       "      <td>0</td>\n",
       "    </tr>\n",
       "    <tr>\n",
       "      <th>4</th>\n",
       "      <td>1</td>\n",
       "      <td>0</td>\n",
       "      <td>0</td>\n",
       "    </tr>\n",
       "  </tbody>\n",
       "</table>\n",
       "</div>"
      ],
      "text/plain": [
       "    cholesterol_1  cholesterol_2  cholesterol_3\n",
       "id                                             \n",
       "0               1              0              0\n",
       "1               0              0              1\n",
       "2               0              0              1\n",
       "3               1              0              0\n",
       "4               1              0              0"
      ]
     },
     "execution_count": 256,
     "metadata": {},
     "output_type": "execute_result"
    }
   ],
   "source": [
    "X_log_chol.head()"
   ]
  },
  {
   "cell_type": "markdown",
   "id": "signed-locator",
   "metadata": {},
   "source": [
    "заменим исходные колонки на измененные признаки"
   ]
  },
  {
   "cell_type": "code",
   "execution_count": 263,
   "id": "recent-liability",
   "metadata": {},
   "outputs": [],
   "source": [
    "X_log = X_log.drop('gender', axis=1).merge(X_log_gender, left_index=True, right_index=True)"
   ]
  },
  {
   "cell_type": "code",
   "execution_count": 264,
   "id": "finished-promotion",
   "metadata": {},
   "outputs": [],
   "source": [
    "X_log = X_log.drop('cholesterol', axis=1).merge(X_log_chol, left_index=True, right_index=True)"
   ]
  },
  {
   "cell_type": "code",
   "execution_count": 265,
   "id": "signed-multiple",
   "metadata": {},
   "outputs": [
    {
     "data": {
      "text/html": [
       "<div>\n",
       "<style scoped>\n",
       "    .dataframe tbody tr th:only-of-type {\n",
       "        vertical-align: middle;\n",
       "    }\n",
       "\n",
       "    .dataframe tbody tr th {\n",
       "        vertical-align: top;\n",
       "    }\n",
       "\n",
       "    .dataframe thead th {\n",
       "        text-align: right;\n",
       "    }\n",
       "</style>\n",
       "<table border=\"1\" class=\"dataframe\">\n",
       "  <thead>\n",
       "    <tr style=\"text-align: right;\">\n",
       "      <th></th>\n",
       "      <th>age</th>\n",
       "      <th>height</th>\n",
       "      <th>weight</th>\n",
       "      <th>ap_hi</th>\n",
       "      <th>ap_lo</th>\n",
       "      <th>gluc</th>\n",
       "      <th>smoke</th>\n",
       "      <th>alco</th>\n",
       "      <th>active</th>\n",
       "      <th>gender_1</th>\n",
       "      <th>gender_2</th>\n",
       "      <th>cholesterol_1</th>\n",
       "      <th>cholesterol_2</th>\n",
       "      <th>cholesterol_3</th>\n",
       "    </tr>\n",
       "    <tr>\n",
       "      <th>id</th>\n",
       "      <th></th>\n",
       "      <th></th>\n",
       "      <th></th>\n",
       "      <th></th>\n",
       "      <th></th>\n",
       "      <th></th>\n",
       "      <th></th>\n",
       "      <th></th>\n",
       "      <th></th>\n",
       "      <th></th>\n",
       "      <th></th>\n",
       "      <th></th>\n",
       "      <th></th>\n",
       "      <th></th>\n",
       "    </tr>\n",
       "  </thead>\n",
       "  <tbody>\n",
       "    <tr>\n",
       "      <th>0</th>\n",
       "      <td>18393</td>\n",
       "      <td>168</td>\n",
       "      <td>62.0</td>\n",
       "      <td>110</td>\n",
       "      <td>80</td>\n",
       "      <td>1</td>\n",
       "      <td>0</td>\n",
       "      <td>0</td>\n",
       "      <td>1</td>\n",
       "      <td>0</td>\n",
       "      <td>1</td>\n",
       "      <td>1</td>\n",
       "      <td>0</td>\n",
       "      <td>0</td>\n",
       "    </tr>\n",
       "    <tr>\n",
       "      <th>1</th>\n",
       "      <td>20228</td>\n",
       "      <td>156</td>\n",
       "      <td>85.0</td>\n",
       "      <td>140</td>\n",
       "      <td>90</td>\n",
       "      <td>1</td>\n",
       "      <td>0</td>\n",
       "      <td>0</td>\n",
       "      <td>1</td>\n",
       "      <td>1</td>\n",
       "      <td>0</td>\n",
       "      <td>0</td>\n",
       "      <td>0</td>\n",
       "      <td>1</td>\n",
       "    </tr>\n",
       "    <tr>\n",
       "      <th>2</th>\n",
       "      <td>18857</td>\n",
       "      <td>165</td>\n",
       "      <td>64.0</td>\n",
       "      <td>130</td>\n",
       "      <td>70</td>\n",
       "      <td>1</td>\n",
       "      <td>0</td>\n",
       "      <td>0</td>\n",
       "      <td>0</td>\n",
       "      <td>1</td>\n",
       "      <td>0</td>\n",
       "      <td>0</td>\n",
       "      <td>0</td>\n",
       "      <td>1</td>\n",
       "    </tr>\n",
       "    <tr>\n",
       "      <th>3</th>\n",
       "      <td>17623</td>\n",
       "      <td>169</td>\n",
       "      <td>82.0</td>\n",
       "      <td>150</td>\n",
       "      <td>100</td>\n",
       "      <td>1</td>\n",
       "      <td>0</td>\n",
       "      <td>0</td>\n",
       "      <td>1</td>\n",
       "      <td>0</td>\n",
       "      <td>1</td>\n",
       "      <td>1</td>\n",
       "      <td>0</td>\n",
       "      <td>0</td>\n",
       "    </tr>\n",
       "    <tr>\n",
       "      <th>4</th>\n",
       "      <td>17474</td>\n",
       "      <td>156</td>\n",
       "      <td>56.0</td>\n",
       "      <td>100</td>\n",
       "      <td>60</td>\n",
       "      <td>1</td>\n",
       "      <td>0</td>\n",
       "      <td>0</td>\n",
       "      <td>0</td>\n",
       "      <td>1</td>\n",
       "      <td>0</td>\n",
       "      <td>1</td>\n",
       "      <td>0</td>\n",
       "      <td>0</td>\n",
       "    </tr>\n",
       "  </tbody>\n",
       "</table>\n",
       "</div>"
      ],
      "text/plain": [
       "      age  height  weight  ap_hi  ap_lo  gluc  smoke  alco  active  gender_1  \\\n",
       "id                                                                             \n",
       "0   18393     168    62.0    110     80     1      0     0       1         0   \n",
       "1   20228     156    85.0    140     90     1      0     0       1         1   \n",
       "2   18857     165    64.0    130     70     1      0     0       0         1   \n",
       "3   17623     169    82.0    150    100     1      0     0       1         0   \n",
       "4   17474     156    56.0    100     60     1      0     0       0         1   \n",
       "\n",
       "    gender_2  cholesterol_1  cholesterol_2  cholesterol_3  \n",
       "id                                                         \n",
       "0          1              1              0              0  \n",
       "1          0              0              0              1  \n",
       "2          0              0              0              1  \n",
       "3          1              1              0              0  \n",
       "4          0              1              0              0  "
      ]
     },
     "execution_count": 265,
     "metadata": {},
     "output_type": "execute_result"
    }
   ],
   "source": [
    "X_log.head()"
   ]
  },
  {
   "cell_type": "markdown",
   "id": "attempted-substance",
   "metadata": {},
   "source": [
    "Применим стандартизацию к признакам за исключением признаков с диапазоном величин 0-1.  \n"
   ]
  },
  {
   "cell_type": "code",
   "execution_count": 266,
   "id": "registered-arrest",
   "metadata": {
    "scrolled": true
   },
   "outputs": [
    {
     "data": {
      "text/plain": [
       "Index(['age', 'height', 'weight', 'ap_hi', 'ap_lo', 'gluc', 'smoke', 'alco',\n",
       "       'active', 'gender_1', 'gender_2', 'cholesterol_1', 'cholesterol_2',\n",
       "       'cholesterol_3'],\n",
       "      dtype='object')"
      ]
     },
     "execution_count": 266,
     "metadata": {},
     "output_type": "execute_result"
    }
   ],
   "source": [
    "column_names = X_log.columns\n",
    "column_names"
   ]
  },
  {
   "cell_type": "code",
   "execution_count": 267,
   "id": "chicken-tourism",
   "metadata": {},
   "outputs": [
    {
     "data": {
      "text/plain": [
       "Index(['age', 'height', 'weight', 'ap_hi', 'ap_lo'], dtype='object')"
      ]
     },
     "execution_count": 267,
     "metadata": {},
     "output_type": "execute_result"
    }
   ],
   "source": [
    "column_names= column_names.drop(['gluc', 'smoke', 'alco', 'active', 'gender_1', 'gender_2', 'cholesterol_1', 'cholesterol_2',\n",
    "       'cholesterol_3'])\n",
    "column_names"
   ]
  },
  {
   "cell_type": "code",
   "execution_count": 268,
   "id": "nonprofit-origin",
   "metadata": {},
   "outputs": [],
   "source": [
    "features = X_log[column_names]"
   ]
  },
  {
   "cell_type": "code",
   "execution_count": 269,
   "id": "average-monthly",
   "metadata": {},
   "outputs": [],
   "source": [
    "transformer=Normalizer().fit(features)"
   ]
  },
  {
   "cell_type": "code",
   "execution_count": 270,
   "id": "suited-timber",
   "metadata": {},
   "outputs": [],
   "source": [
    "features = transformer.transform(X_log[column_names])"
   ]
  },
  {
   "cell_type": "markdown",
   "id": "checked-flexibility",
   "metadata": {},
   "source": [
    "Проверка данных после нормализации"
   ]
  },
  {
   "cell_type": "code",
   "execution_count": 271,
   "id": "sorted-jenny",
   "metadata": {},
   "outputs": [
    {
     "data": {
      "text/html": [
       "<div>\n",
       "<style scoped>\n",
       "    .dataframe tbody tr th:only-of-type {\n",
       "        vertical-align: middle;\n",
       "    }\n",
       "\n",
       "    .dataframe tbody tr th {\n",
       "        vertical-align: top;\n",
       "    }\n",
       "\n",
       "    .dataframe thead th {\n",
       "        text-align: right;\n",
       "    }\n",
       "</style>\n",
       "<table border=\"1\" class=\"dataframe\">\n",
       "  <thead>\n",
       "    <tr style=\"text-align: right;\">\n",
       "      <th></th>\n",
       "      <th>age</th>\n",
       "      <th>height</th>\n",
       "      <th>weight</th>\n",
       "      <th>ap_hi</th>\n",
       "      <th>ap_lo</th>\n",
       "      <th>gluc</th>\n",
       "      <th>smoke</th>\n",
       "      <th>alco</th>\n",
       "      <th>active</th>\n",
       "      <th>gender_1</th>\n",
       "      <th>gender_2</th>\n",
       "      <th>cholesterol_1</th>\n",
       "      <th>cholesterol_2</th>\n",
       "      <th>cholesterol_3</th>\n",
       "    </tr>\n",
       "    <tr>\n",
       "      <th>id</th>\n",
       "      <th></th>\n",
       "      <th></th>\n",
       "      <th></th>\n",
       "      <th></th>\n",
       "      <th></th>\n",
       "      <th></th>\n",
       "      <th></th>\n",
       "      <th></th>\n",
       "      <th></th>\n",
       "      <th></th>\n",
       "      <th></th>\n",
       "      <th></th>\n",
       "      <th></th>\n",
       "      <th></th>\n",
       "    </tr>\n",
       "  </thead>\n",
       "  <tbody>\n",
       "    <tr>\n",
       "      <th>0</th>\n",
       "      <td>0.999925</td>\n",
       "      <td>0.009133</td>\n",
       "      <td>0.003371</td>\n",
       "      <td>0.005980</td>\n",
       "      <td>0.004349</td>\n",
       "      <td>1</td>\n",
       "      <td>0</td>\n",
       "      <td>0</td>\n",
       "      <td>1</td>\n",
       "      <td>0</td>\n",
       "      <td>1</td>\n",
       "      <td>1</td>\n",
       "      <td>0</td>\n",
       "      <td>0</td>\n",
       "    </tr>\n",
       "    <tr>\n",
       "      <th>1</th>\n",
       "      <td>0.999928</td>\n",
       "      <td>0.007712</td>\n",
       "      <td>0.004202</td>\n",
       "      <td>0.006921</td>\n",
       "      <td>0.004449</td>\n",
       "      <td>1</td>\n",
       "      <td>0</td>\n",
       "      <td>0</td>\n",
       "      <td>1</td>\n",
       "      <td>1</td>\n",
       "      <td>0</td>\n",
       "      <td>0</td>\n",
       "      <td>0</td>\n",
       "      <td>1</td>\n",
       "    </tr>\n",
       "    <tr>\n",
       "      <th>2</th>\n",
       "      <td>0.999925</td>\n",
       "      <td>0.008749</td>\n",
       "      <td>0.003394</td>\n",
       "      <td>0.006893</td>\n",
       "      <td>0.003712</td>\n",
       "      <td>1</td>\n",
       "      <td>0</td>\n",
       "      <td>0</td>\n",
       "      <td>0</td>\n",
       "      <td>1</td>\n",
       "      <td>0</td>\n",
       "      <td>0</td>\n",
       "      <td>0</td>\n",
       "      <td>1</td>\n",
       "    </tr>\n",
       "    <tr>\n",
       "      <th>3</th>\n",
       "      <td>0.999891</td>\n",
       "      <td>0.009589</td>\n",
       "      <td>0.004653</td>\n",
       "      <td>0.008511</td>\n",
       "      <td>0.005674</td>\n",
       "      <td>1</td>\n",
       "      <td>0</td>\n",
       "      <td>0</td>\n",
       "      <td>1</td>\n",
       "      <td>0</td>\n",
       "      <td>1</td>\n",
       "      <td>1</td>\n",
       "      <td>0</td>\n",
       "      <td>0</td>\n",
       "    </tr>\n",
       "    <tr>\n",
       "      <th>4</th>\n",
       "      <td>0.999933</td>\n",
       "      <td>0.008927</td>\n",
       "      <td>0.003205</td>\n",
       "      <td>0.005722</td>\n",
       "      <td>0.003433</td>\n",
       "      <td>1</td>\n",
       "      <td>0</td>\n",
       "      <td>0</td>\n",
       "      <td>0</td>\n",
       "      <td>1</td>\n",
       "      <td>0</td>\n",
       "      <td>1</td>\n",
       "      <td>0</td>\n",
       "      <td>0</td>\n",
       "    </tr>\n",
       "  </tbody>\n",
       "</table>\n",
       "</div>"
      ],
      "text/plain": [
       "         age    height    weight     ap_hi     ap_lo  gluc  smoke  alco  \\\n",
       "id                                                                        \n",
       "0   0.999925  0.009133  0.003371  0.005980  0.004349     1      0     0   \n",
       "1   0.999928  0.007712  0.004202  0.006921  0.004449     1      0     0   \n",
       "2   0.999925  0.008749  0.003394  0.006893  0.003712     1      0     0   \n",
       "3   0.999891  0.009589  0.004653  0.008511  0.005674     1      0     0   \n",
       "4   0.999933  0.008927  0.003205  0.005722  0.003433     1      0     0   \n",
       "\n",
       "    active  gender_1  gender_2  cholesterol_1  cholesterol_2  cholesterol_3  \n",
       "id                                                                           \n",
       "0        1         0         1              1              0              0  \n",
       "1        1         1         0              0              0              1  \n",
       "2        0         1         0              0              0              1  \n",
       "3        1         0         1              1              0              0  \n",
       "4        0         1         0              1              0              0  "
      ]
     },
     "execution_count": 271,
     "metadata": {},
     "output_type": "execute_result"
    }
   ],
   "source": [
    "X_log[column_names] = features\n",
    "X_log.head()"
   ]
  },
  {
   "cell_type": "markdown",
   "id": "maritime-absolute",
   "metadata": {},
   "source": [
    "Разбивка датасета на тренировочную и проверочную части."
   ]
  },
  {
   "cell_type": "code",
   "execution_count": 272,
   "id": "found-ethnic",
   "metadata": {},
   "outputs": [],
   "source": [
    "X_train_log, X_test_log, y_train_log, y_test_log = train_test_split(X_log, y, random_state=8)"
   ]
  },
  {
   "cell_type": "markdown",
   "id": "trained-chair",
   "metadata": {},
   "source": [
    "Объявление и тренировка модели логистической регрессии.  \n",
    "В качестве параметра попробуем добавить L2 ругуляризацию."
   ]
  },
  {
   "cell_type": "code",
   "execution_count": 274,
   "id": "numerous-saturday",
   "metadata": {},
   "outputs": [],
   "source": [
    "clf_log = LogisticRegression(penalty='l2', tol=1e-5, C=0.5, random_state=17)"
   ]
  },
  {
   "cell_type": "code",
   "execution_count": 275,
   "id": "homeless-estimate",
   "metadata": {},
   "outputs": [
    {
     "data": {
      "text/plain": [
       "LogisticRegression(C=0.5, random_state=17, tol=1e-05)"
      ]
     },
     "execution_count": 275,
     "metadata": {},
     "output_type": "execute_result"
    }
   ],
   "source": [
    "clf_log.fit(X_train_log, y_train_log)"
   ]
  },
  {
   "cell_type": "code",
   "execution_count": 276,
   "id": "scheduled-david",
   "metadata": {
    "scrolled": false
   },
   "outputs": [
    {
     "data": {
      "text/plain": [
       "array([[ 0.14967213, -3.08023196,  0.15968191,  2.30981602,  3.93356194,\n",
       "        -0.06753384, -0.12017589, -0.13282786, -0.18765942, -0.01572017,\n",
       "         0.08898821, -0.68640146, -0.02253427,  0.78220376]])"
      ]
     },
     "execution_count": 276,
     "metadata": {},
     "output_type": "execute_result"
    }
   ],
   "source": [
    "clf_log.coef_"
   ]
  },
  {
   "cell_type": "code",
   "execution_count": 277,
   "id": "acute-graphic",
   "metadata": {
    "scrolled": true
   },
   "outputs": [
    {
     "data": {
      "text/plain": [
       "0.5960761904761904"
      ]
     },
     "execution_count": 277,
     "metadata": {},
     "output_type": "execute_result"
    }
   ],
   "source": [
    "clf_log.score(X_train_log, y_train_log)"
   ]
  },
  {
   "cell_type": "markdown",
   "id": "desirable-acoustic",
   "metadata": {},
   "source": [
    "Проверка качества при помощи кросс-валидации при условии использования различных метрик для оценки"
   ]
  },
  {
   "cell_type": "code",
   "execution_count": 278,
   "id": "proved-robert",
   "metadata": {},
   "outputs": [],
   "source": [
    "scores_log = cross_val_score(clf_log, X_train_log, y_train, cv=5, scoring='f1_macro')"
   ]
  },
  {
   "cell_type": "code",
   "execution_count": 279,
   "id": "figured-cisco",
   "metadata": {
    "scrolled": true
   },
   "outputs": [
    {
     "data": {
      "text/plain": [
       "array([0.57348961, 0.56896967, 0.56795088, 0.56836317, 0.55940331])"
      ]
     },
     "execution_count": 279,
     "metadata": {},
     "output_type": "execute_result"
    }
   ],
   "source": [
    "scores_log"
   ]
  },
  {
   "cell_type": "code",
   "execution_count": 284,
   "id": "handled-transaction",
   "metadata": {},
   "outputs": [
    {
     "data": {
      "text/plain": [
       "0.567635327900218"
      ]
     },
     "execution_count": 284,
     "metadata": {},
     "output_type": "execute_result"
    }
   ],
   "source": [
    "cv_log_f1 = scores_log.mean()\n",
    "cv_log_f1"
   ]
  },
  {
   "cell_type": "code",
   "execution_count": 285,
   "id": "unauthorized-employment",
   "metadata": {},
   "outputs": [],
   "source": [
    "scores_log = cross_val_score(clf_log, X_train_log, y_train, cv=5, scoring='roc_auc')"
   ]
  },
  {
   "cell_type": "code",
   "execution_count": 286,
   "id": "arabic-latter",
   "metadata": {},
   "outputs": [
    {
     "data": {
      "text/plain": [
       "array([0.63802543, 0.64086186, 0.64687442, 0.63874566, 0.64228852])"
      ]
     },
     "execution_count": 286,
     "metadata": {},
     "output_type": "execute_result"
    }
   ],
   "source": [
    "scores_log"
   ]
  },
  {
   "cell_type": "code",
   "execution_count": 287,
   "id": "combined-greeting",
   "metadata": {},
   "outputs": [
    {
     "data": {
      "text/plain": [
       "0.6413591774373848"
      ]
     },
     "execution_count": 287,
     "metadata": {},
     "output_type": "execute_result"
    }
   ],
   "source": [
    "cv_log_roc = scores_log.mean()\n",
    "cv_log_roc"
   ]
  },
  {
   "cell_type": "markdown",
   "id": "manufactured-penalty",
   "metadata": {},
   "source": [
    "Проводим предсказания"
   ]
  },
  {
   "cell_type": "code",
   "execution_count": 291,
   "id": "private-ceramic",
   "metadata": {},
   "outputs": [],
   "source": [
    "y_pred_proba_log = clf_log.predict_proba(X_test_log)"
   ]
  },
  {
   "cell_type": "code",
   "execution_count": 292,
   "id": "blocked-cemetery",
   "metadata": {},
   "outputs": [
    {
     "data": {
      "text/plain": [
       "array([[0.57319806, 0.42680194],\n",
       "       [0.5247303 , 0.4752697 ],\n",
       "       [0.60595035, 0.39404965],\n",
       "       ...,\n",
       "       [0.57678037, 0.42321963],\n",
       "       [0.57316041, 0.42683959],\n",
       "       [0.57267742, 0.42732258]])"
      ]
     },
     "execution_count": 292,
     "metadata": {},
     "output_type": "execute_result"
    }
   ],
   "source": [
    "y_pred_proba_log"
   ]
  },
  {
   "cell_type": "markdown",
   "id": "excess-palestine",
   "metadata": {},
   "source": [
    "------------------------------------------------------------------------------"
   ]
  },
  {
   "cell_type": "markdown",
   "id": "specific-preview",
   "metadata": {},
   "source": [
    "#### Использование случайного леса"
   ]
  },
  {
   "cell_type": "code",
   "execution_count": 158,
   "id": "cross-trash",
   "metadata": {},
   "outputs": [],
   "source": [
    "from sklearn.ensemble import RandomForestClassifier\n",
    "from sklearn.model_selection import GridSearchCV"
   ]
  },
  {
   "cell_type": "markdown",
   "id": "smart-supplier",
   "metadata": {},
   "source": [
    "случайный лес более устойчив к различной размерности величин и наличию категориальных переменных, поэтому оставим датасет без дополнительной предобрабюотки."
   ]
  },
  {
   "cell_type": "code",
   "execution_count": 175,
   "id": "suburban-luther",
   "metadata": {},
   "outputs": [],
   "source": [
    "param_grid = {\n",
    "                'n_estimators':[100, 200, 300, 500, 700, 1000],\n",
    "                'criterion':['entropy'],\n",
    "                'min_samples_split':[2, 10, 20],\n",
    "                'min_samples_leaf':[1, 5, 10],\n",
    "                'random_state':[17]}"
   ]
  },
  {
   "cell_type": "markdown",
   "id": "loose-abuse",
   "metadata": {},
   "source": [
    "Подготовка и разбиение датасета."
   ]
  },
  {
   "cell_type": "code",
   "execution_count": 172,
   "id": "indoor-dynamics",
   "metadata": {},
   "outputs": [
    {
     "data": {
      "text/html": [
       "<div>\n",
       "<style scoped>\n",
       "    .dataframe tbody tr th:only-of-type {\n",
       "        vertical-align: middle;\n",
       "    }\n",
       "\n",
       "    .dataframe tbody tr th {\n",
       "        vertical-align: top;\n",
       "    }\n",
       "\n",
       "    .dataframe thead th {\n",
       "        text-align: right;\n",
       "    }\n",
       "</style>\n",
       "<table border=\"1\" class=\"dataframe\">\n",
       "  <thead>\n",
       "    <tr style=\"text-align: right;\">\n",
       "      <th></th>\n",
       "      <th>age</th>\n",
       "      <th>gender</th>\n",
       "      <th>height</th>\n",
       "      <th>weight</th>\n",
       "      <th>ap_hi</th>\n",
       "      <th>ap_lo</th>\n",
       "      <th>cholesterol</th>\n",
       "      <th>gluc</th>\n",
       "      <th>smoke</th>\n",
       "      <th>alco</th>\n",
       "      <th>active</th>\n",
       "    </tr>\n",
       "    <tr>\n",
       "      <th>id</th>\n",
       "      <th></th>\n",
       "      <th></th>\n",
       "      <th></th>\n",
       "      <th></th>\n",
       "      <th></th>\n",
       "      <th></th>\n",
       "      <th></th>\n",
       "      <th></th>\n",
       "      <th></th>\n",
       "      <th></th>\n",
       "      <th></th>\n",
       "    </tr>\n",
       "  </thead>\n",
       "  <tbody>\n",
       "    <tr>\n",
       "      <th>0</th>\n",
       "      <td>18393</td>\n",
       "      <td>2</td>\n",
       "      <td>168</td>\n",
       "      <td>62.0</td>\n",
       "      <td>110</td>\n",
       "      <td>80</td>\n",
       "      <td>1</td>\n",
       "      <td>1</td>\n",
       "      <td>0</td>\n",
       "      <td>0</td>\n",
       "      <td>1</td>\n",
       "    </tr>\n",
       "    <tr>\n",
       "      <th>1</th>\n",
       "      <td>20228</td>\n",
       "      <td>1</td>\n",
       "      <td>156</td>\n",
       "      <td>85.0</td>\n",
       "      <td>140</td>\n",
       "      <td>90</td>\n",
       "      <td>3</td>\n",
       "      <td>1</td>\n",
       "      <td>0</td>\n",
       "      <td>0</td>\n",
       "      <td>1</td>\n",
       "    </tr>\n",
       "    <tr>\n",
       "      <th>2</th>\n",
       "      <td>18857</td>\n",
       "      <td>1</td>\n",
       "      <td>165</td>\n",
       "      <td>64.0</td>\n",
       "      <td>130</td>\n",
       "      <td>70</td>\n",
       "      <td>3</td>\n",
       "      <td>1</td>\n",
       "      <td>0</td>\n",
       "      <td>0</td>\n",
       "      <td>0</td>\n",
       "    </tr>\n",
       "    <tr>\n",
       "      <th>3</th>\n",
       "      <td>17623</td>\n",
       "      <td>2</td>\n",
       "      <td>169</td>\n",
       "      <td>82.0</td>\n",
       "      <td>150</td>\n",
       "      <td>100</td>\n",
       "      <td>1</td>\n",
       "      <td>1</td>\n",
       "      <td>0</td>\n",
       "      <td>0</td>\n",
       "      <td>1</td>\n",
       "    </tr>\n",
       "    <tr>\n",
       "      <th>4</th>\n",
       "      <td>17474</td>\n",
       "      <td>1</td>\n",
       "      <td>156</td>\n",
       "      <td>56.0</td>\n",
       "      <td>100</td>\n",
       "      <td>60</td>\n",
       "      <td>1</td>\n",
       "      <td>1</td>\n",
       "      <td>0</td>\n",
       "      <td>0</td>\n",
       "      <td>0</td>\n",
       "    </tr>\n",
       "  </tbody>\n",
       "</table>\n",
       "</div>"
      ],
      "text/plain": [
       "      age  gender  height  weight  ap_hi  ap_lo  cholesterol  gluc  smoke  \\\n",
       "id                                                                          \n",
       "0   18393       2     168    62.0    110     80            1     1      0   \n",
       "1   20228       1     156    85.0    140     90            3     1      0   \n",
       "2   18857       1     165    64.0    130     70            3     1      0   \n",
       "3   17623       2     169    82.0    150    100            1     1      0   \n",
       "4   17474       1     156    56.0    100     60            1     1      0   \n",
       "\n",
       "    alco  active  \n",
       "id                \n",
       "0      0       1  \n",
       "1      0       1  \n",
       "2      0       0  \n",
       "3      0       1  \n",
       "4      0       0  "
      ]
     },
     "execution_count": 172,
     "metadata": {},
     "output_type": "execute_result"
    }
   ],
   "source": [
    "X_rf = X.copy()\n",
    "X_rf.head()"
   ]
  },
  {
   "cell_type": "code",
   "execution_count": 173,
   "id": "welsh-handling",
   "metadata": {},
   "outputs": [],
   "source": [
    "X_train_rf, X_test_rf, y_train_rf, y_test_rf = train_test_split(X_rf, y, random_state=8)"
   ]
  },
  {
   "cell_type": "markdown",
   "id": "democratic-permit",
   "metadata": {},
   "source": [
    "Обучение модели."
   ]
  },
  {
   "cell_type": "markdown",
   "id": "appropriate-brain",
   "metadata": {},
   "source": [
    "Проведем перебор вариантов для определения наилучшей конфигурации эстиматора."
   ]
  },
  {
   "cell_type": "code",
   "execution_count": 176,
   "id": "atmospheric-bunny",
   "metadata": {},
   "outputs": [],
   "source": [
    "grid_clf = GridSearchCV(clf_rf, param_grid, cv=10)"
   ]
  },
  {
   "cell_type": "code",
   "execution_count": 177,
   "id": "answering-trash",
   "metadata": {},
   "outputs": [
    {
     "data": {
      "text/plain": [
       "GridSearchCV(cv=10,\n",
       "             estimator=RandomForestClassifier(criterion='entropy',\n",
       "                                              min_samples_leaf=5,\n",
       "                                              min_samples_split=10,\n",
       "                                              n_estimators=200,\n",
       "                                              random_state=17),\n",
       "             param_grid={'criterion': ['entropy'],\n",
       "                         'min_samples_leaf': [1, 5, 10],\n",
       "                         'min_samples_split': [2, 10, 20],\n",
       "                         'n_estimators': [100, 200, 300, 500, 700, 1000],\n",
       "                         'random_state': [17]})"
      ]
     },
     "execution_count": 177,
     "metadata": {},
     "output_type": "execute_result"
    }
   ],
   "source": [
    "grid_clf.fit(X_train_rf, y_train_rf)"
   ]
  },
  {
   "cell_type": "markdown",
   "id": "viral-permit",
   "metadata": {},
   "source": [
    "Примем лучший определенный эстиматор в качестве рабочего варианта."
   ]
  },
  {
   "cell_type": "code",
   "execution_count": 179,
   "id": "presidential-navigation",
   "metadata": {},
   "outputs": [],
   "source": [
    "clf_rf=grid_clf.best_estimator_"
   ]
  },
  {
   "cell_type": "code",
   "execution_count": 181,
   "id": "starting-traveler",
   "metadata": {
    "scrolled": true
   },
   "outputs": [
    {
     "data": {
      "text/plain": [
       "{'criterion': 'entropy',\n",
       " 'min_samples_leaf': 10,\n",
       " 'min_samples_split': 2,\n",
       " 'n_estimators': 200,\n",
       " 'random_state': 17}"
      ]
     },
     "execution_count": 181,
     "metadata": {},
     "output_type": "execute_result"
    }
   ],
   "source": [
    "grid_clf.best_params_"
   ]
  },
  {
   "cell_type": "code",
   "execution_count": 182,
   "id": "embedded-gabriel",
   "metadata": {},
   "outputs": [
    {
     "data": {
      "text/plain": [
       "0.7365142857142857"
      ]
     },
     "execution_count": 182,
     "metadata": {},
     "output_type": "execute_result"
    }
   ],
   "source": [
    "grid_clf.best_score_"
   ]
  },
  {
   "cell_type": "markdown",
   "id": "pointed-assurance",
   "metadata": {},
   "source": [
    "Результат оценки важности признаков"
   ]
  },
  {
   "cell_type": "code",
   "execution_count": 180,
   "id": "quantitative-turkey",
   "metadata": {},
   "outputs": [
    {
     "data": {
      "text/plain": [
       "array([0.20886769, 0.00989482, 0.07516766, 0.10277309, 0.34725161,\n",
       "       0.1544213 , 0.06989371, 0.01271771, 0.00563706, 0.00375409,\n",
       "       0.00962126])"
      ]
     },
     "execution_count": 180,
     "metadata": {},
     "output_type": "execute_result"
    }
   ],
   "source": [
    "clf_rf.feature_importances_"
   ]
  },
  {
   "cell_type": "markdown",
   "id": "adverse-malaysia",
   "metadata": {},
   "source": [
    "Обучим еще раз эстиматор используя тренировочный датасет и выбранные лучшие параметры."
   ]
  },
  {
   "cell_type": "code",
   "execution_count": 184,
   "id": "brilliant-henry",
   "metadata": {
    "scrolled": true
   },
   "outputs": [
    {
     "name": "stdout",
     "output_type": "stream",
     "text": [
      "Wall time: 11.7 s\n"
     ]
    },
    {
     "data": {
      "text/plain": [
       "RandomForestClassifier(criterion='entropy', min_samples_leaf=10,\n",
       "                       n_estimators=200, random_state=17)"
      ]
     },
     "execution_count": 184,
     "metadata": {},
     "output_type": "execute_result"
    }
   ],
   "source": [
    "%%time\n",
    "clf_rf.fit(X_train_rf, y_train_rf)"
   ]
  },
  {
   "cell_type": "markdown",
   "id": "marked-pocket",
   "metadata": {},
   "source": [
    "Оценка модели при помощи кросс-валидации на тренировочном датасете."
   ]
  },
  {
   "cell_type": "code",
   "execution_count": 185,
   "id": "passive-blair",
   "metadata": {},
   "outputs": [],
   "source": [
    "clf_rf_cv = np.mean(cross_val_score(clf_rf, X_train_rf, y_train_rf, cv=10))"
   ]
  },
  {
   "cell_type": "code",
   "execution_count": 186,
   "id": "likely-participation",
   "metadata": {},
   "outputs": [
    {
     "data": {
      "text/plain": [
       "0.7365142857142857"
      ]
     },
     "execution_count": 186,
     "metadata": {},
     "output_type": "execute_result"
    }
   ],
   "source": [
    "clf_rf_cv"
   ]
  },
  {
   "cell_type": "markdown",
   "id": "suitable-porter",
   "metadata": {},
   "source": [
    "Получение предсказания для выбранной модели."
   ]
  },
  {
   "cell_type": "code",
   "execution_count": 195,
   "id": "scientific-fiber",
   "metadata": {},
   "outputs": [],
   "source": [
    "y_pred_proba_rf = clf_rf.predict_proba(X_test_rf)"
   ]
  },
  {
   "cell_type": "code",
   "execution_count": 196,
   "id": "cubic-observation",
   "metadata": {},
   "outputs": [
    {
     "data": {
      "text/plain": [
       "array([[0.48746576, 0.51253424],\n",
       "       [0.22571278, 0.77428722],\n",
       "       [0.87769609, 0.12230391],\n",
       "       ...,\n",
       "       [0.66186018, 0.33813982],\n",
       "       [0.89769165, 0.10230835],\n",
       "       [0.57086526, 0.42913474]])"
      ]
     },
     "execution_count": 196,
     "metadata": {},
     "output_type": "execute_result"
    }
   ],
   "source": [
    "y_pred_proba_rf"
   ]
  },
  {
   "cell_type": "code",
   "execution_count": 189,
   "id": "smooth-treasure",
   "metadata": {
    "scrolled": true
   },
   "outputs": [
    {
     "data": {
      "text/plain": [
       "0.7373142857142857"
      ]
     },
     "execution_count": 189,
     "metadata": {},
     "output_type": "execute_result"
    }
   ],
   "source": [
    "clf_rf.score(X_test_rf, y_test_rf)"
   ]
  },
  {
   "cell_type": "markdown",
   "id": "natural-civilization",
   "metadata": {},
   "source": [
    "-------------------------------------------------------------------"
   ]
  },
  {
   "cell_type": "markdown",
   "id": "severe-numbers",
   "metadata": {},
   "source": [
    "#### Использование библиотеки CatBoost"
   ]
  },
  {
   "cell_type": "code",
   "execution_count": 190,
   "id": "european-degree",
   "metadata": {},
   "outputs": [],
   "source": [
    "from catboost import CatBoostClassifier"
   ]
  },
  {
   "cell_type": "code",
   "execution_count": 218,
   "id": "shaped-transportation",
   "metadata": {},
   "outputs": [
    {
     "data": {
      "text/html": [
       "<div>\n",
       "<style scoped>\n",
       "    .dataframe tbody tr th:only-of-type {\n",
       "        vertical-align: middle;\n",
       "    }\n",
       "\n",
       "    .dataframe tbody tr th {\n",
       "        vertical-align: top;\n",
       "    }\n",
       "\n",
       "    .dataframe thead th {\n",
       "        text-align: right;\n",
       "    }\n",
       "</style>\n",
       "<table border=\"1\" class=\"dataframe\">\n",
       "  <thead>\n",
       "    <tr style=\"text-align: right;\">\n",
       "      <th></th>\n",
       "      <th>age</th>\n",
       "      <th>gender</th>\n",
       "      <th>height</th>\n",
       "      <th>weight</th>\n",
       "      <th>ap_hi</th>\n",
       "      <th>ap_lo</th>\n",
       "      <th>cholesterol</th>\n",
       "      <th>gluc</th>\n",
       "      <th>smoke</th>\n",
       "      <th>alco</th>\n",
       "      <th>active</th>\n",
       "    </tr>\n",
       "    <tr>\n",
       "      <th>id</th>\n",
       "      <th></th>\n",
       "      <th></th>\n",
       "      <th></th>\n",
       "      <th></th>\n",
       "      <th></th>\n",
       "      <th></th>\n",
       "      <th></th>\n",
       "      <th></th>\n",
       "      <th></th>\n",
       "      <th></th>\n",
       "      <th></th>\n",
       "    </tr>\n",
       "  </thead>\n",
       "  <tbody>\n",
       "    <tr>\n",
       "      <th>0</th>\n",
       "      <td>18393</td>\n",
       "      <td>2</td>\n",
       "      <td>168</td>\n",
       "      <td>62.0</td>\n",
       "      <td>110</td>\n",
       "      <td>80</td>\n",
       "      <td>1</td>\n",
       "      <td>1</td>\n",
       "      <td>0</td>\n",
       "      <td>0</td>\n",
       "      <td>1</td>\n",
       "    </tr>\n",
       "    <tr>\n",
       "      <th>1</th>\n",
       "      <td>20228</td>\n",
       "      <td>1</td>\n",
       "      <td>156</td>\n",
       "      <td>85.0</td>\n",
       "      <td>140</td>\n",
       "      <td>90</td>\n",
       "      <td>3</td>\n",
       "      <td>1</td>\n",
       "      <td>0</td>\n",
       "      <td>0</td>\n",
       "      <td>1</td>\n",
       "    </tr>\n",
       "    <tr>\n",
       "      <th>2</th>\n",
       "      <td>18857</td>\n",
       "      <td>1</td>\n",
       "      <td>165</td>\n",
       "      <td>64.0</td>\n",
       "      <td>130</td>\n",
       "      <td>70</td>\n",
       "      <td>3</td>\n",
       "      <td>1</td>\n",
       "      <td>0</td>\n",
       "      <td>0</td>\n",
       "      <td>0</td>\n",
       "    </tr>\n",
       "    <tr>\n",
       "      <th>3</th>\n",
       "      <td>17623</td>\n",
       "      <td>2</td>\n",
       "      <td>169</td>\n",
       "      <td>82.0</td>\n",
       "      <td>150</td>\n",
       "      <td>100</td>\n",
       "      <td>1</td>\n",
       "      <td>1</td>\n",
       "      <td>0</td>\n",
       "      <td>0</td>\n",
       "      <td>1</td>\n",
       "    </tr>\n",
       "    <tr>\n",
       "      <th>4</th>\n",
       "      <td>17474</td>\n",
       "      <td>1</td>\n",
       "      <td>156</td>\n",
       "      <td>56.0</td>\n",
       "      <td>100</td>\n",
       "      <td>60</td>\n",
       "      <td>1</td>\n",
       "      <td>1</td>\n",
       "      <td>0</td>\n",
       "      <td>0</td>\n",
       "      <td>0</td>\n",
       "    </tr>\n",
       "  </tbody>\n",
       "</table>\n",
       "</div>"
      ],
      "text/plain": [
       "      age  gender  height  weight  ap_hi  ap_lo  cholesterol  gluc  smoke  \\\n",
       "id                                                                          \n",
       "0   18393       2     168    62.0    110     80            1     1      0   \n",
       "1   20228       1     156    85.0    140     90            3     1      0   \n",
       "2   18857       1     165    64.0    130     70            3     1      0   \n",
       "3   17623       2     169    82.0    150    100            1     1      0   \n",
       "4   17474       1     156    56.0    100     60            1     1      0   \n",
       "\n",
       "    alco  active  \n",
       "id                \n",
       "0      0       1  \n",
       "1      0       1  \n",
       "2      0       0  \n",
       "3      0       1  \n",
       "4      0       0  "
      ]
     },
     "execution_count": 218,
     "metadata": {},
     "output_type": "execute_result"
    }
   ],
   "source": [
    "X_cb = X.copy()\n",
    "X_cb.head()"
   ]
  },
  {
   "cell_type": "code",
   "execution_count": 219,
   "id": "several-boards",
   "metadata": {},
   "outputs": [],
   "source": [
    "X_train_cb, X_test_cb, y_train_cb, y_test_cb = train_test_split(X_cb, y, random_state=8)"
   ]
  },
  {
   "cell_type": "markdown",
   "id": "matched-adrian",
   "metadata": {},
   "source": [
    "Для оптимальной работы библиотеки CatBoost крайне желательно указывать список категориальных переменных."
   ]
  },
  {
   "cell_type": "code",
   "execution_count": 220,
   "id": "bigger-sellers",
   "metadata": {},
   "outputs": [],
   "source": [
    "cat_features = ['gender','cholesterol', 'gluc', 'smoke', 'alco', 'active']"
   ]
  },
  {
   "cell_type": "markdown",
   "id": "reflected-brain",
   "metadata": {},
   "source": [
    "создаем классификатор с набором гиперпараметров."
   ]
  },
  {
   "cell_type": "code",
   "execution_count": 232,
   "id": "wrapped-development",
   "metadata": {},
   "outputs": [],
   "source": [
    "clf_cb = CatBoostClassifier(\n",
    "    iterations=60, \n",
    "    learning_rate=0.1, \n",
    "    custom_loss=['AUC', 'Accuracy']\n",
    "    #loss_function='CrossEntropy'\n",
    ")"
   ]
  },
  {
   "cell_type": "code",
   "execution_count": 233,
   "id": "apparent-facility",
   "metadata": {},
   "outputs": [
    {
     "data": {
      "application/vnd.jupyter.widget-view+json": {
       "model_id": "d193eabfbd3744fb8b4a9508a2612ec5",
       "version_major": 2,
       "version_minor": 0
      },
      "text/plain": [
       "MetricVisualizer(layout=Layout(align_self='stretch', height='500px'))"
      ]
     },
     "metadata": {},
     "output_type": "display_data"
    },
    {
     "data": {
      "text/plain": [
       "<catboost.core.CatBoostClassifier at 0x1afad62d7f0>"
      ]
     },
     "execution_count": 233,
     "metadata": {},
     "output_type": "execute_result"
    }
   ],
   "source": [
    "clf_cb.fit(X_train_cb, y_train_cb, \n",
    "        cat_features=cat_features, \n",
    "        eval_set=(X_test_cb, y_test_cb), \n",
    "        verbose=False,\n",
    "        plot=True\n",
    ")"
   ]
  },
  {
   "cell_type": "markdown",
   "id": "parallel-favorite",
   "metadata": {},
   "source": [
    "Получение предсказанной вероятности."
   ]
  },
  {
   "cell_type": "code",
   "execution_count": 235,
   "id": "interesting-technology",
   "metadata": {},
   "outputs": [],
   "source": [
    "y_pred_proba_cb = clf_cb.predict_proba(X_test_cb)"
   ]
  },
  {
   "cell_type": "markdown",
   "id": "phantom-example",
   "metadata": {},
   "source": [
    "---------------------------------------------------------------------------------------------------"
   ]
  },
  {
   "cell_type": "markdown",
   "id": "logical-seminar",
   "metadata": {},
   "source": [
    "### Задания 3, 4 и 5. Сводная таблица по результатам."
   ]
  },
  {
   "cell_type": "markdown",
   "id": "awful-glance",
   "metadata": {},
   "source": [
    "3. вывести сравнение полученных моделей по основным метрикам классификации: pr/rec/auc/f_score (можно в виде таблицы, где строки - модели, а столбцы - метрики)\n",
    "4. сделать выводы о том, какая модель справилась с задачей лучше других\n",
    "5. (опциональный вопрос) какая метрика (precision_recall_curve или roc_auc_curve) больше подходит в случае сильного дисбаланса классов? (когда объектов одного из классов намного больше чем другого).\n",
    "\n",
    "p.s.В вопросе проще разобраться, если вспомнить оси на графике roc auc curve и рассмотреть такой пример:\n",
    "\n",
    "Имеется 100000 объектов, из которых только 100 - класс \"1\" (99900 - класс \"0\", соответственно). \n",
    "Допустим, у нас две модели:\n",
    "\n",
    "- первая помечает 100 объектов как класс 1, но TP = 90\n",
    "- вторая помечает 1000 объектов как класс 1, но TP такой же - 90\n",
    "\n",
    "Какая модель лучше и почему? И что позволяет легче сделать вывод - roc_auc_curve или precision_recall_curve?"
   ]
  },
  {
   "cell_type": "markdown",
   "id": "coupled-prevention",
   "metadata": {},
   "source": [
    "Выведем построение ROC_AUC кривой в отдельную функцию."
   ]
  },
  {
   "cell_type": "code",
   "execution_count": 312,
   "id": "improved-absence",
   "metadata": {},
   "outputs": [],
   "source": [
    "def roc_auc_build(y, y_pred, label):\n",
    "    fpr = dict()\n",
    "    tpr = dict()\n",
    "    roc_auc = dict()\n",
    "    fpr, tpr, _ = roc_curve(y, y_pred[:, 1])\n",
    "    roc_auc = auc(fpr, tpr)\n",
    "    plt.figure()\n",
    "    lw = 2\n",
    "    plt.plot(\n",
    "        fpr,\n",
    "        tpr,\n",
    "        color=\"darkorange\",\n",
    "        #lw=lw #,\n",
    "        label=\"ROC curve (area = %0.2f)\" % roc_auc,\n",
    "        )\n",
    "    plt.plot([0, 1], [0, 1], color=\"navy\", lw=lw, linestyle=\"--\")\n",
    "    plt.xlim([0.0, 1.0])\n",
    "    plt.ylim([0.0, 1.05])\n",
    "    plt.xlabel(\"False Positive Rate\")\n",
    "    plt.ylabel(\"True Positive Rate\")\n",
    "    plt.title(\"ROC AUC кривая для модели \" + label)\n",
    "    plt.legend(loc=\"lower right\")\n",
    "    plt.show()\n",
    "    return auc(fpr, tpr)"
   ]
  },
  {
   "cell_type": "markdown",
   "id": "integrated-studio",
   "metadata": {},
   "source": [
    "Подсчитаем стандартные метрики для классификации"
   ]
  },
  {
   "cell_type": "code",
   "execution_count": 313,
   "id": "acknowledged-messaging",
   "metadata": {},
   "outputs": [],
   "source": [
    "# Обрабатываться будет весь массив целиком.\n",
    "n=-1"
   ]
  },
  {
   "cell_type": "markdown",
   "id": "editorial-shame",
   "metadata": {},
   "source": [
    "##### Логистическая регрессия"
   ]
  },
  {
   "cell_type": "code",
   "execution_count": 314,
   "id": "greater-disco",
   "metadata": {},
   "outputs": [],
   "source": [
    "precision_log, recall_log, thresholds_log = precision_recall_curve(y_test_log, y_pred_proba_log[:,1])"
   ]
  },
  {
   "cell_type": "code",
   "execution_count": 315,
   "id": "cooperative-flush",
   "metadata": {},
   "outputs": [],
   "source": [
    "fscore_log = (2 * precision_log * recall_log) / (precision_log + recall_log)\n",
    "ix_log = np.argmax(fscore_log)"
   ]
  },
  {
   "cell_type": "code",
   "execution_count": 317,
   "id": "mental-mandate",
   "metadata": {
    "scrolled": true
   },
   "outputs": [
    {
     "data": {
      "image/png": "[encoded data removed]",
      "text/plain": [
       "<Figure size 432x288 with 1 Axes>"
      ]
     },
     "metadata": {
      "needs_background": "light"
     },
     "output_type": "display_data"
    }
   ],
   "source": [
    "plt.plot(recall_log[:n],precision_log[:n] )\n",
    "plt.title(' точность/полнота по для логистической регрессии')\n",
    "plt.xlabel(' полнота')\n",
    "plt.ylabel(' точность')\n",
    "plt.grid('On')\n",
    "plt.show()"
   ]
  },
  {
   "cell_type": "code",
   "execution_count": 319,
   "id": "freelance-engineering",
   "metadata": {
    "scrolled": false
   },
   "outputs": [
    {
     "data": {
      "image/png": "[encoded data removed]",
      "text/plain": [
       "<Figure size 432x288 with 1 Axes>"
      ]
     },
     "metadata": {
      "needs_background": "light"
     },
     "output_type": "display_data"
    }
   ],
   "source": [
    "roc_auc_log = roc_auc_build(y_test_log, y_pred_proba_log, \"Логистическая регресиия\")"
   ]
  },
  {
   "cell_type": "code",
   "execution_count": 302,
   "id": "italian-necessity",
   "metadata": {},
   "outputs": [],
   "source": [
    "log_val = np.array([thresholds_log[ix_log], \n",
    "                      fscore_log[ix_log],\n",
    "                      precision_log[ix_log],\n",
    "                      recall_log[ix_log]])"
   ]
  },
  {
   "cell_type": "markdown",
   "id": "complimentary-fisher",
   "metadata": {},
   "source": [
    "##### Случайный лес"
   ]
  },
  {
   "cell_type": "code",
   "execution_count": 200,
   "id": "complex-float",
   "metadata": {},
   "outputs": [],
   "source": [
    "precision_rf, recall_rf, thresholds_rf = precision_recall_curve(y_test_rf, y_pred_proba_rf[:,1])"
   ]
  },
  {
   "cell_type": "code",
   "execution_count": 202,
   "id": "dressed-google",
   "metadata": {},
   "outputs": [],
   "source": [
    "fscore_rf = (2 * precision_rf * recall_rf) / (precision_rf + recall_rf)\n",
    "ix_rf = np.argmax(fscore_rf)"
   ]
  },
  {
   "cell_type": "code",
   "execution_count": 238,
   "id": "neural-feeling",
   "metadata": {
    "scrolled": false
   },
   "outputs": [
    {
     "data": {
      "image/png": "[encoded data removed]",
      "text/plain": [
       "<Figure size 432x288 with 1 Axes>"
      ]
     },
     "metadata": {
      "needs_background": "light"
     },
     "output_type": "display_data"
    }
   ],
   "source": [
    "plt.plot(recall_rf[:n],precision_rf[:n] )\n",
    "plt.title(' точность/полнота по для случайного леса')\n",
    "plt.xlabel(' полнота')\n",
    "plt.ylabel(' точность')\n",
    "plt.grid('On')\n",
    "plt.show()"
   ]
  },
  {
   "cell_type": "code",
   "execution_count": 321,
   "id": "broad-senator",
   "metadata": {
    "scrolled": true
   },
   "outputs": [
    {
     "data": {
      "image/png": "[encoded data removed]",
      "text/plain": [
       "<Figure size 432x288 with 1 Axes>"
      ]
     },
     "metadata": {
      "needs_background": "light"
     },
     "output_type": "display_data"
    }
   ],
   "source": [
    "roc_auc_rf=roc_auc_build(y_test_rf, y_pred_proba_rf, \"случайный лес\")"
   ]
  },
  {
   "cell_type": "code",
   "execution_count": 322,
   "id": "differential-credit",
   "metadata": {},
   "outputs": [],
   "source": [
    "rf_val = np.array([thresholds_rf[ix_rf], \n",
    "                      fscore_rf[ix_rf],\n",
    "                      precision_rf[ix_rf],\n",
    "                      recall_rf[ix_rf]])"
   ]
  },
  {
   "cell_type": "markdown",
   "id": "favorite-circuit",
   "metadata": {},
   "source": [
    "#### Библиотека Cat Boost"
   ]
  },
  {
   "cell_type": "code",
   "execution_count": 236,
   "id": "incredible-woman",
   "metadata": {},
   "outputs": [],
   "source": [
    "precision_cb, recall_cb, thresholds_cb = precision_recall_curve(y_test_cb, y_pred_proba_cb[:,1])"
   ]
  },
  {
   "cell_type": "code",
   "execution_count": 237,
   "id": "light-bloom",
   "metadata": {},
   "outputs": [],
   "source": [
    "fscore_cb = (2 * precision_cb * recall_cb) / (precision_cb + recall_cb)\n",
    "ix_cb = np.argmax(fscore_cb)"
   ]
  },
  {
   "cell_type": "code",
   "execution_count": 240,
   "id": "collaborative-clone",
   "metadata": {},
   "outputs": [
    {
     "data": {
      "image/png": "[encoded data removed]",
      "text/plain": [
       "<Figure size 432x288 with 1 Axes>"
      ]
     },
     "metadata": {
      "needs_background": "light"
     },
     "output_type": "display_data"
    }
   ],
   "source": [
    "plt.plot(recall_cb[:n],precision_cb[:n] )\n",
    "plt.title(' точность/полнота по для CatBoost')\n",
    "plt.xlabel(' полнота')\n",
    "plt.ylabel(' точность')\n",
    "plt.grid('On')\n",
    "plt.show()"
   ]
  },
  {
   "cell_type": "code",
   "execution_count": 323,
   "id": "handy-desperate",
   "metadata": {},
   "outputs": [
    {
     "data": {
      "image/png": "[encoded data removed]",
      "text/plain": [
       "<Figure size 432x288 with 1 Axes>"
      ]
     },
     "metadata": {
      "needs_background": "light"
     },
     "output_type": "display_data"
    }
   ],
   "source": [
    "roc_auc_cb=roc_auc_build(y_test_cb, y_pred_proba_cb, \"CatBoost\")"
   ]
  },
  {
   "cell_type": "code",
   "execution_count": 324,
   "id": "unlike-vatican",
   "metadata": {},
   "outputs": [],
   "source": [
    "cb_val = np.array([thresholds_cb[ix_cb], \n",
    "                      fscore_cb[ix_cb],\n",
    "                      precision_cb[ix_cb],\n",
    "                      recall_cb[ix_cb]])"
   ]
  },
  {
   "cell_type": "markdown",
   "id": "naval-designer",
   "metadata": {},
   "source": [
    "Построение сводной таблицы со значениями."
   ]
  },
  {
   "cell_type": "code",
   "execution_count": 325,
   "id": "recorded-services",
   "metadata": {},
   "outputs": [],
   "source": [
    "eval_array = np.vstack((log_val, rf_val, cb_val))"
   ]
  },
  {
   "cell_type": "code",
   "execution_count": 326,
   "id": "rocky-julian",
   "metadata": {},
   "outputs": [],
   "source": [
    "eval_df = pd.DataFrame(eval_array, \n",
    "                       columns = ['threshold', 'fscore', 'precision', 'recall'], \n",
    "                       index=['logistic regression', 'random forest', 'cat boost'])"
   ]
  },
  {
   "cell_type": "code",
   "execution_count": 327,
   "id": "later-description",
   "metadata": {
    "scrolled": true
   },
   "outputs": [
    {
     "data": {
      "text/html": [
       "<div>\n",
       "<style scoped>\n",
       "    .dataframe tbody tr th:only-of-type {\n",
       "        vertical-align: middle;\n",
       "    }\n",
       "\n",
       "    .dataframe tbody tr th {\n",
       "        vertical-align: top;\n",
       "    }\n",
       "\n",
       "    .dataframe thead th {\n",
       "        text-align: right;\n",
       "    }\n",
       "</style>\n",
       "<table border=\"1\" class=\"dataframe\">\n",
       "  <thead>\n",
       "    <tr style=\"text-align: right;\">\n",
       "      <th></th>\n",
       "      <th>threshold</th>\n",
       "      <th>fscore</th>\n",
       "      <th>precision</th>\n",
       "      <th>recall</th>\n",
       "    </tr>\n",
       "  </thead>\n",
       "  <tbody>\n",
       "    <tr>\n",
       "      <th>logistic regression</th>\n",
       "      <td>0.427361</td>\n",
       "      <td>0.672682</td>\n",
       "      <td>0.567216</td>\n",
       "      <td>0.826325</td>\n",
       "    </tr>\n",
       "    <tr>\n",
       "      <th>random forest</th>\n",
       "      <td>0.363018</td>\n",
       "      <td>0.745768</td>\n",
       "      <td>0.676690</td>\n",
       "      <td>0.830553</td>\n",
       "    </tr>\n",
       "    <tr>\n",
       "      <th>cat boost</th>\n",
       "      <td>0.349450</td>\n",
       "      <td>0.745400</td>\n",
       "      <td>0.669855</td>\n",
       "      <td>0.840151</td>\n",
       "    </tr>\n",
       "  </tbody>\n",
       "</table>\n",
       "</div>"
      ],
      "text/plain": [
       "                     threshold    fscore  precision    recall\n",
       "logistic regression   0.427361  0.672682   0.567216  0.826325\n",
       "random forest         0.363018  0.745768   0.676690  0.830553\n",
       "cat boost             0.349450  0.745400   0.669855  0.840151"
      ]
     },
     "execution_count": 327,
     "metadata": {},
     "output_type": "execute_result"
    }
   ],
   "source": [
    "eval_df"
   ]
  },
  {
   "cell_type": "code",
   "execution_count": 328,
   "id": "responsible-flood",
   "metadata": {},
   "outputs": [],
   "source": [
    "eval_df['ROC_AUC'] = [roc_auc_log, roc_auc_rf, roc_auc_cb]"
   ]
  },
  {
   "cell_type": "code",
   "execution_count": 329,
   "id": "productive-blood",
   "metadata": {},
   "outputs": [
    {
     "data": {
      "text/html": [
       "<div>\n",
       "<style scoped>\n",
       "    .dataframe tbody tr th:only-of-type {\n",
       "        vertical-align: middle;\n",
       "    }\n",
       "\n",
       "    .dataframe tbody tr th {\n",
       "        vertical-align: top;\n",
       "    }\n",
       "\n",
       "    .dataframe thead th {\n",
       "        text-align: right;\n",
       "    }\n",
       "</style>\n",
       "<table border=\"1\" class=\"dataframe\">\n",
       "  <thead>\n",
       "    <tr style=\"text-align: right;\">\n",
       "      <th></th>\n",
       "      <th>threshold</th>\n",
       "      <th>fscore</th>\n",
       "      <th>precision</th>\n",
       "      <th>recall</th>\n",
       "      <th>ROC_AUC</th>\n",
       "    </tr>\n",
       "  </thead>\n",
       "  <tbody>\n",
       "    <tr>\n",
       "      <th>logistic regression</th>\n",
       "      <td>0.427361</td>\n",
       "      <td>0.672682</td>\n",
       "      <td>0.567216</td>\n",
       "      <td>0.826325</td>\n",
       "      <td>0.651551</td>\n",
       "    </tr>\n",
       "    <tr>\n",
       "      <th>random forest</th>\n",
       "      <td>0.363018</td>\n",
       "      <td>0.745768</td>\n",
       "      <td>0.676690</td>\n",
       "      <td>0.830553</td>\n",
       "      <td>0.803494</td>\n",
       "    </tr>\n",
       "    <tr>\n",
       "      <th>cat boost</th>\n",
       "      <td>0.349450</td>\n",
       "      <td>0.745400</td>\n",
       "      <td>0.669855</td>\n",
       "      <td>0.840151</td>\n",
       "      <td>0.805134</td>\n",
       "    </tr>\n",
       "  </tbody>\n",
       "</table>\n",
       "</div>"
      ],
      "text/plain": [
       "                     threshold    fscore  precision    recall   ROC_AUC\n",
       "logistic regression   0.427361  0.672682   0.567216  0.826325  0.651551\n",
       "random forest         0.363018  0.745768   0.676690  0.830553  0.803494\n",
       "cat boost             0.349450  0.745400   0.669855  0.840151  0.805134"
      ]
     },
     "execution_count": 329,
     "metadata": {},
     "output_type": "execute_result"
    }
   ],
   "source": [
    "eval_df"
   ]
  },
  {
   "cell_type": "markdown",
   "id": "yellow-conference",
   "metadata": {},
   "source": [
    "### Выводы"
   ]
  },
  {
   "cell_type": "markdown",
   "id": "respected-liquid",
   "metadata": {},
   "source": [
    "Как и ожидалось, простая логистическая регрессия дает наихудшие параметры финальной модели.  \n",
    "Это может быть объяснено тем, что логистическая регрессия достаточно плохо работает с категориальными переменными, поэтому, в данном случае ее использование не совсем целесообразно. Также, нельзя исключать нелинейность зависимости.\n",
    "высокие показатели для RandomForest вполне ожидаемы. также успешность намного выше благодаря примененному перебору метапараметров.  \n",
    "Возможно, с увеличением частоты сетки или с использованием Random Search можно было подобрать еще более оптимальные параметры.\n",
    "CatBoost выдал самый высокий реультат, несмотря на отсутвии подбора метапараметров и, по сути случайное их назначение. \n",
    "Из рех вариантов CatBoost, похоже, является оптимальным для данной задачи."
   ]
  },
  {
   "cell_type": "markdown",
   "id": "tamil-california",
   "metadata": {},
   "source": [
    "#### задача 5"
   ]
  },
  {
   "cell_type": "markdown",
   "id": "tracked-evening",
   "metadata": {},
   "source": [
    "Исходя из имеющейся информации кривая Precision-recall намного легче интерпретируется и значительно чаще используется в реальном мире.  \n",
    "Но в то же время она значительно более чувствительна к дисбалансу классов.   \n",
    "\n",
    "Также встречается мнение, что из-за немного различной методики оценки выбор конкретной метрики определяестя стоимостью ложно0положительных и ложно-отрицательных результатов для бизнеса.\n",
    "Также для несбалансированных выборок можно использовать метрики обеспечивающие учет этой есбалансированности."
   ]
  },
  {
   "cell_type": "markdown",
   "id": "convinced-offering",
   "metadata": {},
   "source": [
    "--------------------------------"
   ]
  },
  {
   "cell_type": "markdown",
   "id": "stone-termination",
   "metadata": {},
   "source": [
    "### Задание 6"
   ]
  },
  {
   "cell_type": "markdown",
   "id": "modern-birthday",
   "metadata": {},
   "source": [
    "6. (опциональный вопрос) Найти порог классификации по деньгам (Стоимость лечения 15000 р, если сделали тест и начали лечить вовремя. Стоимость лечения 20000, если упустили и начали лечить когда уже проявились все симптомы. Стоимость теста 1400 р)"
   ]
  },
  {
   "cell_type": "code",
   "execution_count": 337,
   "id": "classified-tolerance",
   "metadata": {},
   "outputs": [],
   "source": [
    "import itertools"
   ]
  },
  {
   "cell_type": "code",
   "execution_count": 338,
   "id": "everyday-glory",
   "metadata": {},
   "outputs": [],
   "source": [
    "def plot_confusion_matrix(cm, classes,\n",
    "                          normalize=False,\n",
    "                          title='Confusion matrix',\n",
    "                          cmap=plt.cm.Blues):\n",
    "    \"\"\"\n",
    "    This function prints and plots the confusion matrix.\n",
    "    Normalization can be applied by setting `normalize=True`.\n",
    "    \"\"\"\n",
    "    plt.imshow(cm, interpolation='nearest', cmap=cmap)\n",
    "    plt.title(title)\n",
    "    plt.colorbar()\n",
    "    tick_marks = np.arange(len(classes))\n",
    "    plt.xticks(tick_marks, classes, rotation=45)\n",
    "    plt.yticks(tick_marks, classes)\n",
    "\n",
    "    if normalize:\n",
    "        cm = cm.astype('float') / cm.sum(axis=1)[:, np.newaxis]\n",
    "        print(\"Normalized confusion matrix\")\n",
    "    else:\n",
    "        print('Confusion matrix, without normalization')\n",
    "\n",
    "    print(cm)\n",
    "\n",
    "    thresh = cm.max() / 2.\n",
    "    for i, j in itertools.product(range(cm.shape[0]), range(cm.shape[1])):\n",
    "        plt.text(j, i, cm[i, j],\n",
    "                 horizontalalignment=\"center\",\n",
    "                 color=\"white\" if cm[i, j] > thresh else \"black\")\n",
    "\n",
    "    plt.tight_layout()\n",
    "    plt.ylabel('True label')\n",
    "    plt.xlabel('Predicted label')"
   ]
  },
  {
   "cell_type": "markdown",
   "id": "blond-medicine",
   "metadata": {},
   "source": [
    "Построим confusion matrix для модели CatBoost, как показавшей наиболее высокий результат."
   ]
  },
  {
   "cell_type": "code",
   "execution_count": 339,
   "id": "going-authority",
   "metadata": {},
   "outputs": [
    {
     "name": "stdout",
     "output_type": "stream",
     "text": [
      "Confusion matrix, without normalization\n",
      "[[5124 3624]\n",
      " [1400 7352]]\n"
     ]
    },
    {
     "data": {
      "image/png": "[encoded data removed]",
      "text/plain": [
       "<Figure size 720x576 with 2 Axes>"
      ]
     },
     "metadata": {
      "needs_background": "light"
     },
     "output_type": "display_data"
    }
   ],
   "source": [
    "font = {'size' : 15}\n",
    "plt.rc('font', **font)\n",
    "\n",
    "cnf_matrix = confusion_matrix(y_test_cb, y_pred_proba_cb[:, 1]>thresholds_cb[ix_cb])\n",
    "plt.figure(figsize=(10, 8))\n",
    "plot_confusion_matrix(cnf_matrix, classes=['Nontoxic', 'toxic'],\n",
    "                      title='Confusion matrix')\n",
    "plt.savefig(\"conf_matrix.png\")\n",
    "plt.show()"
   ]
  },
  {
   "cell_type": "code",
   "execution_count": 331,
   "id": "minimal-governor",
   "metadata": {},
   "outputs": [],
   "source": [
    "rubl_to_test = 1400\n",
    "rubl_to_early_treatment = 15000\n",
    "rubl_to_late_treatment = 20000"
   ]
  },
  {
   "cell_type": "markdown",
   "id": "improving-philadelphia",
   "metadata": {},
   "source": [
    "По аналогии с занятием:"
   ]
  },
  {
   "cell_type": "code",
   "execution_count": 373,
   "id": "demonstrated-implement",
   "metadata": {},
   "outputs": [],
   "source": [
    "def business_threshold_calibrate(y_test, y_pred_proba, \n",
    "                                 thresholds, \n",
    "                                 rubl_to_test, \n",
    "                                 rubl_to_early_treatment, \n",
    "                                 rubl_to_late_treatment):\n",
    "    business_threshold = 0\n",
    "    r1_r2_ = 0\n",
    "    r1_r3_ = 0\n",
    "    r2_r3_ = 0\n",
    "    rubl_1_ = - 10000000 \n",
    "    rubl_all_test_ = - 10000000 \n",
    "    rubl_ML_ = - 10000000 \n",
    "\n",
    "\n",
    "    \n",
    "    r2 = []\n",
    "    n = 100\n",
    "    for opt_buisness_tr in np.linspace(0,1,n).tolist():\n",
    "        # подберем порог для улучшения бизнесс показателя\n",
    "        # matrix is:\n",
    "        # [[TP 0 0, FP 0 1]\n",
    "        #  [FN 0 1, TN 1 1]\n",
    "        \n",
    "        cnf_matrix = confusion_matrix(y_test, y_pred_proba[:, 1] > ( opt_buisness_tr))\n",
    "        \n",
    "#         print(cnf_matrix[0][0])\n",
    "#         print(cnf_matrix[0][1])\n",
    "#         print(cnf_matrix[1][0])\n",
    "#         print(cnf_matrix[1][1])\n",
    "        \n",
    "        # do not do anything TP + FN\n",
    "        rubl_1 = ((cnf_matrix[1][1] + cnf_matrix[1][0])) * rubl_to_late_treatment\n",
    "\n",
    "        # test all + (TP + FN) * early\n",
    "        rubl_all_test = np.sum(cnf_matrix) * rubl_to_test + ((cnf_matrix[1][0]+cnf_matrix[1][1])) * rubl_to_early_treatment\n",
    "\n",
    "        #Use ML predictions for test: (TP + FP) * test + (TP)*early + FN * late\n",
    "        rubl_ML = ((cnf_matrix[1][1] + cnf_matrix[0][1])) * rubl_to_test + \\\n",
    "            cnf_matrix[1][1] * rubl_to_early_treatment + \\\n",
    "            cnf_matrix[1][0] * rubl_to_late_treatment \n",
    "       \n",
    "        # cost save if apply test for ML predicted only\n",
    "        r2_r3 = rubl_all_test - rubl_ML \n",
    "        \n",
    "        # costs save if test evereone\n",
    "        r1_r2 = rubl_1 - rubl_all_test\n",
    "        \n",
    "        #cost save if use ML comparing do nothing\n",
    "        r1_r3 = rubl_1 - rubl_ML\n",
    "\n",
    "        if (r2_r3_ < r2_r3):\n",
    "            business_threshold = opt_buisness_tr\n",
    "            r1_r2_ = r1_r2\n",
    "            r1_r3_ = r1_r3\n",
    "            r2_r3_ = r2_r3\n",
    "            rubl_1_ = rubl_1\n",
    "            rubl_all_test_ = rubl_all_test\n",
    "            rubl_ML_ = rubl_ML\n",
    "            \n",
    "        r2.append(r2_r3)   \n",
    "            \n",
    "    \n",
    "    print('Расходы, если не делать тест и ждать симптомов:                    ',rubl_1_)\n",
    "    print('Расходы, если делать тест всем и лечить группу больных:            ',rubl_all_test_)\n",
    "    print('Расходы, если не делать тест и ждать симптомов:                    ',rubl_ML_)\n",
    "    print('Расходы при решении не делать тесты - расходы с МL :               ',r1_r3_ )\n",
    "    print('Расходы при решении не делать тесты - расходы сделать тесты всем  :',r1_r2_ )\n",
    "    print('Расходы сделать тесты всем - решение делать тесты ML  :            ',r2_r3_ )\n",
    "    plt.plot(np.linspace(0,1,n),r2)\n",
    "    plt.show()\n",
    "    \n",
    "    return business_threshold\n",
    "    "
   ]
  },
  {
   "cell_type": "code",
   "execution_count": 374,
   "id": "thousand-boost",
   "metadata": {},
   "outputs": [
    {
     "name": "stdout",
     "output_type": "stream",
     "text": [
      "Расходы, если не делать тест и ждать симптомов:                     175040000\n",
      "Расходы, если делать тест всем и лечить группу больных:             155780000\n",
      "Расходы, если не делать тест и ждать симптомов:                     153365600\n",
      "Расходы при решении не делать тесты - расходы с МL :                21674400\n",
      "Расходы при решении не делать тесты - расходы сделать тесты всем  : 19260000\n",
      "Расходы сделать тесты всем - решение делать тесты ML  :             2414400\n"
     ]
    },
    {
     "data": {
      "image/png": "[encoded data removed]",
      "text/plain": [
       "<Figure size 432x288 with 1 Axes>"
      ]
     },
     "metadata": {
      "needs_background": "light"
     },
     "output_type": "display_data"
    },
    {
     "name": "stdout",
     "output_type": "stream",
     "text": [
      "уровень порога по бизнес метрике 0.2828282828282829\n",
      "уровень порога по f1 метрике 0.3494497514772689\n"
     ]
    }
   ],
   "source": [
    "BUisnes_tr = business_threshold_calibrate(y_test_cb, y_pred_proba_cb, \n",
    "                                          thresholds_cb[ix_cb] ,\n",
    "                                          rubl_to_test = 1400, \n",
    "                                          rubl_to_early_treatment = 15000, \n",
    "                                          rubl_to_late_treatment = 20000)\n",
    "print('уровень порога по бизнес метрике',BUisnes_tr)\n",
    "print('уровень порога по f1 метрике',thresholds_cb[ix_cb])"
   ]
  },
  {
   "cell_type": "code",
   "execution_count": null,
   "id": "analyzed-literature",
   "metadata": {},
   "outputs": [],
   "source": []
  },
  {
   "cell_type": "code",
   "execution_count": null,
   "id": "rental-decision",
   "metadata": {},
   "outputs": [],
   "source": []
  },
  {
   "cell_type": "code",
   "execution_count": null,
   "id": "therapeutic-helmet",
   "metadata": {},
   "outputs": [],
   "source": []
  }
 ],
 "metadata": {
  "kernelspec": {
   "display_name": "Python 3",
   "language": "python",
   "name": "python3"
  },
  "language_info": {
   "codemirror_mode": {
    "name": "ipython",
    "version": 3
   },
   "file_extension": ".py",
   "mimetype": "text/x-python",
   "name": "python",
   "nbconvert_exporter": "python",
   "pygments_lexer": "ipython3",
   "version": "3.9.1"
  }
 },
 "nbformat": 4,
 "nbformat_minor": 5
}
