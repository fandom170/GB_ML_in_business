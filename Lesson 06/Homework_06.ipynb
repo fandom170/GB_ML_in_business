{
 "cells": [
  {
   "cell_type": "code",
   "execution_count": 1,
   "id": "continuing-mills",
   "metadata": {},
   "outputs": [],
   "source": [
    "import numpy as np\n",
    "import pandas as pd"
   ]
  },
  {
   "cell_type": "code",
   "execution_count": 2,
   "id": "physical-buddy",
   "metadata": {},
   "outputs": [],
   "source": [
    "from catboost import CatBoostClassifier"
   ]
  },
  {
   "cell_type": "code",
   "execution_count": 3,
   "id": "psychological-switzerland",
   "metadata": {},
   "outputs": [],
   "source": [
    "from sklearn.model_selection import train_test_split"
   ]
  },
  {
   "cell_type": "code",
   "execution_count": 4,
   "id": "reliable-professional",
   "metadata": {},
   "outputs": [],
   "source": [
    "import matplotlib.pyplot as plt"
   ]
  },
  {
   "cell_type": "code",
   "execution_count": 5,
   "id": "excess-lending",
   "metadata": {},
   "outputs": [],
   "source": [
    "import seaborn as sns"
   ]
  },
  {
   "cell_type": "code",
   "execution_count": 6,
   "id": "dynamic-firmware",
   "metadata": {},
   "outputs": [],
   "source": [
    "from sklearn.metrics import f1_score, roc_auc_score, precision_score, roc_curve, auc\n",
    "from sklearn.metrics import classification_report, precision_recall_curve, confusion_matrix\n",
    "from sklearn.metrics import recall_score, precision_score, roc_auc_score, accuracy_score, f1_score"
   ]
  },
  {
   "cell_type": "markdown",
   "id": "ahead-notification",
   "metadata": {},
   "source": [
    "Общие функции"
   ]
  },
  {
   "cell_type": "code",
   "execution_count": 7,
   "id": "caroline-march",
   "metadata": {},
   "outputs": [],
   "source": [
    "def evaluate_results(y_test, y_predict):\n",
    "    print('Classification results:')\n",
    "    f1 = f1_score(y_test, y_predict)\n",
    "    print(\"f1: %.2f%%\" % (f1 * 100.0)) \n",
    "    rec = recall_score(y_test, y_predict, average='binary')\n",
    "    print(\"recall: %.2f%%\" % (rec * 100.0)) \n",
    "    prc = precision_score(y_test, y_predict, average='binary')\n",
    "    print(\"precision: %.2f%%\" % (prc * 100.0)) \n",
    "    "
   ]
  },
  {
   "cell_type": "code",
   "execution_count": 8,
   "id": "unable-stomach",
   "metadata": {},
   "outputs": [],
   "source": [
    "def precision_recall_draw(y_test, y_pred, precision, recall, n=-1):\n",
    "    plt.plot(recall[:n],precision[:n] )\n",
    "    plt.title(' точность/полнота')\n",
    "    plt.xlabel(' полнота')\n",
    "    plt.ylabel(' точность')\n",
    "    plt.grid('On')\n",
    "    plt.show()"
   ]
  },
  {
   "cell_type": "code",
   "execution_count": 9,
   "id": "acceptable-rescue",
   "metadata": {},
   "outputs": [],
   "source": [
    "def roc_auc_curve_draw(y_test, y_pred):\n",
    "    sns.set(font_scale=1.5)\n",
    "    sns.set_color_codes(\"muted\")\n",
    "\n",
    "    plt.figure(figsize=(10, 8))\n",
    "    fpr, tpr, thresholds_ = roc_curve(y_test, y_pred, pos_label=1)# C = 0.1\n",
    "    roc_auc = auc(fpr, tpr)\n",
    "    lw = 2\n",
    "\n",
    "    plt.plot(fpr, \n",
    "             tpr, \n",
    "             lw=lw, \n",
    "             label=\"ROC curve (area = %0.2f)\" % roc_auc)    \n",
    "    plt.plot([0, 1], [0, 1])\n",
    "    plt.xlim([0.0, 1.0])\n",
    "    plt.ylim([0.0, 1.05])\n",
    "    plt.xlabel('False Positive Rate')\n",
    "    plt.ylabel('True Positive Rate')\n",
    "    plt.title('ROC curve')\n",
    "    plt.legend(loc=\"lower right\")\n",
    "    #plt.savefig(\"ROC.png\")\n",
    "    plt.show()\n",
    "    return roc_auc"
   ]
  },
  {
   "cell_type": "markdown",
   "id": "fifty-exclusion",
   "metadata": {},
   "source": [
    "### Домашнее задание\n",
    "\n",
    "1. взять любой набор данных для бинарной классификации (можно скачать один из модельных с https://archive.ics.uci.edu/ml/datasets.php)\n",
    "3. сделать feature engineering\n",
    "4. обучить любой классификатор (какой вам нравится)\n",
    "5. далее разделить ваш набор данных на два множества: P (positives) и U (unlabeled). Причем брать нужно не все положительные (класс 1) примеры, а только лишь часть\n",
    "6. применить random negative sampling для построения классификатора в новых условиях\n",
    "7. сравнить качество с решением из пункта 4 (построить отчет - таблицу метрик)\n",
    "8. поэкспериментировать с долей P на шаге 5 (как будет меняться качество модели при уменьшении/увеличении размера P)"
   ]
  },
  {
   "cell_type": "markdown",
   "id": "ultimate-athletics",
   "metadata": {},
   "source": [
    "### Задание 1"
   ]
  },
  {
   "cell_type": "markdown",
   "id": "regulation-windows",
   "metadata": {},
   "source": [
    "1. взять любой набор данных для бинарной классификации (можно скачать один из модельных с https://archive.ics.uci.edu/ml/datasets.php)"
   ]
  },
  {
   "cell_type": "markdown",
   "id": "comic-paintball",
   "metadata": {},
   "source": [
    "Census Income Data Set был взят в качестве образца.  \n",
    "Т.к. датасет не содержит названия колонок загрузка будет производится с headers=None."
   ]
  },
  {
   "cell_type": "code",
   "execution_count": 10,
   "id": "alert-junction",
   "metadata": {},
   "outputs": [],
   "source": [
    "names = ['age', \n",
    "'workclass',\n",
    "'fnlwgt',\n",
    "'education',\n",
    "'education-num',\n",
    "'marital-status',\n",
    "'occupation',\n",
    "'relationship',\n",
    "'race',\n",
    "'sex',\n",
    "'capital-gain',\n",
    "'capital-loss',\n",
    "'hours-per-week',\n",
    "'native-country',\n",
    "'earnings']"
   ]
  },
  {
   "cell_type": "code",
   "execution_count": 11,
   "id": "intensive-garbage",
   "metadata": {},
   "outputs": [],
   "source": [
    "df = pd.read_csv(\"adult.data\", names=names, index_col=False)"
   ]
  },
  {
   "cell_type": "code",
   "execution_count": 12,
   "id": "controlling-start",
   "metadata": {
    "scrolled": true
   },
   "outputs": [
    {
     "data": {
      "text/html": [
       "<div>\n",
       "<style scoped>\n",
       "    .dataframe tbody tr th:only-of-type {\n",
       "        vertical-align: middle;\n",
       "    }\n",
       "\n",
       "    .dataframe tbody tr th {\n",
       "        vertical-align: top;\n",
       "    }\n",
       "\n",
       "    .dataframe thead th {\n",
       "        text-align: right;\n",
       "    }\n",
       "</style>\n",
       "<table border=\"1\" class=\"dataframe\">\n",
       "  <thead>\n",
       "    <tr style=\"text-align: right;\">\n",
       "      <th></th>\n",
       "      <th>age</th>\n",
       "      <th>workclass</th>\n",
       "      <th>fnlwgt</th>\n",
       "      <th>education</th>\n",
       "      <th>education-num</th>\n",
       "      <th>marital-status</th>\n",
       "      <th>occupation</th>\n",
       "      <th>relationship</th>\n",
       "      <th>race</th>\n",
       "      <th>sex</th>\n",
       "      <th>capital-gain</th>\n",
       "      <th>capital-loss</th>\n",
       "      <th>hours-per-week</th>\n",
       "      <th>native-country</th>\n",
       "      <th>earnings</th>\n",
       "    </tr>\n",
       "  </thead>\n",
       "  <tbody>\n",
       "    <tr>\n",
       "      <th>0</th>\n",
       "      <td>39</td>\n",
       "      <td>State-gov</td>\n",
       "      <td>77516</td>\n",
       "      <td>Bachelors</td>\n",
       "      <td>13</td>\n",
       "      <td>Never-married</td>\n",
       "      <td>Adm-clerical</td>\n",
       "      <td>Not-in-family</td>\n",
       "      <td>White</td>\n",
       "      <td>Male</td>\n",
       "      <td>2174</td>\n",
       "      <td>0</td>\n",
       "      <td>40</td>\n",
       "      <td>United-States</td>\n",
       "      <td>&lt;=50K</td>\n",
       "    </tr>\n",
       "    <tr>\n",
       "      <th>1</th>\n",
       "      <td>50</td>\n",
       "      <td>Self-emp-not-inc</td>\n",
       "      <td>83311</td>\n",
       "      <td>Bachelors</td>\n",
       "      <td>13</td>\n",
       "      <td>Married-civ-spouse</td>\n",
       "      <td>Exec-managerial</td>\n",
       "      <td>Husband</td>\n",
       "      <td>White</td>\n",
       "      <td>Male</td>\n",
       "      <td>0</td>\n",
       "      <td>0</td>\n",
       "      <td>13</td>\n",
       "      <td>United-States</td>\n",
       "      <td>&lt;=50K</td>\n",
       "    </tr>\n",
       "    <tr>\n",
       "      <th>2</th>\n",
       "      <td>38</td>\n",
       "      <td>Private</td>\n",
       "      <td>215646</td>\n",
       "      <td>HS-grad</td>\n",
       "      <td>9</td>\n",
       "      <td>Divorced</td>\n",
       "      <td>Handlers-cleaners</td>\n",
       "      <td>Not-in-family</td>\n",
       "      <td>White</td>\n",
       "      <td>Male</td>\n",
       "      <td>0</td>\n",
       "      <td>0</td>\n",
       "      <td>40</td>\n",
       "      <td>United-States</td>\n",
       "      <td>&lt;=50K</td>\n",
       "    </tr>\n",
       "    <tr>\n",
       "      <th>3</th>\n",
       "      <td>53</td>\n",
       "      <td>Private</td>\n",
       "      <td>234721</td>\n",
       "      <td>11th</td>\n",
       "      <td>7</td>\n",
       "      <td>Married-civ-spouse</td>\n",
       "      <td>Handlers-cleaners</td>\n",
       "      <td>Husband</td>\n",
       "      <td>Black</td>\n",
       "      <td>Male</td>\n",
       "      <td>0</td>\n",
       "      <td>0</td>\n",
       "      <td>40</td>\n",
       "      <td>United-States</td>\n",
       "      <td>&lt;=50K</td>\n",
       "    </tr>\n",
       "    <tr>\n",
       "      <th>4</th>\n",
       "      <td>28</td>\n",
       "      <td>Private</td>\n",
       "      <td>338409</td>\n",
       "      <td>Bachelors</td>\n",
       "      <td>13</td>\n",
       "      <td>Married-civ-spouse</td>\n",
       "      <td>Prof-specialty</td>\n",
       "      <td>Wife</td>\n",
       "      <td>Black</td>\n",
       "      <td>Female</td>\n",
       "      <td>0</td>\n",
       "      <td>0</td>\n",
       "      <td>40</td>\n",
       "      <td>Cuba</td>\n",
       "      <td>&lt;=50K</td>\n",
       "    </tr>\n",
       "  </tbody>\n",
       "</table>\n",
       "</div>"
      ],
      "text/plain": [
       "   age          workclass  fnlwgt   education  education-num  \\\n",
       "0   39          State-gov   77516   Bachelors             13   \n",
       "1   50   Self-emp-not-inc   83311   Bachelors             13   \n",
       "2   38            Private  215646     HS-grad              9   \n",
       "3   53            Private  234721        11th              7   \n",
       "4   28            Private  338409   Bachelors             13   \n",
       "\n",
       "        marital-status          occupation    relationship    race      sex  \\\n",
       "0        Never-married        Adm-clerical   Not-in-family   White     Male   \n",
       "1   Married-civ-spouse     Exec-managerial         Husband   White     Male   \n",
       "2             Divorced   Handlers-cleaners   Not-in-family   White     Male   \n",
       "3   Married-civ-spouse   Handlers-cleaners         Husband   Black     Male   \n",
       "4   Married-civ-spouse      Prof-specialty            Wife   Black   Female   \n",
       "\n",
       "   capital-gain  capital-loss  hours-per-week  native-country earnings  \n",
       "0          2174             0              40   United-States    <=50K  \n",
       "1             0             0              13   United-States    <=50K  \n",
       "2             0             0              40   United-States    <=50K  \n",
       "3             0             0              40   United-States    <=50K  \n",
       "4             0             0              40            Cuba    <=50K  "
      ]
     },
     "execution_count": 12,
     "metadata": {},
     "output_type": "execute_result"
    }
   ],
   "source": [
    "df.head()"
   ]
  },
  {
   "cell_type": "markdown",
   "id": "capital-gentleman",
   "metadata": {},
   "source": [
    "Анализ численных переменных."
   ]
  },
  {
   "cell_type": "code",
   "execution_count": 13,
   "id": "absent-belize",
   "metadata": {
    "scrolled": true
   },
   "outputs": [
    {
     "data": {
      "text/html": [
       "<div>\n",
       "<style scoped>\n",
       "    .dataframe tbody tr th:only-of-type {\n",
       "        vertical-align: middle;\n",
       "    }\n",
       "\n",
       "    .dataframe tbody tr th {\n",
       "        vertical-align: top;\n",
       "    }\n",
       "\n",
       "    .dataframe thead th {\n",
       "        text-align: right;\n",
       "    }\n",
       "</style>\n",
       "<table border=\"1\" class=\"dataframe\">\n",
       "  <thead>\n",
       "    <tr style=\"text-align: right;\">\n",
       "      <th></th>\n",
       "      <th>age</th>\n",
       "      <th>fnlwgt</th>\n",
       "      <th>education-num</th>\n",
       "      <th>capital-gain</th>\n",
       "      <th>capital-loss</th>\n",
       "      <th>hours-per-week</th>\n",
       "    </tr>\n",
       "  </thead>\n",
       "  <tbody>\n",
       "    <tr>\n",
       "      <th>count</th>\n",
       "      <td>32561.000000</td>\n",
       "      <td>3.256100e+04</td>\n",
       "      <td>32561.000000</td>\n",
       "      <td>32561.000000</td>\n",
       "      <td>32561.000000</td>\n",
       "      <td>32561.000000</td>\n",
       "    </tr>\n",
       "    <tr>\n",
       "      <th>mean</th>\n",
       "      <td>38.581647</td>\n",
       "      <td>1.897784e+05</td>\n",
       "      <td>10.080679</td>\n",
       "      <td>1077.648844</td>\n",
       "      <td>87.303830</td>\n",
       "      <td>40.437456</td>\n",
       "    </tr>\n",
       "    <tr>\n",
       "      <th>std</th>\n",
       "      <td>13.640433</td>\n",
       "      <td>1.055500e+05</td>\n",
       "      <td>2.572720</td>\n",
       "      <td>7385.292085</td>\n",
       "      <td>402.960219</td>\n",
       "      <td>12.347429</td>\n",
       "    </tr>\n",
       "    <tr>\n",
       "      <th>min</th>\n",
       "      <td>17.000000</td>\n",
       "      <td>1.228500e+04</td>\n",
       "      <td>1.000000</td>\n",
       "      <td>0.000000</td>\n",
       "      <td>0.000000</td>\n",
       "      <td>1.000000</td>\n",
       "    </tr>\n",
       "    <tr>\n",
       "      <th>25%</th>\n",
       "      <td>28.000000</td>\n",
       "      <td>1.178270e+05</td>\n",
       "      <td>9.000000</td>\n",
       "      <td>0.000000</td>\n",
       "      <td>0.000000</td>\n",
       "      <td>40.000000</td>\n",
       "    </tr>\n",
       "    <tr>\n",
       "      <th>50%</th>\n",
       "      <td>37.000000</td>\n",
       "      <td>1.783560e+05</td>\n",
       "      <td>10.000000</td>\n",
       "      <td>0.000000</td>\n",
       "      <td>0.000000</td>\n",
       "      <td>40.000000</td>\n",
       "    </tr>\n",
       "    <tr>\n",
       "      <th>75%</th>\n",
       "      <td>48.000000</td>\n",
       "      <td>2.370510e+05</td>\n",
       "      <td>12.000000</td>\n",
       "      <td>0.000000</td>\n",
       "      <td>0.000000</td>\n",
       "      <td>45.000000</td>\n",
       "    </tr>\n",
       "    <tr>\n",
       "      <th>max</th>\n",
       "      <td>90.000000</td>\n",
       "      <td>1.484705e+06</td>\n",
       "      <td>16.000000</td>\n",
       "      <td>99999.000000</td>\n",
       "      <td>4356.000000</td>\n",
       "      <td>99.000000</td>\n",
       "    </tr>\n",
       "  </tbody>\n",
       "</table>\n",
       "</div>"
      ],
      "text/plain": [
       "                age        fnlwgt  education-num  capital-gain  capital-loss  \\\n",
       "count  32561.000000  3.256100e+04   32561.000000  32561.000000  32561.000000   \n",
       "mean      38.581647  1.897784e+05      10.080679   1077.648844     87.303830   \n",
       "std       13.640433  1.055500e+05       2.572720   7385.292085    402.960219   \n",
       "min       17.000000  1.228500e+04       1.000000      0.000000      0.000000   \n",
       "25%       28.000000  1.178270e+05       9.000000      0.000000      0.000000   \n",
       "50%       37.000000  1.783560e+05      10.000000      0.000000      0.000000   \n",
       "75%       48.000000  2.370510e+05      12.000000      0.000000      0.000000   \n",
       "max       90.000000  1.484705e+06      16.000000  99999.000000   4356.000000   \n",
       "\n",
       "       hours-per-week  \n",
       "count    32561.000000  \n",
       "mean        40.437456  \n",
       "std         12.347429  \n",
       "min          1.000000  \n",
       "25%         40.000000  \n",
       "50%         40.000000  \n",
       "75%         45.000000  \n",
       "max         99.000000  "
      ]
     },
     "execution_count": 13,
     "metadata": {},
     "output_type": "execute_result"
    }
   ],
   "source": [
    "df.describe()"
   ]
  },
  {
   "cell_type": "code",
   "execution_count": 14,
   "id": "studied-factory",
   "metadata": {
    "scrolled": false
   },
   "outputs": [
    {
     "name": "stdout",
     "output_type": "stream",
     "text": [
      "<class 'pandas.core.frame.DataFrame'>\n",
      "RangeIndex: 32561 entries, 0 to 32560\n",
      "Data columns (total 15 columns):\n",
      " #   Column          Non-Null Count  Dtype \n",
      "---  ------          --------------  ----- \n",
      " 0   age             32561 non-null  int64 \n",
      " 1   workclass       32561 non-null  object\n",
      " 2   fnlwgt          32561 non-null  int64 \n",
      " 3   education       32561 non-null  object\n",
      " 4   education-num   32561 non-null  int64 \n",
      " 5   marital-status  32561 non-null  object\n",
      " 6   occupation      32561 non-null  object\n",
      " 7   relationship    32561 non-null  object\n",
      " 8   race            32561 non-null  object\n",
      " 9   sex             32561 non-null  object\n",
      " 10  capital-gain    32561 non-null  int64 \n",
      " 11  capital-loss    32561 non-null  int64 \n",
      " 12  hours-per-week  32561 non-null  int64 \n",
      " 13  native-country  32561 non-null  object\n",
      " 14  earnings        32561 non-null  object\n",
      "dtypes: int64(6), object(9)\n",
      "memory usage: 3.7+ MB\n"
     ]
    }
   ],
   "source": [
    "df.info()"
   ]
  },
  {
   "cell_type": "markdown",
   "id": "upset-comfort",
   "metadata": {},
   "source": [
    "Дополнительная проверка на NaN значения"
   ]
  },
  {
   "cell_type": "code",
   "execution_count": 16,
   "id": "vanilla-school",
   "metadata": {},
   "outputs": [
    {
     "data": {
      "text/plain": [
       "age               0\n",
       "workclass         0\n",
       "fnlwgt            0\n",
       "education         0\n",
       "education-num     0\n",
       "marital-status    0\n",
       "occupation        0\n",
       "relationship      0\n",
       "race              0\n",
       "sex               0\n",
       "capital-gain      0\n",
       "capital-loss      0\n",
       "hours-per-week    0\n",
       "native-country    0\n",
       "earnings          0\n",
       "dtype: int64"
      ]
     },
     "execution_count": 16,
     "metadata": {},
     "output_type": "execute_result"
    }
   ],
   "source": [
    "df.isna().sum()"
   ]
  },
  {
   "cell_type": "code",
   "execution_count": 17,
   "id": "checked-board",
   "metadata": {},
   "outputs": [
    {
     "data": {
      "text/plain": [
       " <=50K    24720\n",
       " >50K      7841\n",
       "Name: earnings, dtype: int64"
      ]
     },
     "execution_count": 17,
     "metadata": {},
     "output_type": "execute_result"
    }
   ],
   "source": [
    "df['earnings'].value_counts()"
   ]
  },
  {
   "cell_type": "markdown",
   "id": "considerable-analyst",
   "metadata": {},
   "source": [
    "В качестве целевой переменной будет выступать колонка 14."
   ]
  },
  {
   "cell_type": "markdown",
   "id": "union-incentive",
   "metadata": {},
   "source": [
    "----------------"
   ]
  },
  {
   "cell_type": "markdown",
   "id": "massive-seminar",
   "metadata": {},
   "source": [
    "### Задание 2"
   ]
  },
  {
   "cell_type": "markdown",
   "id": "adjacent-subscription",
   "metadata": {},
   "source": [
    "3. сделать feature engineering"
   ]
  },
  {
   "cell_type": "markdown",
   "id": "optical-church",
   "metadata": {},
   "source": [
    "Преобразуем целевую переменную."
   ]
  },
  {
   "cell_type": "code",
   "execution_count": 18,
   "id": "graduate-wireless",
   "metadata": {},
   "outputs": [],
   "source": [
    "X = df.copy()"
   ]
  },
  {
   "cell_type": "code",
   "execution_count": 19,
   "id": "hollywood-competition",
   "metadata": {},
   "outputs": [],
   "source": [
    "X.loc[X['earnings'] == ' <=50K', 'earnings'] = 0"
   ]
  },
  {
   "cell_type": "code",
   "execution_count": 20,
   "id": "united-commerce",
   "metadata": {},
   "outputs": [],
   "source": [
    "X.loc[X['earnings'] == ' >50K', 'earnings'] = 1"
   ]
  },
  {
   "cell_type": "code",
   "execution_count": 21,
   "id": "outer-pakistan",
   "metadata": {},
   "outputs": [
    {
     "data": {
      "text/plain": [
       "0    24720\n",
       "1     7841\n",
       "Name: earnings, dtype: int64"
      ]
     },
     "execution_count": 21,
     "metadata": {},
     "output_type": "execute_result"
    }
   ],
   "source": [
    "X['earnings'].value_counts()"
   ]
  },
  {
   "cell_type": "code",
   "execution_count": 22,
   "id": "conventional-setup",
   "metadata": {},
   "outputs": [],
   "source": [
    "X['earnings'] = X['earnings'].astype('int8')"
   ]
  },
  {
   "cell_type": "markdown",
   "id": "secure-encoding",
   "metadata": {},
   "source": [
    "Подготовим списки категориальных инепрерывных переменных для последующего преобразования."
   ]
  },
  {
   "cell_type": "code",
   "execution_count": 23,
   "id": "located-notice",
   "metadata": {},
   "outputs": [
    {
     "data": {
      "text/plain": [
       "Index(['age', 'workclass', 'fnlwgt', 'education', 'education-num',\n",
       "       'marital-status', 'occupation', 'relationship', 'race', 'sex',\n",
       "       'capital-gain', 'capital-loss', 'hours-per-week', 'native-country',\n",
       "       'earnings'],\n",
       "      dtype='object')"
      ]
     },
     "execution_count": 23,
     "metadata": {},
     "output_type": "execute_result"
    }
   ],
   "source": [
    "X.columns"
   ]
  },
  {
   "cell_type": "code",
   "execution_count": 24,
   "id": "musical-marble",
   "metadata": {},
   "outputs": [],
   "source": [
    "cat_features = ['workclass', 'education', 'marital-status', 'occupation', 'relationship', 'race', 'sex',\n",
    "       'native-country']"
   ]
  },
  {
   "cell_type": "code",
   "execution_count": 25,
   "id": "worthy-kingdom",
   "metadata": {},
   "outputs": [],
   "source": [
    "continious_features = ['age', 'fnlwgt', 'education-num', 'capital-gain', 'capital-loss', 'hours-per-week']"
   ]
  },
  {
   "cell_type": "markdown",
   "id": "israeli-image",
   "metadata": {},
   "source": [
    "Посмотри внешний вид распределения непрерывных признаков"
   ]
  },
  {
   "cell_type": "code",
   "execution_count": 26,
   "id": "responsible-tribe",
   "metadata": {
    "scrolled": true
   },
   "outputs": [
    {
     "data": {
      "text/plain": [
       "array([[<AxesSubplot:title={'center':'age'}>,\n",
       "        <AxesSubplot:title={'center':'fnlwgt'}>],\n",
       "       [<AxesSubplot:title={'center':'education-num'}>,\n",
       "        <AxesSubplot:title={'center':'capital-gain'}>],\n",
       "       [<AxesSubplot:title={'center':'capital-loss'}>,\n",
       "        <AxesSubplot:title={'center':'hours-per-week'}>]], dtype=object)"
      ]
     },
     "execution_count": 26,
     "metadata": {},
     "output_type": "execute_result"
    },
    {
     "data": {
      "image/png": "[encoded data removed]",
      "text/plain": [
       "<Figure size 432x288 with 6 Axes>"
      ]
     },
     "metadata": {
      "needs_background": "light"
     },
     "output_type": "display_data"
    }
   ],
   "source": [
    "X[continious_features].hist()"
   ]
  },
  {
   "cell_type": "markdown",
   "id": "italic-grammar",
   "metadata": {},
   "source": [
    "Т.к. признаки имеют распределение далекое от симметричного, применим к ним преобразование квадратного корня."
   ]
  },
  {
   "cell_type": "code",
   "execution_count": 27,
   "id": "adjustable-geology",
   "metadata": {},
   "outputs": [],
   "source": [
    "for elem in continious_features:\n",
    "    X['sqrt_' + elem] = np.sqrt(X[elem])"
   ]
  },
  {
   "cell_type": "code",
   "execution_count": 28,
   "id": "improving-advocacy",
   "metadata": {},
   "outputs": [],
   "source": [
    "sqrt_features = ['sqrt_age', 'sqrt_fnlwgt', 'sqrt_education-num', 'sqrt_capital-gain', 'sqrt_capital-loss', 'sqrt_hours-per-week']"
   ]
  },
  {
   "cell_type": "code",
   "execution_count": 29,
   "id": "charged-outside",
   "metadata": {
    "scrolled": true
   },
   "outputs": [
    {
     "data": {
      "text/plain": [
       "array([[<AxesSubplot:title={'center':'sqrt_age'}>,\n",
       "        <AxesSubplot:title={'center':'sqrt_fnlwgt'}>],\n",
       "       [<AxesSubplot:title={'center':'sqrt_education-num'}>,\n",
       "        <AxesSubplot:title={'center':'sqrt_capital-gain'}>],\n",
       "       [<AxesSubplot:title={'center':'sqrt_capital-loss'}>,\n",
       "        <AxesSubplot:title={'center':'sqrt_hours-per-week'}>]],\n",
       "      dtype=object)"
      ]
     },
     "execution_count": 29,
     "metadata": {},
     "output_type": "execute_result"
    },
    {
     "data": {
      "image/png": "[encoded data removed]",
      "text/plain": [
       "<Figure size 432x288 with 6 Axes>"
      ]
     },
     "metadata": {
      "needs_background": "light"
     },
     "output_type": "display_data"
    }
   ],
   "source": [
    "X[sqrt_features].hist()"
   ]
  },
  {
   "cell_type": "markdown",
   "id": "other-airline",
   "metadata": {},
   "source": [
    "Исходя из гистограмм выше, можно заключить, что данные приняли форму, больше похожую на нормальное распределение."
   ]
  },
  {
   "cell_type": "code",
   "execution_count": 30,
   "id": "associate-diploma",
   "metadata": {
    "scrolled": false
   },
   "outputs": [
    {
     "data": {
      "text/html": [
       "<div>\n",
       "<style scoped>\n",
       "    .dataframe tbody tr th:only-of-type {\n",
       "        vertical-align: middle;\n",
       "    }\n",
       "\n",
       "    .dataframe tbody tr th {\n",
       "        vertical-align: top;\n",
       "    }\n",
       "\n",
       "    .dataframe thead th {\n",
       "        text-align: right;\n",
       "    }\n",
       "</style>\n",
       "<table border=\"1\" class=\"dataframe\">\n",
       "  <thead>\n",
       "    <tr style=\"text-align: right;\">\n",
       "      <th></th>\n",
       "      <th>age</th>\n",
       "      <th>fnlwgt</th>\n",
       "      <th>education-num</th>\n",
       "      <th>capital-gain</th>\n",
       "      <th>capital-loss</th>\n",
       "      <th>hours-per-week</th>\n",
       "      <th>earnings</th>\n",
       "      <th>sqrt_age</th>\n",
       "      <th>sqrt_fnlwgt</th>\n",
       "      <th>sqrt_education-num</th>\n",
       "      <th>sqrt_capital-gain</th>\n",
       "      <th>sqrt_capital-loss</th>\n",
       "      <th>sqrt_hours-per-week</th>\n",
       "    </tr>\n",
       "  </thead>\n",
       "  <tbody>\n",
       "    <tr>\n",
       "      <th>count</th>\n",
       "      <td>32561.000000</td>\n",
       "      <td>3.256100e+04</td>\n",
       "      <td>32561.000000</td>\n",
       "      <td>32561.000000</td>\n",
       "      <td>32561.000000</td>\n",
       "      <td>32561.000000</td>\n",
       "      <td>32561.000000</td>\n",
       "      <td>32561.000000</td>\n",
       "      <td>32561.000000</td>\n",
       "      <td>32561.000000</td>\n",
       "      <td>32561.000000</td>\n",
       "      <td>32561.000000</td>\n",
       "      <td>32561.000000</td>\n",
       "    </tr>\n",
       "    <tr>\n",
       "      <th>mean</th>\n",
       "      <td>38.581647</td>\n",
       "      <td>1.897784e+05</td>\n",
       "      <td>10.080679</td>\n",
       "      <td>1077.648844</td>\n",
       "      <td>87.303830</td>\n",
       "      <td>40.437456</td>\n",
       "      <td>0.240810</td>\n",
       "      <td>6.115049</td>\n",
       "      <td>418.879840</td>\n",
       "      <td>3.144926</td>\n",
       "      <td>7.918279</td>\n",
       "      <td>2.006449</td>\n",
       "      <td>6.271175</td>\n",
       "    </tr>\n",
       "    <tr>\n",
       "      <th>std</th>\n",
       "      <td>13.640433</td>\n",
       "      <td>1.055500e+05</td>\n",
       "      <td>2.572720</td>\n",
       "      <td>7385.292085</td>\n",
       "      <td>402.960219</td>\n",
       "      <td>12.347429</td>\n",
       "      <td>0.427581</td>\n",
       "      <td>1.089892</td>\n",
       "      <td>119.659875</td>\n",
       "      <td>0.436037</td>\n",
       "      <td>31.858765</td>\n",
       "      <td>9.125818</td>\n",
       "      <td>1.053499</td>\n",
       "    </tr>\n",
       "    <tr>\n",
       "      <th>min</th>\n",
       "      <td>17.000000</td>\n",
       "      <td>1.228500e+04</td>\n",
       "      <td>1.000000</td>\n",
       "      <td>0.000000</td>\n",
       "      <td>0.000000</td>\n",
       "      <td>1.000000</td>\n",
       "      <td>0.000000</td>\n",
       "      <td>4.123106</td>\n",
       "      <td>110.837719</td>\n",
       "      <td>1.000000</td>\n",
       "      <td>0.000000</td>\n",
       "      <td>0.000000</td>\n",
       "      <td>1.000000</td>\n",
       "    </tr>\n",
       "    <tr>\n",
       "      <th>25%</th>\n",
       "      <td>28.000000</td>\n",
       "      <td>1.178270e+05</td>\n",
       "      <td>9.000000</td>\n",
       "      <td>0.000000</td>\n",
       "      <td>0.000000</td>\n",
       "      <td>40.000000</td>\n",
       "      <td>0.000000</td>\n",
       "      <td>5.291503</td>\n",
       "      <td>343.259377</td>\n",
       "      <td>3.000000</td>\n",
       "      <td>0.000000</td>\n",
       "      <td>0.000000</td>\n",
       "      <td>6.324555</td>\n",
       "    </tr>\n",
       "    <tr>\n",
       "      <th>50%</th>\n",
       "      <td>37.000000</td>\n",
       "      <td>1.783560e+05</td>\n",
       "      <td>10.000000</td>\n",
       "      <td>0.000000</td>\n",
       "      <td>0.000000</td>\n",
       "      <td>40.000000</td>\n",
       "      <td>0.000000</td>\n",
       "      <td>6.082763</td>\n",
       "      <td>422.322152</td>\n",
       "      <td>3.162278</td>\n",
       "      <td>0.000000</td>\n",
       "      <td>0.000000</td>\n",
       "      <td>6.324555</td>\n",
       "    </tr>\n",
       "    <tr>\n",
       "      <th>75%</th>\n",
       "      <td>48.000000</td>\n",
       "      <td>2.370510e+05</td>\n",
       "      <td>12.000000</td>\n",
       "      <td>0.000000</td>\n",
       "      <td>0.000000</td>\n",
       "      <td>45.000000</td>\n",
       "      <td>0.000000</td>\n",
       "      <td>6.928203</td>\n",
       "      <td>486.878835</td>\n",
       "      <td>3.464102</td>\n",
       "      <td>0.000000</td>\n",
       "      <td>0.000000</td>\n",
       "      <td>6.708204</td>\n",
       "    </tr>\n",
       "    <tr>\n",
       "      <th>max</th>\n",
       "      <td>90.000000</td>\n",
       "      <td>1.484705e+06</td>\n",
       "      <td>16.000000</td>\n",
       "      <td>99999.000000</td>\n",
       "      <td>4356.000000</td>\n",
       "      <td>99.000000</td>\n",
       "      <td>1.000000</td>\n",
       "      <td>9.486833</td>\n",
       "      <td>1218.484715</td>\n",
       "      <td>4.000000</td>\n",
       "      <td>316.226185</td>\n",
       "      <td>66.000000</td>\n",
       "      <td>9.949874</td>\n",
       "    </tr>\n",
       "  </tbody>\n",
       "</table>\n",
       "</div>"
      ],
      "text/plain": [
       "                age        fnlwgt  education-num  capital-gain  capital-loss  \\\n",
       "count  32561.000000  3.256100e+04   32561.000000  32561.000000  32561.000000   \n",
       "mean      38.581647  1.897784e+05      10.080679   1077.648844     87.303830   \n",
       "std       13.640433  1.055500e+05       2.572720   7385.292085    402.960219   \n",
       "min       17.000000  1.228500e+04       1.000000      0.000000      0.000000   \n",
       "25%       28.000000  1.178270e+05       9.000000      0.000000      0.000000   \n",
       "50%       37.000000  1.783560e+05      10.000000      0.000000      0.000000   \n",
       "75%       48.000000  2.370510e+05      12.000000      0.000000      0.000000   \n",
       "max       90.000000  1.484705e+06      16.000000  99999.000000   4356.000000   \n",
       "\n",
       "       hours-per-week      earnings      sqrt_age   sqrt_fnlwgt  \\\n",
       "count    32561.000000  32561.000000  32561.000000  32561.000000   \n",
       "mean        40.437456      0.240810      6.115049    418.879840   \n",
       "std         12.347429      0.427581      1.089892    119.659875   \n",
       "min          1.000000      0.000000      4.123106    110.837719   \n",
       "25%         40.000000      0.000000      5.291503    343.259377   \n",
       "50%         40.000000      0.000000      6.082763    422.322152   \n",
       "75%         45.000000      0.000000      6.928203    486.878835   \n",
       "max         99.000000      1.000000      9.486833   1218.484715   \n",
       "\n",
       "       sqrt_education-num  sqrt_capital-gain  sqrt_capital-loss  \\\n",
       "count        32561.000000       32561.000000       32561.000000   \n",
       "mean             3.144926           7.918279           2.006449   \n",
       "std              0.436037          31.858765           9.125818   \n",
       "min              1.000000           0.000000           0.000000   \n",
       "25%              3.000000           0.000000           0.000000   \n",
       "50%              3.162278           0.000000           0.000000   \n",
       "75%              3.464102           0.000000           0.000000   \n",
       "max              4.000000         316.226185          66.000000   \n",
       "\n",
       "       sqrt_hours-per-week  \n",
       "count         32561.000000  \n",
       "mean              6.271175  \n",
       "std               1.053499  \n",
       "min               1.000000  \n",
       "25%               6.324555  \n",
       "50%               6.324555  \n",
       "75%               6.708204  \n",
       "max               9.949874  "
      ]
     },
     "execution_count": 30,
     "metadata": {},
     "output_type": "execute_result"
    }
   ],
   "source": [
    "X.describe()"
   ]
  },
  {
   "cell_type": "markdown",
   "id": "widespread-superior",
   "metadata": {},
   "source": [
    "Подготовим датасеты для обучения."
   ]
  },
  {
   "cell_type": "code",
   "execution_count": 31,
   "id": "tracked-expansion",
   "metadata": {},
   "outputs": [],
   "source": [
    "y = X['earnings']"
   ]
  },
  {
   "cell_type": "code",
   "execution_count": 32,
   "id": "enabling-questionnaire",
   "metadata": {},
   "outputs": [],
   "source": [
    "X = X.drop('earnings', axis = 1)"
   ]
  },
  {
   "cell_type": "code",
   "execution_count": 33,
   "id": "limiting-gather",
   "metadata": {},
   "outputs": [],
   "source": [
    "X_train, X_test, y_train, y_test = train_test_split(X, y, test_size=0.25, random_state=80)"
   ]
  },
  {
   "cell_type": "markdown",
   "id": "friendly-soldier",
   "metadata": {},
   "source": [
    "Построим датафрэйм для сохранения результатов."
   ]
  },
  {
   "cell_type": "code",
   "execution_count": 118,
   "id": "failing-objective",
   "metadata": {},
   "outputs": [],
   "source": [
    "results = pd.DataFrame(columns = ['Model', 'Part', 'Recall', 'Precision', 'F1', 'RocAuc'])"
   ]
  },
  {
   "cell_type": "code",
   "execution_count": 119,
   "id": "breeding-tongue",
   "metadata": {},
   "outputs": [
    {
     "data": {
      "text/html": [
       "<div>\n",
       "<style scoped>\n",
       "    .dataframe tbody tr th:only-of-type {\n",
       "        vertical-align: middle;\n",
       "    }\n",
       "\n",
       "    .dataframe tbody tr th {\n",
       "        vertical-align: top;\n",
       "    }\n",
       "\n",
       "    .dataframe thead th {\n",
       "        text-align: right;\n",
       "    }\n",
       "</style>\n",
       "<table border=\"1\" class=\"dataframe\">\n",
       "  <thead>\n",
       "    <tr style=\"text-align: right;\">\n",
       "      <th></th>\n",
       "      <th>Model</th>\n",
       "      <th>Part</th>\n",
       "      <th>Recall</th>\n",
       "      <th>Precision</th>\n",
       "      <th>F1</th>\n",
       "      <th>RocAuc</th>\n",
       "    </tr>\n",
       "  </thead>\n",
       "  <tbody>\n",
       "  </tbody>\n",
       "</table>\n",
       "</div>"
      ],
      "text/plain": [
       "Empty DataFrame\n",
       "Columns: [Model, Part, Recall, Precision, F1, RocAuc]\n",
       "Index: []"
      ]
     },
     "execution_count": 119,
     "metadata": {},
     "output_type": "execute_result"
    }
   ],
   "source": [
    "results.head()"
   ]
  },
  {
   "cell_type": "markdown",
   "id": "statutory-beverage",
   "metadata": {},
   "source": [
    "--------------------"
   ]
  },
  {
   "cell_type": "markdown",
   "id": "grand-synthesis",
   "metadata": {},
   "source": [
    "### Задание 3"
   ]
  },
  {
   "cell_type": "markdown",
   "id": "canadian-switzerland",
   "metadata": {},
   "source": [
    "4. обучить любой классификатор (какой вам нравится)\n"
   ]
  },
  {
   "cell_type": "markdown",
   "id": "simplified-engagement",
   "metadata": {},
   "source": [
    "Т.к. исходные набор данных содержит сравнительно большое количество переменных, вполне целесообразно использовать бибилиотеку CatBoost, ориентированную на работу с подобными датасетами."
   ]
  },
  {
   "cell_type": "markdown",
   "id": "wound-preference",
   "metadata": {},
   "source": [
    "Объчвдяем классификатор"
   ]
  },
  {
   "cell_type": "code",
   "execution_count": 35,
   "id": "subtle-leadership",
   "metadata": {},
   "outputs": [],
   "source": [
    "cb_clf = CatBoostClassifier(iterations=20, \n",
    "                            depth = 2,\n",
    "                            thread_count=2, \n",
    "                            random_state=42, \n",
    "                            silent=True)"
   ]
  },
  {
   "cell_type": "markdown",
   "id": "danish-venture",
   "metadata": {},
   "source": [
    "Обучение модели"
   ]
  },
  {
   "cell_type": "code",
   "execution_count": 36,
   "id": "drawn-sodium",
   "metadata": {
    "scrolled": true
   },
   "outputs": [
    {
     "name": "stdout",
     "output_type": "stream",
     "text": [
      "Wall time: 891 ms\n"
     ]
    },
    {
     "data": {
      "text/plain": [
       "<catboost.core.CatBoostClassifier at 0x1dc827247c0>"
      ]
     },
     "execution_count": 36,
     "metadata": {},
     "output_type": "execute_result"
    }
   ],
   "source": [
    "%%time\n",
    "cb_clf.fit(X_train, \n",
    "           y_train, \n",
    "           cat_features=cat_features)"
   ]
  },
  {
   "cell_type": "markdown",
   "id": "declared-wisconsin",
   "metadata": {},
   "source": [
    "Получение предсказаний вероятности"
   ]
  },
  {
   "cell_type": "code",
   "execution_count": 37,
   "id": "prostate-niger",
   "metadata": {},
   "outputs": [],
   "source": [
    "y_pred = cb_clf.predict_proba(X_test)"
   ]
  },
  {
   "cell_type": "markdown",
   "id": "broadband-indonesian",
   "metadata": {},
   "source": [
    "Расчет метрик"
   ]
  },
  {
   "cell_type": "code",
   "execution_count": 120,
   "id": "economic-mainstream",
   "metadata": {},
   "outputs": [],
   "source": [
    "precision, recall, thresholds = precision_recall_curve(y_test, y_pred[:, 1])"
   ]
  },
  {
   "cell_type": "code",
   "execution_count": 121,
   "id": "polished-vegetarian",
   "metadata": {},
   "outputs": [],
   "source": [
    "fscore = (2 * precision * recall) / (precision + recall)"
   ]
  },
  {
   "cell_type": "code",
   "execution_count": 40,
   "id": "brilliant-spider",
   "metadata": {},
   "outputs": [
    {
     "data": {
      "image/png": "[encoded data removed]",
      "text/plain": [
       "<Figure size 432x288 with 1 Axes>"
      ]
     },
     "metadata": {
      "needs_background": "light"
     },
     "output_type": "display_data"
    }
   ],
   "source": [
    "precision_recall_draw(y_test, y_pred[:, 1], precision, recall)"
   ]
  },
  {
   "cell_type": "code",
   "execution_count": 41,
   "id": "banner-recycling",
   "metadata": {
    "scrolled": true
   },
   "outputs": [
    {
     "data": {
      "image/png": "[encoded data removed]",
      "text/plain": [
       "<Figure size 720x576 with 1 Axes>"
      ]
     },
     "metadata": {},
     "output_type": "display_data"
    }
   ],
   "source": [
    "auc = roc_auc_curve_draw(y_test, y_pred[:, 1])"
   ]
  },
  {
   "cell_type": "markdown",
   "id": "peaceful-salmon",
   "metadata": {},
   "source": [
    "Сбор значений и добавление их в датасет"
   ]
  },
  {
   "cell_type": "code",
   "execution_count": 123,
   "id": "indian-guard",
   "metadata": {
    "scrolled": true
   },
   "outputs": [],
   "source": [
    "auc = roc_auc_score(y_test, y_pred[:, 1])"
   ]
  },
  {
   "cell_type": "code",
   "execution_count": 124,
   "id": "posted-updating",
   "metadata": {
    "scrolled": true
   },
   "outputs": [
    {
     "name": "stdout",
     "output_type": "stream",
     "text": [
      "Best Threshold=0.285613, F-Score=0.696, Precision=0.605, Recall=0.818\n"
     ]
    }
   ],
   "source": [
    "ix = np.argmax(fscore)\n",
    "print('Best Threshold=%f, F-Score=%.3f, Precision=%.3f, Recall=%.3f' % (thresholds[ix], \n",
    "                                                                        fscore[ix],                                                                        \n",
    "                                                                        precision[ix],\n",
    "                                                                        recall[ix]))"
   ]
  },
  {
   "cell_type": "markdown",
   "id": "worse-intervention",
   "metadata": {},
   "source": [
    "Внесем полученные данные в датасет с результатами"
   ]
  },
  {
   "cell_type": "code",
   "execution_count": 125,
   "id": "cordless-reflection",
   "metadata": {},
   "outputs": [],
   "source": [
    "results = results.append({'Model':'CatBoost',                                 \n",
    "                   'Part':'-', \n",
    "                   'Recall': recall[ix], \n",
    "                   'Precision':precision[ix], \n",
    "                   'F1':fscore[ix],\n",
    "                    'RocAuc' : auc}\n",
    "                  , ignore_index=True)"
   ]
  },
  {
   "cell_type": "code",
   "execution_count": 126,
   "id": "activated-liberia",
   "metadata": {},
   "outputs": [
    {
     "data": {
      "text/html": [
       "<div>\n",
       "<style scoped>\n",
       "    .dataframe tbody tr th:only-of-type {\n",
       "        vertical-align: middle;\n",
       "    }\n",
       "\n",
       "    .dataframe tbody tr th {\n",
       "        vertical-align: top;\n",
       "    }\n",
       "\n",
       "    .dataframe thead th {\n",
       "        text-align: right;\n",
       "    }\n",
       "</style>\n",
       "<table border=\"1\" class=\"dataframe\">\n",
       "  <thead>\n",
       "    <tr style=\"text-align: right;\">\n",
       "      <th></th>\n",
       "      <th>Model</th>\n",
       "      <th>Part</th>\n",
       "      <th>Recall</th>\n",
       "      <th>Precision</th>\n",
       "      <th>F1</th>\n",
       "      <th>RocAuc</th>\n",
       "    </tr>\n",
       "  </thead>\n",
       "  <tbody>\n",
       "    <tr>\n",
       "      <th>0</th>\n",
       "      <td>CatBoost</td>\n",
       "      <td>-</td>\n",
       "      <td>0.818041</td>\n",
       "      <td>0.605263</td>\n",
       "      <td>0.695747</td>\n",
       "      <td>0.911637</td>\n",
       "    </tr>\n",
       "  </tbody>\n",
       "</table>\n",
       "</div>"
      ],
      "text/plain": [
       "      Model Part    Recall  Precision        F1    RocAuc\n",
       "0  CatBoost    -  0.818041   0.605263  0.695747  0.911637"
      ]
     },
     "execution_count": 126,
     "metadata": {},
     "output_type": "execute_result"
    }
   ],
   "source": [
    "results.head()"
   ]
  },
  {
   "cell_type": "markdown",
   "id": "personalized-turtle",
   "metadata": {},
   "source": [
    "----------"
   ]
  },
  {
   "cell_type": "markdown",
   "id": "canadian-tyler",
   "metadata": {},
   "source": [
    "### Задание 4"
   ]
  },
  {
   "cell_type": "markdown",
   "id": "hairy-night",
   "metadata": {},
   "source": [
    "5. далее разделить ваш набор данных на два множества: P (positives) и U (unlabeled). Причем брать нужно не все положительные (класс 1) примеры, а только лишь часть\n"
   ]
  },
  {
   "cell_type": "code",
   "execution_count": 49,
   "id": "altered-delhi",
   "metadata": {},
   "outputs": [
    {
     "data": {
      "text/plain": [
       "8141"
      ]
     },
     "execution_count": 49,
     "metadata": {},
     "output_type": "execute_result"
    }
   ],
   "source": [
    "y_pred.shape[0]"
   ]
  },
  {
   "cell_type": "code",
   "execution_count": 50,
   "id": "humanitarian-timothy",
   "metadata": {},
   "outputs": [
    {
     "data": {
      "text/plain": [
       "8141"
      ]
     },
     "execution_count": 50,
     "metadata": {},
     "output_type": "execute_result"
    }
   ],
   "source": [
    "y_test.shape[0]"
   ]
  },
  {
   "cell_type": "code",
   "execution_count": 51,
   "id": "international-assembly",
   "metadata": {
    "scrolled": true
   },
   "outputs": [
    {
     "data": {
      "text/plain": [
       "22946    0\n",
       "13044    0\n",
       "828      0\n",
       "9320     0\n",
       "14156    0\n",
       "Name: earnings, dtype: int8"
      ]
     },
     "execution_count": 51,
     "metadata": {},
     "output_type": "execute_result"
    }
   ],
   "source": [
    "y_test.head()"
   ]
  },
  {
   "cell_type": "markdown",
   "id": "ranging-diagnosis",
   "metadata": {},
   "source": [
    "Готовим данные к применению PU-learning"
   ]
  },
  {
   "cell_type": "code",
   "execution_count": 52,
   "id": "informational-defensive",
   "metadata": {},
   "outputs": [],
   "source": [
    "y_pu = pd.DataFrame(y_test)"
   ]
  },
  {
   "cell_type": "code",
   "execution_count": 53,
   "id": "metric-fighter",
   "metadata": {
    "scrolled": true
   },
   "outputs": [
    {
     "data": {
      "text/html": [
       "<div>\n",
       "<style scoped>\n",
       "    .dataframe tbody tr th:only-of-type {\n",
       "        vertical-align: middle;\n",
       "    }\n",
       "\n",
       "    .dataframe tbody tr th {\n",
       "        vertical-align: top;\n",
       "    }\n",
       "\n",
       "    .dataframe thead th {\n",
       "        text-align: right;\n",
       "    }\n",
       "</style>\n",
       "<table border=\"1\" class=\"dataframe\">\n",
       "  <thead>\n",
       "    <tr style=\"text-align: right;\">\n",
       "      <th></th>\n",
       "      <th>earnings</th>\n",
       "    </tr>\n",
       "  </thead>\n",
       "  <tbody>\n",
       "    <tr>\n",
       "      <th>22946</th>\n",
       "      <td>0</td>\n",
       "    </tr>\n",
       "    <tr>\n",
       "      <th>13044</th>\n",
       "      <td>0</td>\n",
       "    </tr>\n",
       "    <tr>\n",
       "      <th>828</th>\n",
       "      <td>0</td>\n",
       "    </tr>\n",
       "    <tr>\n",
       "      <th>9320</th>\n",
       "      <td>0</td>\n",
       "    </tr>\n",
       "    <tr>\n",
       "      <th>14156</th>\n",
       "      <td>0</td>\n",
       "    </tr>\n",
       "  </tbody>\n",
       "</table>\n",
       "</div>"
      ],
      "text/plain": [
       "       earnings\n",
       "22946         0\n",
       "13044         0\n",
       "828           0\n",
       "9320          0\n",
       "14156         0"
      ]
     },
     "execution_count": 53,
     "metadata": {},
     "output_type": "execute_result"
    }
   ],
   "source": [
    "y_pu.head()"
   ]
  },
  {
   "cell_type": "markdown",
   "id": "colonial-boston",
   "metadata": {},
   "source": [
    "Получаем часть индексов позитивного класса"
   ]
  },
  {
   "cell_type": "code",
   "execution_count": 54,
   "id": "lesser-pasta",
   "metadata": {},
   "outputs": [],
   "source": [
    "positive_indices = list(y_pu.loc[(y_pu['earnings']==1)].index)"
   ]
  },
  {
   "cell_type": "code",
   "execution_count": 55,
   "id": "active-cardiff",
   "metadata": {},
   "outputs": [],
   "source": [
    "np.random.shuffle(positive_indices)"
   ]
  },
  {
   "cell_type": "code",
   "execution_count": 56,
   "id": "assigned-fashion",
   "metadata": {},
   "outputs": [],
   "source": [
    "pos_sample_len = int(np.ceil(0.25 * len(positive_indices)))"
   ]
  },
  {
   "cell_type": "code",
   "execution_count": 57,
   "id": "arranged-procurement",
   "metadata": {},
   "outputs": [],
   "source": [
    "pu_indices = positive_indices[:pos_sample_len]"
   ]
  },
  {
   "cell_type": "code",
   "execution_count": 58,
   "id": "studied-employer",
   "metadata": {},
   "outputs": [
    {
     "name": "stdout",
     "output_type": "stream",
     "text": [
      "Using 485/1940 as positives and unlabeling the rest\n"
     ]
    }
   ],
   "source": [
    "print(f'Using {pos_sample_len}/{len(positive_indices)} as positives and unlabeling the rest')"
   ]
  },
  {
   "cell_type": "code",
   "execution_count": 59,
   "id": "radio-intersection",
   "metadata": {
    "scrolled": true
   },
   "outputs": [
    {
     "data": {
      "text/html": [
       "<div>\n",
       "<style scoped>\n",
       "    .dataframe tbody tr th:only-of-type {\n",
       "        vertical-align: middle;\n",
       "    }\n",
       "\n",
       "    .dataframe tbody tr th {\n",
       "        vertical-align: top;\n",
       "    }\n",
       "\n",
       "    .dataframe thead th {\n",
       "        text-align: right;\n",
       "    }\n",
       "</style>\n",
       "<table border=\"1\" class=\"dataframe\">\n",
       "  <thead>\n",
       "    <tr style=\"text-align: right;\">\n",
       "      <th></th>\n",
       "      <th>age</th>\n",
       "      <th>workclass</th>\n",
       "      <th>fnlwgt</th>\n",
       "      <th>education</th>\n",
       "      <th>education-num</th>\n",
       "      <th>marital-status</th>\n",
       "      <th>occupation</th>\n",
       "      <th>relationship</th>\n",
       "      <th>race</th>\n",
       "      <th>sex</th>\n",
       "      <th>capital-gain</th>\n",
       "      <th>capital-loss</th>\n",
       "      <th>hours-per-week</th>\n",
       "      <th>native-country</th>\n",
       "      <th>sqrt_age</th>\n",
       "      <th>sqrt_fnlwgt</th>\n",
       "      <th>sqrt_education-num</th>\n",
       "      <th>sqrt_capital-gain</th>\n",
       "      <th>sqrt_capital-loss</th>\n",
       "      <th>sqrt_hours-per-week</th>\n",
       "    </tr>\n",
       "  </thead>\n",
       "  <tbody>\n",
       "    <tr>\n",
       "      <th>0</th>\n",
       "      <td>39</td>\n",
       "      <td>State-gov</td>\n",
       "      <td>77516</td>\n",
       "      <td>Bachelors</td>\n",
       "      <td>13</td>\n",
       "      <td>Never-married</td>\n",
       "      <td>Adm-clerical</td>\n",
       "      <td>Not-in-family</td>\n",
       "      <td>White</td>\n",
       "      <td>Male</td>\n",
       "      <td>2174</td>\n",
       "      <td>0</td>\n",
       "      <td>40</td>\n",
       "      <td>United-States</td>\n",
       "      <td>6.244998</td>\n",
       "      <td>278.416954</td>\n",
       "      <td>3.605551</td>\n",
       "      <td>46.626173</td>\n",
       "      <td>0.0</td>\n",
       "      <td>6.324555</td>\n",
       "    </tr>\n",
       "    <tr>\n",
       "      <th>1</th>\n",
       "      <td>50</td>\n",
       "      <td>Self-emp-not-inc</td>\n",
       "      <td>83311</td>\n",
       "      <td>Bachelors</td>\n",
       "      <td>13</td>\n",
       "      <td>Married-civ-spouse</td>\n",
       "      <td>Exec-managerial</td>\n",
       "      <td>Husband</td>\n",
       "      <td>White</td>\n",
       "      <td>Male</td>\n",
       "      <td>0</td>\n",
       "      <td>0</td>\n",
       "      <td>13</td>\n",
       "      <td>United-States</td>\n",
       "      <td>7.071068</td>\n",
       "      <td>288.636450</td>\n",
       "      <td>3.605551</td>\n",
       "      <td>0.000000</td>\n",
       "      <td>0.0</td>\n",
       "      <td>3.605551</td>\n",
       "    </tr>\n",
       "    <tr>\n",
       "      <th>2</th>\n",
       "      <td>38</td>\n",
       "      <td>Private</td>\n",
       "      <td>215646</td>\n",
       "      <td>HS-grad</td>\n",
       "      <td>9</td>\n",
       "      <td>Divorced</td>\n",
       "      <td>Handlers-cleaners</td>\n",
       "      <td>Not-in-family</td>\n",
       "      <td>White</td>\n",
       "      <td>Male</td>\n",
       "      <td>0</td>\n",
       "      <td>0</td>\n",
       "      <td>40</td>\n",
       "      <td>United-States</td>\n",
       "      <td>6.164414</td>\n",
       "      <td>464.377002</td>\n",
       "      <td>3.000000</td>\n",
       "      <td>0.000000</td>\n",
       "      <td>0.0</td>\n",
       "      <td>6.324555</td>\n",
       "    </tr>\n",
       "    <tr>\n",
       "      <th>3</th>\n",
       "      <td>53</td>\n",
       "      <td>Private</td>\n",
       "      <td>234721</td>\n",
       "      <td>11th</td>\n",
       "      <td>7</td>\n",
       "      <td>Married-civ-spouse</td>\n",
       "      <td>Handlers-cleaners</td>\n",
       "      <td>Husband</td>\n",
       "      <td>Black</td>\n",
       "      <td>Male</td>\n",
       "      <td>0</td>\n",
       "      <td>0</td>\n",
       "      <td>40</td>\n",
       "      <td>United-States</td>\n",
       "      <td>7.280110</td>\n",
       "      <td>484.480134</td>\n",
       "      <td>2.645751</td>\n",
       "      <td>0.000000</td>\n",
       "      <td>0.0</td>\n",
       "      <td>6.324555</td>\n",
       "    </tr>\n",
       "    <tr>\n",
       "      <th>4</th>\n",
       "      <td>28</td>\n",
       "      <td>Private</td>\n",
       "      <td>338409</td>\n",
       "      <td>Bachelors</td>\n",
       "      <td>13</td>\n",
       "      <td>Married-civ-spouse</td>\n",
       "      <td>Prof-specialty</td>\n",
       "      <td>Wife</td>\n",
       "      <td>Black</td>\n",
       "      <td>Female</td>\n",
       "      <td>0</td>\n",
       "      <td>0</td>\n",
       "      <td>40</td>\n",
       "      <td>Cuba</td>\n",
       "      <td>5.291503</td>\n",
       "      <td>581.729318</td>\n",
       "      <td>3.605551</td>\n",
       "      <td>0.000000</td>\n",
       "      <td>0.0</td>\n",
       "      <td>6.324555</td>\n",
       "    </tr>\n",
       "  </tbody>\n",
       "</table>\n",
       "</div>"
      ],
      "text/plain": [
       "   age          workclass  fnlwgt   education  education-num  \\\n",
       "0   39          State-gov   77516   Bachelors             13   \n",
       "1   50   Self-emp-not-inc   83311   Bachelors             13   \n",
       "2   38            Private  215646     HS-grad              9   \n",
       "3   53            Private  234721        11th              7   \n",
       "4   28            Private  338409   Bachelors             13   \n",
       "\n",
       "        marital-status          occupation    relationship    race      sex  \\\n",
       "0        Never-married        Adm-clerical   Not-in-family   White     Male   \n",
       "1   Married-civ-spouse     Exec-managerial         Husband   White     Male   \n",
       "2             Divorced   Handlers-cleaners   Not-in-family   White     Male   \n",
       "3   Married-civ-spouse   Handlers-cleaners         Husband   Black     Male   \n",
       "4   Married-civ-spouse      Prof-specialty            Wife   Black   Female   \n",
       "\n",
       "   capital-gain  capital-loss  hours-per-week  native-country  sqrt_age  \\\n",
       "0          2174             0              40   United-States  6.244998   \n",
       "1             0             0              13   United-States  7.071068   \n",
       "2             0             0              40   United-States  6.164414   \n",
       "3             0             0              40   United-States  7.280110   \n",
       "4             0             0              40            Cuba  5.291503   \n",
       "\n",
       "   sqrt_fnlwgt  sqrt_education-num  sqrt_capital-gain  sqrt_capital-loss  \\\n",
       "0   278.416954            3.605551          46.626173                0.0   \n",
       "1   288.636450            3.605551           0.000000                0.0   \n",
       "2   464.377002            3.000000           0.000000                0.0   \n",
       "3   484.480134            2.645751           0.000000                0.0   \n",
       "4   581.729318            3.605551           0.000000                0.0   \n",
       "\n",
       "   sqrt_hours-per-week  \n",
       "0             6.324555  \n",
       "1             3.605551  \n",
       "2             6.324555  \n",
       "3             6.324555  \n",
       "4             6.324555  "
      ]
     },
     "execution_count": 59,
     "metadata": {},
     "output_type": "execute_result"
    }
   ],
   "source": [
    "X.head()"
   ]
  },
  {
   "cell_type": "code",
   "execution_count": 60,
   "id": "comparative-multiple",
   "metadata": {},
   "outputs": [],
   "source": [
    "X_test_merged = X_test.merge(y_test, left_index=True, right_index=True)"
   ]
  },
  {
   "cell_type": "markdown",
   "id": "returning-monitoring",
   "metadata": {},
   "source": [
    "Объединяем данные и результат назад в единый датасет"
   ]
  },
  {
   "cell_type": "code",
   "execution_count": 61,
   "id": "explicit-reservoir",
   "metadata": {},
   "outputs": [],
   "source": [
    "X_test_merged['class_test'] = -1"
   ]
  },
  {
   "cell_type": "code",
   "execution_count": 62,
   "id": "silent-branch",
   "metadata": {},
   "outputs": [],
   "source": [
    "X_test_merged.at[pu_indices,'class_test'] = 1"
   ]
  },
  {
   "cell_type": "markdown",
   "id": "decimal-present",
   "metadata": {},
   "source": [
    "Проверяем полученный результат"
   ]
  },
  {
   "cell_type": "code",
   "execution_count": 63,
   "id": "clean-public",
   "metadata": {},
   "outputs": [
    {
     "data": {
      "text/plain": [
       "-1    7656\n",
       " 1     485\n",
       "Name: class_test, dtype: int64"
      ]
     },
     "execution_count": 63,
     "metadata": {},
     "output_type": "execute_result"
    }
   ],
   "source": [
    "X_test_merged['class_test'].value_counts()"
   ]
  },
  {
   "cell_type": "code",
   "execution_count": 154,
   "id": "spare-accordance",
   "metadata": {},
   "outputs": [
    {
     "data": {
      "text/html": [
       "<div>\n",
       "<style scoped>\n",
       "    .dataframe tbody tr th:only-of-type {\n",
       "        vertical-align: middle;\n",
       "    }\n",
       "\n",
       "    .dataframe tbody tr th {\n",
       "        vertical-align: top;\n",
       "    }\n",
       "\n",
       "    .dataframe thead th {\n",
       "        text-align: right;\n",
       "    }\n",
       "</style>\n",
       "<table border=\"1\" class=\"dataframe\">\n",
       "  <thead>\n",
       "    <tr style=\"text-align: right;\">\n",
       "      <th></th>\n",
       "      <th>age</th>\n",
       "      <th>workclass</th>\n",
       "      <th>fnlwgt</th>\n",
       "      <th>education</th>\n",
       "      <th>education-num</th>\n",
       "      <th>marital-status</th>\n",
       "      <th>occupation</th>\n",
       "      <th>relationship</th>\n",
       "      <th>race</th>\n",
       "      <th>sex</th>\n",
       "      <th>...</th>\n",
       "      <th>hours-per-week</th>\n",
       "      <th>native-country</th>\n",
       "      <th>sqrt_age</th>\n",
       "      <th>sqrt_fnlwgt</th>\n",
       "      <th>sqrt_education-num</th>\n",
       "      <th>sqrt_capital-gain</th>\n",
       "      <th>sqrt_capital-loss</th>\n",
       "      <th>sqrt_hours-per-week</th>\n",
       "      <th>earnings</th>\n",
       "      <th>class_test</th>\n",
       "    </tr>\n",
       "  </thead>\n",
       "  <tbody>\n",
       "    <tr>\n",
       "      <th>22946</th>\n",
       "      <td>40</td>\n",
       "      <td>Federal-gov</td>\n",
       "      <td>189610</td>\n",
       "      <td>HS-grad</td>\n",
       "      <td>9</td>\n",
       "      <td>Divorced</td>\n",
       "      <td>Adm-clerical</td>\n",
       "      <td>Not-in-family</td>\n",
       "      <td>Black</td>\n",
       "      <td>Female</td>\n",
       "      <td>...</td>\n",
       "      <td>52</td>\n",
       "      <td>United-States</td>\n",
       "      <td>6.324555</td>\n",
       "      <td>435.442304</td>\n",
       "      <td>3.000000</td>\n",
       "      <td>0.0</td>\n",
       "      <td>0.0</td>\n",
       "      <td>7.211103</td>\n",
       "      <td>0</td>\n",
       "      <td>-1</td>\n",
       "    </tr>\n",
       "    <tr>\n",
       "      <th>13044</th>\n",
       "      <td>45</td>\n",
       "      <td>Private</td>\n",
       "      <td>27332</td>\n",
       "      <td>HS-grad</td>\n",
       "      <td>9</td>\n",
       "      <td>Divorced</td>\n",
       "      <td>Sales</td>\n",
       "      <td>Not-in-family</td>\n",
       "      <td>White</td>\n",
       "      <td>Female</td>\n",
       "      <td>...</td>\n",
       "      <td>40</td>\n",
       "      <td>United-States</td>\n",
       "      <td>6.708204</td>\n",
       "      <td>165.323924</td>\n",
       "      <td>3.000000</td>\n",
       "      <td>0.0</td>\n",
       "      <td>0.0</td>\n",
       "      <td>6.324555</td>\n",
       "      <td>0</td>\n",
       "      <td>-1</td>\n",
       "    </tr>\n",
       "    <tr>\n",
       "      <th>828</th>\n",
       "      <td>43</td>\n",
       "      <td>Private</td>\n",
       "      <td>233130</td>\n",
       "      <td>Some-college</td>\n",
       "      <td>10</td>\n",
       "      <td>Never-married</td>\n",
       "      <td>Adm-clerical</td>\n",
       "      <td>Not-in-family</td>\n",
       "      <td>White</td>\n",
       "      <td>Male</td>\n",
       "      <td>...</td>\n",
       "      <td>25</td>\n",
       "      <td>United-States</td>\n",
       "      <td>6.557439</td>\n",
       "      <td>482.835376</td>\n",
       "      <td>3.162278</td>\n",
       "      <td>0.0</td>\n",
       "      <td>0.0</td>\n",
       "      <td>5.000000</td>\n",
       "      <td>0</td>\n",
       "      <td>-1</td>\n",
       "    </tr>\n",
       "    <tr>\n",
       "      <th>9320</th>\n",
       "      <td>34</td>\n",
       "      <td>Self-emp-not-inc</td>\n",
       "      <td>123429</td>\n",
       "      <td>HS-grad</td>\n",
       "      <td>9</td>\n",
       "      <td>Married-civ-spouse</td>\n",
       "      <td>Sales</td>\n",
       "      <td>Husband</td>\n",
       "      <td>White</td>\n",
       "      <td>Male</td>\n",
       "      <td>...</td>\n",
       "      <td>60</td>\n",
       "      <td>United-States</td>\n",
       "      <td>5.830952</td>\n",
       "      <td>351.324636</td>\n",
       "      <td>3.000000</td>\n",
       "      <td>0.0</td>\n",
       "      <td>0.0</td>\n",
       "      <td>7.745967</td>\n",
       "      <td>0</td>\n",
       "      <td>-1</td>\n",
       "    </tr>\n",
       "    <tr>\n",
       "      <th>14156</th>\n",
       "      <td>21</td>\n",
       "      <td>Private</td>\n",
       "      <td>44793</td>\n",
       "      <td>Some-college</td>\n",
       "      <td>10</td>\n",
       "      <td>Never-married</td>\n",
       "      <td>Adm-clerical</td>\n",
       "      <td>Not-in-family</td>\n",
       "      <td>White</td>\n",
       "      <td>Male</td>\n",
       "      <td>...</td>\n",
       "      <td>65</td>\n",
       "      <td>United-States</td>\n",
       "      <td>4.582576</td>\n",
       "      <td>211.643568</td>\n",
       "      <td>3.162278</td>\n",
       "      <td>0.0</td>\n",
       "      <td>0.0</td>\n",
       "      <td>8.062258</td>\n",
       "      <td>0</td>\n",
       "      <td>-1</td>\n",
       "    </tr>\n",
       "  </tbody>\n",
       "</table>\n",
       "<p>5 rows × 22 columns</p>\n",
       "</div>"
      ],
      "text/plain": [
       "       age          workclass  fnlwgt      education  education-num  \\\n",
       "22946   40        Federal-gov  189610        HS-grad              9   \n",
       "13044   45            Private   27332        HS-grad              9   \n",
       "828     43            Private  233130   Some-college             10   \n",
       "9320    34   Self-emp-not-inc  123429        HS-grad              9   \n",
       "14156   21            Private   44793   Some-college             10   \n",
       "\n",
       "            marital-status     occupation    relationship    race      sex  \\\n",
       "22946             Divorced   Adm-clerical   Not-in-family   Black   Female   \n",
       "13044             Divorced          Sales   Not-in-family   White   Female   \n",
       "828          Never-married   Adm-clerical   Not-in-family   White     Male   \n",
       "9320    Married-civ-spouse          Sales         Husband   White     Male   \n",
       "14156        Never-married   Adm-clerical   Not-in-family   White     Male   \n",
       "\n",
       "       ...  hours-per-week  native-country  sqrt_age sqrt_fnlwgt  \\\n",
       "22946  ...              52   United-States  6.324555  435.442304   \n",
       "13044  ...              40   United-States  6.708204  165.323924   \n",
       "828    ...              25   United-States  6.557439  482.835376   \n",
       "9320   ...              60   United-States  5.830952  351.324636   \n",
       "14156  ...              65   United-States  4.582576  211.643568   \n",
       "\n",
       "       sqrt_education-num  sqrt_capital-gain  sqrt_capital-loss  \\\n",
       "22946            3.000000                0.0                0.0   \n",
       "13044            3.000000                0.0                0.0   \n",
       "828              3.162278                0.0                0.0   \n",
       "9320             3.000000                0.0                0.0   \n",
       "14156            3.162278                0.0                0.0   \n",
       "\n",
       "       sqrt_hours-per-week  earnings  class_test  \n",
       "22946             7.211103         0          -1  \n",
       "13044             6.324555         0          -1  \n",
       "828               5.000000         0          -1  \n",
       "9320              7.745967         0          -1  \n",
       "14156             8.062258         0          -1  \n",
       "\n",
       "[5 rows x 22 columns]"
      ]
     },
     "execution_count": 154,
     "metadata": {},
     "output_type": "execute_result"
    }
   ],
   "source": [
    "X_test_merged.head()"
   ]
  },
  {
   "cell_type": "markdown",
   "id": "developing-precipitation",
   "metadata": {},
   "source": [
    "-----------------------"
   ]
  },
  {
   "cell_type": "markdown",
   "id": "second-issue",
   "metadata": {},
   "source": [
    "### Задание 5"
   ]
  },
  {
   "cell_type": "markdown",
   "id": "popular-camping",
   "metadata": {},
   "source": [
    "6. применить random negative sampling для построения классификатора в новых условиях"
   ]
  },
  {
   "cell_type": "code",
   "execution_count": 65,
   "id": "incident-strain",
   "metadata": {},
   "outputs": [],
   "source": [
    "X_pu = X_test_merged.iloc[:, :-2]"
   ]
  },
  {
   "cell_type": "code",
   "execution_count": 66,
   "id": "going-bulgarian",
   "metadata": {},
   "outputs": [],
   "source": [
    "y_pu_labeled = X_test_merged.iloc[:, :-1]"
   ]
  },
  {
   "cell_type": "code",
   "execution_count": 67,
   "id": "framed-syntax",
   "metadata": {},
   "outputs": [],
   "source": [
    "y_pu_positive = X_test_merged.iloc[:,-2]"
   ]
  },
  {
   "cell_type": "markdown",
   "id": "fitted-ridge",
   "metadata": {},
   "source": [
    "Отделим истинные значения и класс для разметки"
   ]
  },
  {
   "cell_type": "code",
   "execution_count": 68,
   "id": "juvenile-examination",
   "metadata": {},
   "outputs": [],
   "source": [
    "X_test_merged = X_test_merged.sample(frac=1)"
   ]
  },
  {
   "cell_type": "code",
   "execution_count": 69,
   "id": "interracial-highland",
   "metadata": {},
   "outputs": [],
   "source": [
    "neg_sample = X_test_merged[X_test_merged['class_test']==-1][:len(X_test_merged[X_test_merged['class_test']==1])]"
   ]
  },
  {
   "cell_type": "code",
   "execution_count": 70,
   "id": "material-volunteer",
   "metadata": {},
   "outputs": [],
   "source": [
    "sample_test = X_test_merged[X_test_merged['class_test']==-1][len(X_test_merged[X_test_merged['class_test']==1]):]"
   ]
  },
  {
   "cell_type": "code",
   "execution_count": 71,
   "id": "simplified-basis",
   "metadata": {},
   "outputs": [],
   "source": [
    "pos_sample = X_test_merged[X_test_merged['class_test']==1]"
   ]
  },
  {
   "cell_type": "code",
   "execution_count": 72,
   "id": "available-polish",
   "metadata": {},
   "outputs": [
    {
     "name": "stdout",
     "output_type": "stream",
     "text": [
      "(485, 22) (485, 22)\n"
     ]
    }
   ],
   "source": [
    "print(neg_sample.shape, pos_sample.shape)"
   ]
  },
  {
   "cell_type": "code",
   "execution_count": 73,
   "id": "quantitative-teaching",
   "metadata": {},
   "outputs": [],
   "source": [
    "sample_train = pd.concat([neg_sample, pos_sample]).sample(frac=1)"
   ]
  },
  {
   "cell_type": "code",
   "execution_count": 74,
   "id": "split-factory",
   "metadata": {
    "scrolled": false
   },
   "outputs": [
    {
     "data": {
      "text/html": [
       "<div>\n",
       "<style scoped>\n",
       "    .dataframe tbody tr th:only-of-type {\n",
       "        vertical-align: middle;\n",
       "    }\n",
       "\n",
       "    .dataframe tbody tr th {\n",
       "        vertical-align: top;\n",
       "    }\n",
       "\n",
       "    .dataframe thead th {\n",
       "        text-align: right;\n",
       "    }\n",
       "</style>\n",
       "<table border=\"1\" class=\"dataframe\">\n",
       "  <thead>\n",
       "    <tr style=\"text-align: right;\">\n",
       "      <th></th>\n",
       "      <th>age</th>\n",
       "      <th>workclass</th>\n",
       "      <th>fnlwgt</th>\n",
       "      <th>education</th>\n",
       "      <th>education-num</th>\n",
       "      <th>marital-status</th>\n",
       "      <th>occupation</th>\n",
       "      <th>relationship</th>\n",
       "      <th>race</th>\n",
       "      <th>sex</th>\n",
       "      <th>...</th>\n",
       "      <th>hours-per-week</th>\n",
       "      <th>native-country</th>\n",
       "      <th>sqrt_age</th>\n",
       "      <th>sqrt_fnlwgt</th>\n",
       "      <th>sqrt_education-num</th>\n",
       "      <th>sqrt_capital-gain</th>\n",
       "      <th>sqrt_capital-loss</th>\n",
       "      <th>sqrt_hours-per-week</th>\n",
       "      <th>earnings</th>\n",
       "      <th>class_test</th>\n",
       "    </tr>\n",
       "  </thead>\n",
       "  <tbody>\n",
       "    <tr>\n",
       "      <th>8279</th>\n",
       "      <td>36</td>\n",
       "      <td>Private</td>\n",
       "      <td>447346</td>\n",
       "      <td>HS-grad</td>\n",
       "      <td>9</td>\n",
       "      <td>Married-civ-spouse</td>\n",
       "      <td>Sales</td>\n",
       "      <td>Husband</td>\n",
       "      <td>White</td>\n",
       "      <td>Male</td>\n",
       "      <td>...</td>\n",
       "      <td>50</td>\n",
       "      <td>United-States</td>\n",
       "      <td>6.000000</td>\n",
       "      <td>668.839293</td>\n",
       "      <td>3.000000</td>\n",
       "      <td>0.000000</td>\n",
       "      <td>0.000000</td>\n",
       "      <td>7.071068</td>\n",
       "      <td>1</td>\n",
       "      <td>1</td>\n",
       "    </tr>\n",
       "    <tr>\n",
       "      <th>11066</th>\n",
       "      <td>34</td>\n",
       "      <td>Private</td>\n",
       "      <td>164190</td>\n",
       "      <td>Some-college</td>\n",
       "      <td>10</td>\n",
       "      <td>Married-civ-spouse</td>\n",
       "      <td>Prof-specialty</td>\n",
       "      <td>Husband</td>\n",
       "      <td>White</td>\n",
       "      <td>Male</td>\n",
       "      <td>...</td>\n",
       "      <td>38</td>\n",
       "      <td>United-States</td>\n",
       "      <td>5.830952</td>\n",
       "      <td>405.203653</td>\n",
       "      <td>3.162278</td>\n",
       "      <td>0.000000</td>\n",
       "      <td>43.611925</td>\n",
       "      <td>6.164414</td>\n",
       "      <td>1</td>\n",
       "      <td>1</td>\n",
       "    </tr>\n",
       "    <tr>\n",
       "      <th>12173</th>\n",
       "      <td>55</td>\n",
       "      <td>Local-gov</td>\n",
       "      <td>99131</td>\n",
       "      <td>HS-grad</td>\n",
       "      <td>9</td>\n",
       "      <td>Married-civ-spouse</td>\n",
       "      <td>Prof-specialty</td>\n",
       "      <td>Other-relative</td>\n",
       "      <td>White</td>\n",
       "      <td>Female</td>\n",
       "      <td>...</td>\n",
       "      <td>40</td>\n",
       "      <td>United-States</td>\n",
       "      <td>7.416198</td>\n",
       "      <td>314.850758</td>\n",
       "      <td>3.000000</td>\n",
       "      <td>0.000000</td>\n",
       "      <td>47.391982</td>\n",
       "      <td>6.324555</td>\n",
       "      <td>1</td>\n",
       "      <td>1</td>\n",
       "    </tr>\n",
       "    <tr>\n",
       "      <th>8741</th>\n",
       "      <td>41</td>\n",
       "      <td>Self-emp-inc</td>\n",
       "      <td>253060</td>\n",
       "      <td>Bachelors</td>\n",
       "      <td>13</td>\n",
       "      <td>Married-civ-spouse</td>\n",
       "      <td>Sales</td>\n",
       "      <td>Husband</td>\n",
       "      <td>White</td>\n",
       "      <td>Male</td>\n",
       "      <td>...</td>\n",
       "      <td>45</td>\n",
       "      <td>United-States</td>\n",
       "      <td>6.403124</td>\n",
       "      <td>503.050693</td>\n",
       "      <td>3.605551</td>\n",
       "      <td>87.681241</td>\n",
       "      <td>0.000000</td>\n",
       "      <td>6.708204</td>\n",
       "      <td>1</td>\n",
       "      <td>1</td>\n",
       "    </tr>\n",
       "    <tr>\n",
       "      <th>5499</th>\n",
       "      <td>56</td>\n",
       "      <td>Private</td>\n",
       "      <td>175127</td>\n",
       "      <td>HS-grad</td>\n",
       "      <td>9</td>\n",
       "      <td>Divorced</td>\n",
       "      <td>Craft-repair</td>\n",
       "      <td>Unmarried</td>\n",
       "      <td>White</td>\n",
       "      <td>Male</td>\n",
       "      <td>...</td>\n",
       "      <td>35</td>\n",
       "      <td>United-States</td>\n",
       "      <td>7.483315</td>\n",
       "      <td>418.481780</td>\n",
       "      <td>3.000000</td>\n",
       "      <td>0.000000</td>\n",
       "      <td>0.000000</td>\n",
       "      <td>5.916080</td>\n",
       "      <td>0</td>\n",
       "      <td>-1</td>\n",
       "    </tr>\n",
       "  </tbody>\n",
       "</table>\n",
       "<p>5 rows × 22 columns</p>\n",
       "</div>"
      ],
      "text/plain": [
       "       age      workclass  fnlwgt      education  education-num  \\\n",
       "8279    36        Private  447346        HS-grad              9   \n",
       "11066   34        Private  164190   Some-college             10   \n",
       "12173   55      Local-gov   99131        HS-grad              9   \n",
       "8741    41   Self-emp-inc  253060      Bachelors             13   \n",
       "5499    56        Private  175127        HS-grad              9   \n",
       "\n",
       "            marital-status       occupation     relationship    race      sex  \\\n",
       "8279    Married-civ-spouse            Sales          Husband   White     Male   \n",
       "11066   Married-civ-spouse   Prof-specialty          Husband   White     Male   \n",
       "12173   Married-civ-spouse   Prof-specialty   Other-relative   White   Female   \n",
       "8741    Married-civ-spouse            Sales          Husband   White     Male   \n",
       "5499              Divorced     Craft-repair        Unmarried   White     Male   \n",
       "\n",
       "       ...  hours-per-week  native-country  sqrt_age sqrt_fnlwgt  \\\n",
       "8279   ...              50   United-States  6.000000  668.839293   \n",
       "11066  ...              38   United-States  5.830952  405.203653   \n",
       "12173  ...              40   United-States  7.416198  314.850758   \n",
       "8741   ...              45   United-States  6.403124  503.050693   \n",
       "5499   ...              35   United-States  7.483315  418.481780   \n",
       "\n",
       "       sqrt_education-num  sqrt_capital-gain  sqrt_capital-loss  \\\n",
       "8279             3.000000           0.000000           0.000000   \n",
       "11066            3.162278           0.000000          43.611925   \n",
       "12173            3.000000           0.000000          47.391982   \n",
       "8741             3.605551          87.681241           0.000000   \n",
       "5499             3.000000           0.000000           0.000000   \n",
       "\n",
       "       sqrt_hours-per-week  earnings  class_test  \n",
       "8279              7.071068         1           1  \n",
       "11066             6.164414         1           1  \n",
       "12173             6.324555         1           1  \n",
       "8741              6.708204         1           1  \n",
       "5499              5.916080         0          -1  \n",
       "\n",
       "[5 rows x 22 columns]"
      ]
     },
     "execution_count": 74,
     "metadata": {},
     "output_type": "execute_result"
    }
   ],
   "source": [
    "sample_train.head()"
   ]
  },
  {
   "cell_type": "markdown",
   "id": "short-trunk",
   "metadata": {},
   "source": [
    "Назначаем еще один классификатор."
   ]
  },
  {
   "cell_type": "code",
   "execution_count": 75,
   "id": "promising-spirit",
   "metadata": {},
   "outputs": [],
   "source": [
    "cb_clf_pu = CatBoostClassifier(iterations=20, \n",
    "                            depth = 2,\n",
    "                            thread_count=2, \n",
    "                            random_state=42, \n",
    "                            silent=True)"
   ]
  },
  {
   "cell_type": "code",
   "execution_count": 76,
   "id": "faced-saskatchewan",
   "metadata": {},
   "outputs": [],
   "source": [
    "sample_train.loc[sample_train['class_test']==-1,'class_test']=0"
   ]
  },
  {
   "cell_type": "code",
   "execution_count": 77,
   "id": "northern-feeding",
   "metadata": {
    "scrolled": true
   },
   "outputs": [
    {
     "data": {
      "text/plain": [
       "['workclass',\n",
       " 'education',\n",
       " 'marital-status',\n",
       " 'occupation',\n",
       " 'relationship',\n",
       " 'race',\n",
       " 'sex',\n",
       " 'native-country']"
      ]
     },
     "execution_count": 77,
     "metadata": {},
     "output_type": "execute_result"
    }
   ],
   "source": [
    "cat_features"
   ]
  },
  {
   "cell_type": "markdown",
   "id": "welcome-proceeding",
   "metadata": {},
   "source": [
    "Проводим обучение модели"
   ]
  },
  {
   "cell_type": "code",
   "execution_count": 78,
   "id": "afraid-prior",
   "metadata": {
    "scrolled": true
   },
   "outputs": [
    {
     "name": "stdout",
     "output_type": "stream",
     "text": [
      "Wall time: 370 ms\n"
     ]
    },
    {
     "data": {
      "text/plain": [
       "<catboost.core.CatBoostClassifier at 0x1dc867f0fa0>"
      ]
     },
     "execution_count": 78,
     "metadata": {},
     "output_type": "execute_result"
    }
   ],
   "source": [
    "%%time\n",
    "cb_clf_pu.fit(sample_train.iloc[:,:-2], \n",
    "              sample_train.iloc[:,-1], \n",
    "              cat_features=cat_features)"
   ]
  },
  {
   "cell_type": "markdown",
   "id": "binding-intranet",
   "metadata": {},
   "source": [
    "Получение предсказаний вероятностей и с окончательным выбором класса."
   ]
  },
  {
   "cell_type": "code",
   "execution_count": 79,
   "id": "difficult-maldives",
   "metadata": {},
   "outputs": [],
   "source": [
    "y_predict_proba = cb_clf_pu.predict_proba(sample_test.iloc[:,:-2])"
   ]
  },
  {
   "cell_type": "code",
   "execution_count": 80,
   "id": "extreme-cassette",
   "metadata": {},
   "outputs": [],
   "source": [
    "y_predict_class = cb_clf_pu.predict(sample_test.iloc[:,:-2])"
   ]
  },
  {
   "cell_type": "code",
   "execution_count": 81,
   "id": "registered-dutch",
   "metadata": {
    "scrolled": true
   },
   "outputs": [
    {
     "name": "stdout",
     "output_type": "stream",
     "text": [
      "Classification results:\n",
      "f1: 59.69%\n",
      "recall: 80.16%\n",
      "precision: 47.55%\n"
     ]
    }
   ],
   "source": [
    "evaluate_results(sample_test.iloc[:,-2], y_predict_class)"
   ]
  },
  {
   "cell_type": "code",
   "execution_count": 82,
   "id": "regulation-kennedy",
   "metadata": {},
   "outputs": [],
   "source": [
    "y_pu_test = sample_test.iloc[:,-2]"
   ]
  },
  {
   "cell_type": "markdown",
   "id": "external-passage",
   "metadata": {},
   "source": [
    "Расчет метрик и вывод результатов в графической форме"
   ]
  },
  {
   "cell_type": "code",
   "execution_count": 83,
   "id": "artistic-duplicate",
   "metadata": {
    "scrolled": false
   },
   "outputs": [
    {
     "data": {
      "image/png": "[encoded data removed]",
      "text/plain": [
       "<Figure size 432x288 with 1 Axes>"
      ]
     },
     "metadata": {},
     "output_type": "display_data"
    }
   ],
   "source": [
    "precision_recall_draw(y_pu_test, y_predict_proba, precision, recall)"
   ]
  },
  {
   "cell_type": "code",
   "execution_count": 127,
   "id": "corrected-picture",
   "metadata": {},
   "outputs": [],
   "source": [
    "precision, recall, thresholds = precision_recall_curve(y_pu_test, y_predict_proba[:, 1])"
   ]
  },
  {
   "cell_type": "code",
   "execution_count": 128,
   "id": "ordered-lender",
   "metadata": {},
   "outputs": [],
   "source": [
    "fscore = (2 * precision * recall) / (precision + recall)"
   ]
  },
  {
   "cell_type": "code",
   "execution_count": 129,
   "id": "psychological-repair",
   "metadata": {
    "scrolled": true
   },
   "outputs": [
    {
     "name": "stdout",
     "output_type": "stream",
     "text": [
      "Best Threshold=0.557094, F-Score=0.621, Precision=0.551, Recall=0.710\n"
     ]
    }
   ],
   "source": [
    "ix = np.argmax(fscore)\n",
    "print('Best Threshold=%f, F-Score=%.3f, Precision=%.3f, Recall=%.3f' % (thresholds[ix], \n",
    "                                                                        fscore[ix],\n",
    "                                                                        precision[ix],\n",
    "                                                                        recall[ix]))"
   ]
  },
  {
   "cell_type": "code",
   "execution_count": 130,
   "id": "athletic-fifteen",
   "metadata": {},
   "outputs": [],
   "source": [
    "auc = roc_auc_score(y_pu_test, y_predict_proba[:, 1])"
   ]
  },
  {
   "cell_type": "code",
   "execution_count": 131,
   "id": "bridal-bishop",
   "metadata": {},
   "outputs": [
    {
     "data": {
      "text/plain": [
       "0.8860353127004911"
      ]
     },
     "execution_count": 131,
     "metadata": {},
     "output_type": "execute_result"
    }
   ],
   "source": [
    "auc"
   ]
  },
  {
   "cell_type": "code",
   "execution_count": 132,
   "id": "biological-shock",
   "metadata": {},
   "outputs": [],
   "source": [
    "results = results.append({'Model':'PU',                                 \n",
    "                   'Part':0.25, \n",
    "                   'Recall': recall[ix], \n",
    "                   'Precision':precision[ix], \n",
    "                   'F1':fscore[ix],\n",
    "                    'RocAuc' : auc}\n",
    "                  , ignore_index=True)"
   ]
  },
  {
   "cell_type": "code",
   "execution_count": 133,
   "id": "certain-receipt",
   "metadata": {},
   "outputs": [
    {
     "data": {
      "text/html": [
       "<div>\n",
       "<style scoped>\n",
       "    .dataframe tbody tr th:only-of-type {\n",
       "        vertical-align: middle;\n",
       "    }\n",
       "\n",
       "    .dataframe tbody tr th {\n",
       "        vertical-align: top;\n",
       "    }\n",
       "\n",
       "    .dataframe thead th {\n",
       "        text-align: right;\n",
       "    }\n",
       "</style>\n",
       "<table border=\"1\" class=\"dataframe\">\n",
       "  <thead>\n",
       "    <tr style=\"text-align: right;\">\n",
       "      <th></th>\n",
       "      <th>Model</th>\n",
       "      <th>Part</th>\n",
       "      <th>Recall</th>\n",
       "      <th>Precision</th>\n",
       "      <th>F1</th>\n",
       "      <th>RocAuc</th>\n",
       "    </tr>\n",
       "  </thead>\n",
       "  <tbody>\n",
       "    <tr>\n",
       "      <th>0</th>\n",
       "      <td>CatBoost</td>\n",
       "      <td>-</td>\n",
       "      <td>0.818041</td>\n",
       "      <td>0.605263</td>\n",
       "      <td>0.695747</td>\n",
       "      <td>0.911637</td>\n",
       "    </tr>\n",
       "    <tr>\n",
       "      <th>1</th>\n",
       "      <td>PU</td>\n",
       "      <td>0.25</td>\n",
       "      <td>0.710355</td>\n",
       "      <td>0.551124</td>\n",
       "      <td>0.620690</td>\n",
       "      <td>0.886035</td>\n",
       "    </tr>\n",
       "  </tbody>\n",
       "</table>\n",
       "</div>"
      ],
      "text/plain": [
       "      Model  Part    Recall  Precision        F1    RocAuc\n",
       "0  CatBoost     -  0.818041   0.605263  0.695747  0.911637\n",
       "1        PU  0.25  0.710355   0.551124  0.620690  0.886035"
      ]
     },
     "execution_count": 133,
     "metadata": {},
     "output_type": "execute_result"
    }
   ],
   "source": [
    "results"
   ]
  },
  {
   "cell_type": "markdown",
   "id": "owned-neutral",
   "metadata": {},
   "source": [
    "### Задание 6"
   ]
  },
  {
   "cell_type": "markdown",
   "id": "disabled-greeting",
   "metadata": {},
   "source": [
    "7. сравнить качество с решением из пункта 4 (построить отчет - таблицу метрик)"
   ]
  },
  {
   "cell_type": "markdown",
   "id": "located-definition",
   "metadata": {},
   "source": [
    "Для данной модели (Catboost) качество по основным метрикам с PU learning ниже, чем без него для доли в 25%."
   ]
  },
  {
   "cell_type": "markdown",
   "id": "royal-factor",
   "metadata": {},
   "source": [
    "### Задание 7"
   ]
  },
  {
   "cell_type": "markdown",
   "id": "behind-worry",
   "metadata": {},
   "source": [
    "8. поэкспериментировать с долей P на шаге 5 (как будет меняться качество модели при уменьшении/увеличении размера P)"
   ]
  },
  {
   "cell_type": "markdown",
   "id": "norman-tobago",
   "metadata": {},
   "source": [
    "Объявляем классификатор"
   ]
  },
  {
   "cell_type": "code",
   "execution_count": 141,
   "id": "rental-alabama",
   "metadata": {},
   "outputs": [],
   "source": [
    "cb_clf_pu_rat = CatBoostClassifier(iterations=20, \n",
    "                            depth = 2,\n",
    "                            thread_count=2, \n",
    "                            random_state=42, \n",
    "                            silent=True)"
   ]
  },
  {
   "cell_type": "markdown",
   "id": "approved-sacrifice",
   "metadata": {},
   "source": [
    "Назначаем ряд соотношений по которым будет выполняться выборка."
   ]
  },
  {
   "cell_type": "code",
   "execution_count": 138,
   "id": "quantitative-wheat",
   "metadata": {
    "scrolled": true
   },
   "outputs": [
    {
     "data": {
      "text/plain": [
       "array([0.1, 0.2, 0.3, 0.4, 0.5, 0.6, 0.7, 0.8, 0.9])"
      ]
     },
     "execution_count": 138,
     "metadata": {},
     "output_type": "execute_result"
    }
   ],
   "source": [
    "ratio = np.linspace(0.1, 0.9, 9)\n",
    "ratio"
   ]
  },
  {
   "cell_type": "markdown",
   "id": "turned-shock",
   "metadata": {},
   "source": [
    "Выполняем функции в цикле для каждого элемента из ряда."
   ]
  },
  {
   "cell_type": "code",
   "execution_count": 142,
   "id": "dependent-flooring",
   "metadata": {},
   "outputs": [],
   "source": [
    "for elem in ratio:\n",
    "    y_pu = pd.DataFrame(y_test)\n",
    "    positive_indices = list(y_pu.loc[(y_pu['earnings']==1)].index)\n",
    "    np.random.shuffle(positive_indices)\n",
    "    # part is set here\n",
    "    pos_sample_len = int(np.ceil(elem * len(positive_indices)))\n",
    "    pu_indices = positive_indices[:pos_sample_len]\n",
    "\n",
    "    X_test_merged = X_test.merge(y_test, left_index=True, right_index=True)\n",
    "    X_test_merged['class_test'] = -1\n",
    "    X_test_merged.at[pu_indices,'class_test'] = 1\n",
    "\n",
    "    X_pu = X_test_merged.iloc[:, :-2]\n",
    "    y_pu_labeled = X_test_merged.iloc[:, :-1]\n",
    "    y_pu_positive = X_test_merged.iloc[:,-2]\n",
    "\n",
    "    X_test_merged = X_test_merged.sample(frac=1)\n",
    "    neg_sample = X_test_merged[X_test_merged['class_test']==-1][:len(X_test_merged[X_test_merged['class_test']==1])]\n",
    "    sample_test = X_test_merged[X_test_merged['class_test']==-1][len(X_test_merged[X_test_merged['class_test']==1]):]\n",
    "    pos_sample = X_test_merged[X_test_merged['class_test']==1]\n",
    "\n",
    "    sample_train = pd.concat([neg_sample, pos_sample]).sample(frac=1)\n",
    "    sample_train.loc[sample_train['class_test']==-1,'class_test']=0\n",
    "\n",
    "    # training of model\n",
    "    cb_clf_pu.fit(sample_train.iloc[:,:-2], \n",
    "              sample_train.iloc[:,-1], \n",
    "              cat_features=cat_features)\n",
    " \n",
    "    #obtaining predictions\n",
    "    y_predict_proba = cb_clf_pu.predict_proba(sample_test.iloc[:,:-2])\n",
    "    y_pu_test = sample_test.iloc[:,-2]\n",
    "    \n",
    "    #calculation of metrics\n",
    "    precision, recall, thresholds = precision_recall_curve(y_pu_test, y_predict_proba[:, 1])\n",
    "    fscore = (2 * precision * recall) / (precision + recall)\n",
    "    auc = roc_auc_score(y_pu_test, y_predict_proba[:, 1])\n",
    "\n",
    "    ix = np.argmax(fscore)\n",
    "\n",
    "    #adding metrics to result dataframe\n",
    "    results = results.append({'Model':'PU-ratio',                                 \n",
    "                       'Part':elem, \n",
    "                       'Recall': recall[ix], \n",
    "                       'Precision':precision[ix], \n",
    "                       'F1':fscore[ix],\n",
    "                        'RocAuc' : auc}\n",
    "                      , ignore_index=True)\n",
    "    "
   ]
  },
  {
   "cell_type": "markdown",
   "id": "associate-toner",
   "metadata": {},
   "source": [
    "Вывод датафрэйма с результатами"
   ]
  },
  {
   "cell_type": "code",
   "execution_count": 143,
   "id": "patient-edward",
   "metadata": {},
   "outputs": [
    {
     "data": {
      "text/html": [
       "<div>\n",
       "<style scoped>\n",
       "    .dataframe tbody tr th:only-of-type {\n",
       "        vertical-align: middle;\n",
       "    }\n",
       "\n",
       "    .dataframe tbody tr th {\n",
       "        vertical-align: top;\n",
       "    }\n",
       "\n",
       "    .dataframe thead th {\n",
       "        text-align: right;\n",
       "    }\n",
       "</style>\n",
       "<table border=\"1\" class=\"dataframe\">\n",
       "  <thead>\n",
       "    <tr style=\"text-align: right;\">\n",
       "      <th></th>\n",
       "      <th>Model</th>\n",
       "      <th>Part</th>\n",
       "      <th>Recall</th>\n",
       "      <th>Precision</th>\n",
       "      <th>F1</th>\n",
       "      <th>RocAuc</th>\n",
       "    </tr>\n",
       "  </thead>\n",
       "  <tbody>\n",
       "    <tr>\n",
       "      <th>0</th>\n",
       "      <td>CatBoost</td>\n",
       "      <td>-</td>\n",
       "      <td>0.818041</td>\n",
       "      <td>0.605263</td>\n",
       "      <td>0.695747</td>\n",
       "      <td>0.911637</td>\n",
       "    </tr>\n",
       "    <tr>\n",
       "      <th>1</th>\n",
       "      <td>PU</td>\n",
       "      <td>0.25</td>\n",
       "      <td>0.710355</td>\n",
       "      <td>0.551124</td>\n",
       "      <td>0.620690</td>\n",
       "      <td>0.886035</td>\n",
       "    </tr>\n",
       "    <tr>\n",
       "      <th>2</th>\n",
       "      <td>PU-ratio</td>\n",
       "      <td>0.1</td>\n",
       "      <td>0.792920</td>\n",
       "      <td>0.521334</td>\n",
       "      <td>0.629066</td>\n",
       "      <td>0.874815</td>\n",
       "    </tr>\n",
       "    <tr>\n",
       "      <th>3</th>\n",
       "      <td>PU-ratio</td>\n",
       "      <td>0.2</td>\n",
       "      <td>0.750678</td>\n",
       "      <td>0.532181</td>\n",
       "      <td>0.622822</td>\n",
       "      <td>0.885030</td>\n",
       "    </tr>\n",
       "    <tr>\n",
       "      <th>4</th>\n",
       "      <td>PU-ratio</td>\n",
       "      <td>0.3</td>\n",
       "      <td>0.669841</td>\n",
       "      <td>0.563794</td>\n",
       "      <td>0.612260</td>\n",
       "      <td>0.890660</td>\n",
       "    </tr>\n",
       "    <tr>\n",
       "      <th>5</th>\n",
       "      <td>PU-ratio</td>\n",
       "      <td>0.4</td>\n",
       "      <td>0.683044</td>\n",
       "      <td>0.530292</td>\n",
       "      <td>0.597053</td>\n",
       "      <td>0.892649</td>\n",
       "    </tr>\n",
       "    <tr>\n",
       "      <th>6</th>\n",
       "      <td>PU-ratio</td>\n",
       "      <td>0.5</td>\n",
       "      <td>0.614057</td>\n",
       "      <td>0.529224</td>\n",
       "      <td>0.568493</td>\n",
       "      <td>0.900509</td>\n",
       "    </tr>\n",
       "    <tr>\n",
       "      <th>7</th>\n",
       "      <td>PU-ratio</td>\n",
       "      <td>0.6</td>\n",
       "      <td>0.647328</td>\n",
       "      <td>0.500000</td>\n",
       "      <td>0.564205</td>\n",
       "      <td>0.908282</td>\n",
       "    </tr>\n",
       "    <tr>\n",
       "      <th>8</th>\n",
       "      <td>PU-ratio</td>\n",
       "      <td>0.7</td>\n",
       "      <td>0.552174</td>\n",
       "      <td>0.466912</td>\n",
       "      <td>0.505976</td>\n",
       "      <td>0.898525</td>\n",
       "    </tr>\n",
       "    <tr>\n",
       "      <th>9</th>\n",
       "      <td>PU-ratio</td>\n",
       "      <td>0.8</td>\n",
       "      <td>0.422297</td>\n",
       "      <td>0.520833</td>\n",
       "      <td>0.466418</td>\n",
       "      <td>0.901772</td>\n",
       "    </tr>\n",
       "    <tr>\n",
       "      <th>10</th>\n",
       "      <td>PU-ratio</td>\n",
       "      <td>0.9</td>\n",
       "      <td>0.404412</td>\n",
       "      <td>0.443548</td>\n",
       "      <td>0.423077</td>\n",
       "      <td>0.913953</td>\n",
       "    </tr>\n",
       "  </tbody>\n",
       "</table>\n",
       "</div>"
      ],
      "text/plain": [
       "       Model  Part    Recall  Precision        F1    RocAuc\n",
       "0   CatBoost     -  0.818041   0.605263  0.695747  0.911637\n",
       "1         PU  0.25  0.710355   0.551124  0.620690  0.886035\n",
       "2   PU-ratio   0.1  0.792920   0.521334  0.629066  0.874815\n",
       "3   PU-ratio   0.2  0.750678   0.532181  0.622822  0.885030\n",
       "4   PU-ratio   0.3  0.669841   0.563794  0.612260  0.890660\n",
       "5   PU-ratio   0.4  0.683044   0.530292  0.597053  0.892649\n",
       "6   PU-ratio   0.5  0.614057   0.529224  0.568493  0.900509\n",
       "7   PU-ratio   0.6  0.647328   0.500000  0.564205  0.908282\n",
       "8   PU-ratio   0.7  0.552174   0.466912  0.505976  0.898525\n",
       "9   PU-ratio   0.8  0.422297   0.520833  0.466418  0.901772\n",
       "10  PU-ratio   0.9  0.404412   0.443548  0.423077  0.913953"
      ]
     },
     "execution_count": 143,
     "metadata": {},
     "output_type": "execute_result"
    }
   ],
   "source": [
    "results"
   ]
  },
  {
   "cell_type": "markdown",
   "id": "tender-ratio",
   "metadata": {},
   "source": [
    "#### Выводы\n",
    "Судя по полученным результатам, качетсво предсказаний снижается по мере увеличения выбранной величины.  \n",
    "Если верить полученным результатам, применение PU обучения нецелесообразно для данного датасета и при даннй модели.  \n",
    "Наилучшее качество предсказания в данном случае получается при применении \"чистой\" модели.  \n",
    "Данный вывод применим исключительно к данному датасету."
   ]
  },
  {
   "cell_type": "code",
   "execution_count": null,
   "id": "boxed-hospital",
   "metadata": {},
   "outputs": [],
   "source": []
  }
 ],
 "metadata": {
  "kernelspec": {
   "display_name": "Python 3",
   "language": "python",
   "name": "python3"
  },
  "language_info": {
   "codemirror_mode": {
    "name": "ipython",
    "version": 3
   },
   "file_extension": ".py",
   "mimetype": "text/x-python",
   "name": "python",
   "nbconvert_exporter": "python",
   "pygments_lexer": "ipython3",
   "version": "3.9.1"
  }
 },
 "nbformat": 4,
 "nbformat_minor": 5
}
